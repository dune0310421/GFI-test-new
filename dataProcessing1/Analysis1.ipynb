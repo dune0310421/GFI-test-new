{
 "cells": [
  {
   "cell_type": "code",
   "execution_count": 1,
   "metadata": {},
   "outputs": [
    {
     "name": "stderr",
     "output_type": "stream",
     "text": [
      "[nltk_data] Downloading package wordnet to E:\\nltk_data...\n",
      "[nltk_data]   Package wordnet is already up-to-date!\n",
      "[nltk_data] Downloading package omw-1.4 to E:\\nltk_data...\n",
      "[nltk_data]   Package omw-1.4 is already up-to-date!\n"
     ]
    },
    {
     "data": {
      "text/plain": [
       "True"
      ]
     },
     "execution_count": 1,
     "metadata": {},
     "output_type": "execute_result"
    }
   ],
   "source": [
    "import re\n",
    "import nltk\n",
    "import textstat\n",
    "import pandas as pd\n",
    "import numpy as np\n",
    "import datetime\n",
    "import statsmodels.api as sm\n",
    "from collections import Counter\n",
    "from scipy.stats import mannwhitneyu\n",
    "import matplotlib.pyplot as plt\n",
    "import pymongo\n",
    "\n",
    "nltk.download(\"wordnet\")\n",
    "nltk.download(\"omw-1.4\")"
   ]
  },
  {
   "cell_type": "code",
   "execution_count": 2,
   "metadata": {},
   "outputs": [],
   "source": [
    "def connect_mongo(query={},host='localhost', port=27017, username=None, password=None, no_id=True):\n",
    "    if username and password:\n",
    "        mongo_uri = \"mongodb://%s:%s@%s:%s/%s\" % (username, password, host, port, db)\n",
    "        client = pymongo.MongoClient(mongo_uri)\n",
    "    else:\n",
    "        client = pymongo.MongoClient(host, port)\n",
    "    return client\n",
    "    \n",
    "client = connect_mongo()\n",
    "collect = client.issues.first_issues\n",
    "tmp_collect = client.gfibot.resolved_issue\n",
    "# db = collect.find({\"resolver_commit_num\":{\"$gte\": 0, \"$lte\": 2}}).sort(\"closed_at\",pymongo.ASCENDING)"
   ]
  },
  {
   "cell_type": "code",
   "execution_count": 3,
   "metadata": {},
   "outputs": [],
   "source": [
    "df = pd.DataFrame(list(collect.find()))"
   ]
  },
  {
   "cell_type": "code",
   "execution_count": 4,
   "metadata": {},
   "outputs": [],
   "source": [
    "otc = set()\n",
    "cnt = 0\n",
    "for data in collect.find():\n",
    "    if tmp_collect.count_documents({\"owner\":data[\"owner\"],\"name\":data[\"name\"],\"resolver\":data[\"resolver\"]}) <= 1:\n",
    "#         print(data[\"owner\"], data[\"name\"], data[\"resolver\"],tmp_collect.count_documents({\"owner\":data[\"owner\"],\"name\":data[\"name\"],\"resolver\":data[\"resolver\"]}))\n",
    "        otc.add(data[\"owner\"]+\"/\"+data[\"name\"]+\"/\"+data[\"resolver\"])\n",
    "    else:\n",
    "        res = tmp_collect.find({\"owner\":data[\"owner\"],\"name\":data[\"name\"],\"resolver\":data[\"resolver\"]}).sort([(\"resolved_at\",-1)]).skip(0).limit(1)\n",
    "        for item in res:\n",
    "            if (item[\"resolved_at\"]-data[\"closed_at\"]).days<1:\n",
    "                otc.add(item[\"owner\"]+\"/\"+item[\"name\"]+\"/\"+item[\"resolver\"])"
   ]
  },
  {
   "cell_type": "code",
   "execution_count": 5,
   "metadata": {},
   "outputs": [
    {
     "data": {
      "text/plain": [
       "8427"
      ]
     },
     "execution_count": 5,
     "metadata": {},
     "output_type": "execute_result"
    }
   ],
   "source": [
    "len(otc)"
   ]
  },
  {
   "cell_type": "code",
   "execution_count": 6,
   "metadata": {},
   "outputs": [],
   "source": [
    "otc_iss, notc_iss = df[(df.owner+\"/\"+df.name+\"/\"+df.resolver).isin(otc)], df[~(df.owner+\"/\"+df.name+\"/\"+df.resolver).isin(otc)]"
   ]
  },
  {
   "cell_type": "code",
   "execution_count": 7,
   "metadata": {},
   "outputs": [
    {
     "data": {
      "text/plain": [
       "(10892, 4049)"
      ]
     },
     "execution_count": 7,
     "metadata": {},
     "output_type": "execute_result"
    }
   ],
   "source": [
    "len(otc_iss), len(notc_iss)"
   ]
  },
  {
   "cell_type": "code",
   "execution_count": 8,
   "metadata": {},
   "outputs": [],
   "source": [
    "metrics = [\n",
    "    \"len_title\", \"len_body\", \n",
    "    \"n_code_snips\", \"n_urls\", \"n_imgs\", \n",
    "    \"coleman_liau_index\", \n",
    "    \"flesch_reading_ease\", \"flesch_kincaid_grade\", \"automated_readability_index\",     \n",
    "]"
   ]
  },
  {
   "cell_type": "code",
   "execution_count": 9,
   "metadata": {},
   "outputs": [
    {
     "data": {
      "text/html": [
       "<div>\n",
       "<style scoped>\n",
       "    .dataframe tbody tr th:only-of-type {\n",
       "        vertical-align: middle;\n",
       "    }\n",
       "\n",
       "    .dataframe tbody tr th {\n",
       "        vertical-align: top;\n",
       "    }\n",
       "\n",
       "    .dataframe thead th {\n",
       "        text-align: right;\n",
       "    }\n",
       "</style>\n",
       "<table border=\"1\" class=\"dataframe\">\n",
       "  <thead>\n",
       "    <tr style=\"text-align: right;\">\n",
       "      <th></th>\n",
       "      <th>len_title</th>\n",
       "      <th>len_body</th>\n",
       "      <th>n_code_snips</th>\n",
       "      <th>n_urls</th>\n",
       "      <th>n_imgs</th>\n",
       "      <th>coleman_liau_index</th>\n",
       "      <th>flesch_reading_ease</th>\n",
       "      <th>flesch_kincaid_grade</th>\n",
       "      <th>automated_readability_index</th>\n",
       "    </tr>\n",
       "  </thead>\n",
       "  <tbody>\n",
       "    <tr>\n",
       "      <th>count</th>\n",
       "      <td>10892.000000</td>\n",
       "      <td>10892.000000</td>\n",
       "      <td>10892.000000</td>\n",
       "      <td>10892.000000</td>\n",
       "      <td>10892.000000</td>\n",
       "      <td>10892.000000</td>\n",
       "      <td>10892.000000</td>\n",
       "      <td>10892.000000</td>\n",
       "      <td>10892.000000</td>\n",
       "    </tr>\n",
       "    <tr>\n",
       "      <th>mean</th>\n",
       "      <td>7.736412</td>\n",
       "      <td>103.321796</td>\n",
       "      <td>0.762303</td>\n",
       "      <td>1.503764</td>\n",
       "      <td>0.010834</td>\n",
       "      <td>16.535481</td>\n",
       "      <td>49.939311</td>\n",
       "      <td>9.689120</td>\n",
       "      <td>17.517086</td>\n",
       "    </tr>\n",
       "    <tr>\n",
       "      <th>std</th>\n",
       "      <td>3.281546</td>\n",
       "      <td>101.163983</td>\n",
       "      <td>1.306897</td>\n",
       "      <td>3.339742</td>\n",
       "      <td>0.135757</td>\n",
       "      <td>30.831954</td>\n",
       "      <td>79.857317</td>\n",
       "      <td>11.226998</td>\n",
       "      <td>28.905172</td>\n",
       "    </tr>\n",
       "    <tr>\n",
       "      <th>min</th>\n",
       "      <td>1.000000</td>\n",
       "      <td>0.000000</td>\n",
       "      <td>0.000000</td>\n",
       "      <td>0.000000</td>\n",
       "      <td>0.000000</td>\n",
       "      <td>-28.010000</td>\n",
       "      <td>-4550.100000</td>\n",
       "      <td>-15.700000</td>\n",
       "      <td>-6.900000</td>\n",
       "    </tr>\n",
       "    <tr>\n",
       "      <th>25%</th>\n",
       "      <td>5.000000</td>\n",
       "      <td>37.000000</td>\n",
       "      <td>0.000000</td>\n",
       "      <td>0.000000</td>\n",
       "      <td>0.000000</td>\n",
       "      <td>9.710000</td>\n",
       "      <td>44.410000</td>\n",
       "      <td>6.800000</td>\n",
       "      <td>10.300000</td>\n",
       "    </tr>\n",
       "    <tr>\n",
       "      <th>50%</th>\n",
       "      <td>7.000000</td>\n",
       "      <td>75.000000</td>\n",
       "      <td>0.000000</td>\n",
       "      <td>1.000000</td>\n",
       "      <td>0.000000</td>\n",
       "      <td>12.440000</td>\n",
       "      <td>57.870000</td>\n",
       "      <td>8.700000</td>\n",
       "      <td>13.400000</td>\n",
       "    </tr>\n",
       "    <tr>\n",
       "      <th>75%</th>\n",
       "      <td>10.000000</td>\n",
       "      <td>142.000000</td>\n",
       "      <td>1.000000</td>\n",
       "      <td>2.000000</td>\n",
       "      <td>0.000000</td>\n",
       "      <td>16.600000</td>\n",
       "      <td>68.200000</td>\n",
       "      <td>11.100000</td>\n",
       "      <td>17.800000</td>\n",
       "    </tr>\n",
       "    <tr>\n",
       "      <th>max</th>\n",
       "      <td>40.000000</td>\n",
       "      <td>2504.000000</td>\n",
       "      <td>18.000000</td>\n",
       "      <td>274.000000</td>\n",
       "      <td>6.000000</td>\n",
       "      <td>1925.410000</td>\n",
       "      <td>206.840000</td>\n",
       "      <td>650.600000</td>\n",
       "      <td>1609.300000</td>\n",
       "    </tr>\n",
       "  </tbody>\n",
       "</table>\n",
       "</div>"
      ],
      "text/plain": [
       "          len_title      len_body  n_code_snips        n_urls        n_imgs  \\\n",
       "count  10892.000000  10892.000000  10892.000000  10892.000000  10892.000000   \n",
       "mean       7.736412    103.321796      0.762303      1.503764      0.010834   \n",
       "std        3.281546    101.163983      1.306897      3.339742      0.135757   \n",
       "min        1.000000      0.000000      0.000000      0.000000      0.000000   \n",
       "25%        5.000000     37.000000      0.000000      0.000000      0.000000   \n",
       "50%        7.000000     75.000000      0.000000      1.000000      0.000000   \n",
       "75%       10.000000    142.000000      1.000000      2.000000      0.000000   \n",
       "max       40.000000   2504.000000     18.000000    274.000000      6.000000   \n",
       "\n",
       "       coleman_liau_index  flesch_reading_ease  flesch_kincaid_grade  \\\n",
       "count        10892.000000         10892.000000          10892.000000   \n",
       "mean            16.535481            49.939311              9.689120   \n",
       "std             30.831954            79.857317             11.226998   \n",
       "min            -28.010000         -4550.100000            -15.700000   \n",
       "25%              9.710000            44.410000              6.800000   \n",
       "50%             12.440000            57.870000              8.700000   \n",
       "75%             16.600000            68.200000             11.100000   \n",
       "max           1925.410000           206.840000            650.600000   \n",
       "\n",
       "       automated_readability_index  \n",
       "count                 10892.000000  \n",
       "mean                     17.517086  \n",
       "std                      28.905172  \n",
       "min                      -6.900000  \n",
       "25%                      10.300000  \n",
       "50%                      13.400000  \n",
       "75%                      17.800000  \n",
       "max                    1609.300000  "
      ]
     },
     "execution_count": 9,
     "metadata": {},
     "output_type": "execute_result"
    }
   ],
   "source": [
    "otc_iss[metrics].describe()"
   ]
  },
  {
   "cell_type": "code",
   "execution_count": 10,
   "metadata": {},
   "outputs": [
    {
     "data": {
      "text/html": [
       "<div>\n",
       "<style scoped>\n",
       "    .dataframe tbody tr th:only-of-type {\n",
       "        vertical-align: middle;\n",
       "    }\n",
       "\n",
       "    .dataframe tbody tr th {\n",
       "        vertical-align: top;\n",
       "    }\n",
       "\n",
       "    .dataframe thead th {\n",
       "        text-align: right;\n",
       "    }\n",
       "</style>\n",
       "<table border=\"1\" class=\"dataframe\">\n",
       "  <thead>\n",
       "    <tr style=\"text-align: right;\">\n",
       "      <th></th>\n",
       "      <th>len_title</th>\n",
       "      <th>len_body</th>\n",
       "      <th>n_code_snips</th>\n",
       "      <th>n_urls</th>\n",
       "      <th>n_imgs</th>\n",
       "      <th>coleman_liau_index</th>\n",
       "      <th>flesch_reading_ease</th>\n",
       "      <th>flesch_kincaid_grade</th>\n",
       "      <th>automated_readability_index</th>\n",
       "    </tr>\n",
       "  </thead>\n",
       "  <tbody>\n",
       "    <tr>\n",
       "      <th>count</th>\n",
       "      <td>4049.000000</td>\n",
       "      <td>4049.000000</td>\n",
       "      <td>4049.000000</td>\n",
       "      <td>4049.000000</td>\n",
       "      <td>4049.000000</td>\n",
       "      <td>4049.000000</td>\n",
       "      <td>4049.000000</td>\n",
       "      <td>4049.000000</td>\n",
       "      <td>4049.000000</td>\n",
       "    </tr>\n",
       "    <tr>\n",
       "      <th>mean</th>\n",
       "      <td>7.612744</td>\n",
       "      <td>99.076068</td>\n",
       "      <td>0.705359</td>\n",
       "      <td>1.288713</td>\n",
       "      <td>0.010373</td>\n",
       "      <td>15.011437</td>\n",
       "      <td>54.656056</td>\n",
       "      <td>9.068684</td>\n",
       "      <td>16.239195</td>\n",
       "    </tr>\n",
       "    <tr>\n",
       "      <th>std</th>\n",
       "      <td>3.221361</td>\n",
       "      <td>126.011066</td>\n",
       "      <td>1.303072</td>\n",
       "      <td>2.168398</td>\n",
       "      <td>0.129193</td>\n",
       "      <td>15.834378</td>\n",
       "      <td>44.569108</td>\n",
       "      <td>6.748208</td>\n",
       "      <td>15.869130</td>\n",
       "    </tr>\n",
       "    <tr>\n",
       "      <th>min</th>\n",
       "      <td>1.000000</td>\n",
       "      <td>0.000000</td>\n",
       "      <td>0.000000</td>\n",
       "      <td>0.000000</td>\n",
       "      <td>0.000000</td>\n",
       "      <td>-15.810000</td>\n",
       "      <td>-978.590000</td>\n",
       "      <td>-15.700000</td>\n",
       "      <td>-4.400000</td>\n",
       "    </tr>\n",
       "    <tr>\n",
       "      <th>25%</th>\n",
       "      <td>5.000000</td>\n",
       "      <td>35.000000</td>\n",
       "      <td>0.000000</td>\n",
       "      <td>0.000000</td>\n",
       "      <td>0.000000</td>\n",
       "      <td>9.570000</td>\n",
       "      <td>45.010000</td>\n",
       "      <td>6.600000</td>\n",
       "      <td>10.200000</td>\n",
       "    </tr>\n",
       "    <tr>\n",
       "      <th>50%</th>\n",
       "      <td>7.000000</td>\n",
       "      <td>71.000000</td>\n",
       "      <td>0.000000</td>\n",
       "      <td>1.000000</td>\n",
       "      <td>0.000000</td>\n",
       "      <td>12.530000</td>\n",
       "      <td>58.620000</td>\n",
       "      <td>8.600000</td>\n",
       "      <td>13.500000</td>\n",
       "    </tr>\n",
       "    <tr>\n",
       "      <th>75%</th>\n",
       "      <td>9.000000</td>\n",
       "      <td>137.000000</td>\n",
       "      <td>1.000000</td>\n",
       "      <td>2.000000</td>\n",
       "      <td>0.000000</td>\n",
       "      <td>16.630000</td>\n",
       "      <td>69.110000</td>\n",
       "      <td>11.000000</td>\n",
       "      <td>17.800000</td>\n",
       "    </tr>\n",
       "    <tr>\n",
       "      <th>max</th>\n",
       "      <td>34.000000</td>\n",
       "      <td>5610.000000</td>\n",
       "      <td>36.000000</td>\n",
       "      <td>61.000000</td>\n",
       "      <td>3.000000</td>\n",
       "      <td>291.300000</td>\n",
       "      <td>206.840000</td>\n",
       "      <td>150.000000</td>\n",
       "      <td>295.100000</td>\n",
       "    </tr>\n",
       "  </tbody>\n",
       "</table>\n",
       "</div>"
      ],
      "text/plain": [
       "         len_title     len_body  n_code_snips       n_urls       n_imgs  \\\n",
       "count  4049.000000  4049.000000   4049.000000  4049.000000  4049.000000   \n",
       "mean      7.612744    99.076068      0.705359     1.288713     0.010373   \n",
       "std       3.221361   126.011066      1.303072     2.168398     0.129193   \n",
       "min       1.000000     0.000000      0.000000     0.000000     0.000000   \n",
       "25%       5.000000    35.000000      0.000000     0.000000     0.000000   \n",
       "50%       7.000000    71.000000      0.000000     1.000000     0.000000   \n",
       "75%       9.000000   137.000000      1.000000     2.000000     0.000000   \n",
       "max      34.000000  5610.000000     36.000000    61.000000     3.000000   \n",
       "\n",
       "       coleman_liau_index  flesch_reading_ease  flesch_kincaid_grade  \\\n",
       "count         4049.000000          4049.000000           4049.000000   \n",
       "mean            15.011437            54.656056              9.068684   \n",
       "std             15.834378            44.569108              6.748208   \n",
       "min            -15.810000          -978.590000            -15.700000   \n",
       "25%              9.570000            45.010000              6.600000   \n",
       "50%             12.530000            58.620000              8.600000   \n",
       "75%             16.630000            69.110000             11.000000   \n",
       "max            291.300000           206.840000            150.000000   \n",
       "\n",
       "       automated_readability_index  \n",
       "count                  4049.000000  \n",
       "mean                     16.239195  \n",
       "std                      15.869130  \n",
       "min                      -4.400000  \n",
       "25%                      10.200000  \n",
       "50%                      13.500000  \n",
       "75%                      17.800000  \n",
       "max                     295.100000  "
      ]
     },
     "execution_count": 10,
     "metadata": {},
     "output_type": "execute_result"
    }
   ],
   "source": [
    "notc_iss[metrics].describe()"
   ]
  },
  {
   "cell_type": "code",
   "execution_count": 11,
   "metadata": {},
   "outputs": [
    {
     "name": "stdout",
     "output_type": "stream",
     "text": [
      "len_title                      MannwhitneyuResult(statistic=21594126.0, pvalue=0.025048848587122967)\n",
      "len_body                       MannwhitneyuResult(statistic=21353051.0, pvalue=0.00145154860230282)\n",
      "n_code_snips                   MannwhitneyuResult(statistic=21651693.0, pvalue=0.024792098069734522)\n",
      "n_urls                         MannwhitneyuResult(statistic=20743280.5, pvalue=2.839968124617133e-09)\n",
      "n_imgs                         MannwhitneyuResult(statistic=22038918.0, pvalue=0.37291824140301344)\n",
      "coleman_liau_index             MannwhitneyuResult(statistic=21865428.0, pvalue=0.21439103568899498)\n",
      "flesch_reading_ease            MannwhitneyuResult(statistic=21483233.0, pvalue=0.00771252605531581)\n",
      "flesch_kincaid_grade           MannwhitneyuResult(statistic=21627310.5, pvalue=0.03534201865927662)\n",
      "automated_readability_index    MannwhitneyuResult(statistic=21926032.0, pvalue=0.2971322029744101)\n"
     ]
    }
   ],
   "source": [
    "for metric in metrics:\n",
    "    print(f\"{metric:30} {mannwhitneyu(otc_iss[metric], notc_iss[metric])}\")"
   ]
  },
  {
   "cell_type": "code",
   "execution_count": 12,
   "metadata": {},
   "outputs": [
    {
     "data": {
      "text/plain": [
       "[('good first issue', 0.17223650385604114),\n",
       " ('help wanted', 0.1136614028644877),\n",
       " ('bug', 0.10705104663973558),\n",
       " ('Bug', 0.08272126331252296),\n",
       " ('enhancement', 0.053433712816746234),\n",
       " ('waffle:review', 0.024329783327212633),\n",
       " ('Docs', 0.023411678295997062),\n",
       " ('accepted', 0.022769004774146163),\n",
       " ('Effort Low', 0.02157546823356592),\n",
       " ('Easy', 0.01973925817113478),\n",
       " ('easy', 0.019555637164891664),\n",
       " ('Documentation', 0.01882115313991921),\n",
       " ('feature-request', 0.017627616599338966),\n",
       " ('docs', 0.017076753580609623),\n",
       " ('rule', 0.016709511568123392),\n",
       " ('<Bug>', 0.016066838046272493),\n",
       " ('up-for-grabs', 0.015607785530664707),\n",
       " ('hacktoberfest', 0.015056922511935366),\n",
       " ('type: bug', 0.01459786999632758),\n",
       " ('has PR', 0.012853470437017995)]"
      ]
     },
     "execution_count": 12,
     "metadata": {},
     "output_type": "execute_result"
    }
   ],
   "source": [
    "list(map(\n",
    "    lambda x: (x[0], x[1] / len(otc_iss)), \n",
    "    sorted(Counter(sum(otc_iss.labels, [])).items(), key=lambda x: -x[1])[0:20]\n",
    "))"
   ]
  },
  {
   "cell_type": "code",
   "execution_count": 13,
   "metadata": {},
   "outputs": [
    {
     "data": {
      "text/plain": [
       "[('good first issue', 0.20671770807606815),\n",
       " ('bug', 0.14596196591751048),\n",
       " ('help wanted', 0.10570511237342553),\n",
       " ('Bug', 0.08150160533465053),\n",
       " ('enhancement', 0.05828599654235614),\n",
       " ('feature-request', 0.03013089651765868),\n",
       " ('Good First Issue', 0.02543837984687577),\n",
       " ('Effort Low', 0.022721659669054088),\n",
       " ('accepted', 0.019510990367992097),\n",
       " ('Docs', 0.01901704124475179),\n",
       " ('easy', 0.018523092121511483),\n",
       " ('Easy', 0.017782168436651025),\n",
       " ('Hacktoberfest', 0.017288219313410718),\n",
       " ('<Bug>', 0.017288219313410718),\n",
       " ('in progress', 0.016794270190170414),\n",
       " ('rule', 0.016300321066930107),\n",
       " ('Documentation', 0.016300321066930107),\n",
       " ('type: bug', 0.014818473697209187),\n",
       " ('effort/small', 0.014571499135589035),\n",
       " ('Needs Tests', 0.013336626327488268)]"
      ]
     },
     "execution_count": 13,
     "metadata": {},
     "output_type": "execute_result"
    }
   ],
   "source": [
    "list(map(\n",
    "    lambda x: (x[0], x[1] / len(notc_iss)), \n",
    "    sorted(Counter(sum(notc_iss.labels, [])).items(), key=lambda x: -x[1])[0:20]\n",
    "))"
   ]
  },
  {
   "cell_type": "code",
   "execution_count": null,
   "metadata": {},
   "outputs": [],
   "source": []
  },
  {
   "cell_type": "code",
   "execution_count": 14,
   "metadata": {},
   "outputs": [
    {
     "data": {
      "text/plain": [
       "Counter({'bug': 0.2465564738292011,\n",
       "         'feature': 0.05404310484524388,\n",
       "         'test': 0.023091881380651436,\n",
       "         'build': 0.011505428617728084,\n",
       "         'doc': 0.08215848322800194,\n",
       "         'coding': 0.016042780748663103,\n",
       "         'enhance': 0.07672986549991898,\n",
       "         'gfi': 0.3331712850429428,\n",
       "         'medium': 0.021147301895964997,\n",
       "         'major': 0.04885755955274672,\n",
       "         'triaged': 0.07243558580456977,\n",
       "         'untriaged': 0.0142602495543672})"
      ]
     },
     "execution_count": 14,
     "metadata": {},
     "output_type": "execute_result"
    }
   ],
   "source": [
    "counter1 = Counter()\n",
    "for cat in otc_iss.label_category:\n",
    "    counter1.update(cat)\n",
    "total = sum(counter1.values())\n",
    "for k, v in counter1.items():\n",
    "    counter1[k] = v / total\n",
    "counter1"
   ]
  },
  {
   "cell_type": "code",
   "execution_count": 15,
   "metadata": {},
   "outputs": [
    {
     "data": {
      "text/plain": [
       "Counter({'bug': 0.2602739726027397,\n",
       "         'feature': 0.06103948428686543,\n",
       "         'test': 0.021958098307816278,\n",
       "         'build': 0.01732473811442385,\n",
       "         'doc': 0.06385979049153909,\n",
       "         'coding': 0.02115229653505238,\n",
       "         'enhance': 0.07695406929895246,\n",
       "         'gfi': 0.3450846091861402,\n",
       "         'medium': 0.015914585012087028,\n",
       "         'major': 0.036663980660757454,\n",
       "         'triaged': 0.06486704270749395,\n",
       "         'untriaged': 0.014907332796132152})"
      ]
     },
     "execution_count": 15,
     "metadata": {},
     "output_type": "execute_result"
    }
   ],
   "source": [
    "counter2 = Counter()\n",
    "for cat in notc_iss.label_category:\n",
    "    counter2.update(cat)\n",
    "total = sum(counter2.values())\n",
    "for k, v in counter2.items():\n",
    "    counter2[k] = v / total\n",
    "counter2"
   ]
  },
  {
   "cell_type": "code",
   "execution_count": 16,
   "metadata": {},
   "outputs": [
    {
     "data": {
      "text/plain": [
       "Text(0, 0.5, 'ratio')"
      ]
     },
     "execution_count": 16,
     "metadata": {},
     "output_type": "execute_result"
    },
    {
     "data": {
      "image/png": "[encoded data removed]",
      "text/plain": [
       "<Figure size 720x360 with 1 Axes>"
      ]
     },
     "metadata": {
      "needs_background": "light"
     },
     "output_type": "display_data"
    }
   ],
   "source": [
    "plt.figure(figsize=(10,5))\n",
    "# x轴\n",
    "x_counter = counter1.keys()\n",
    "# 第一条折\n",
    "y_counter1 = counter1.values()\n",
    "y_counter2 = counter2.values()\n",
    "\n",
    "plt.plot(x_counter, y_counter1, marker='o',label='otc')\n",
    "plt.plot(x_counter, y_counter2, marker='*',label='notc')\n",
    "plt.legend()  # 让图例生效\n",
    " \n",
    "# 显示标签，如果不加这句，即使在plot中加了label='一些数字'的参数，最终还是不会显示标签\n",
    "plt.legend(loc=\"upper right\")\n",
    "plt.xlabel('label_category')\n",
    "plt.ylabel('ratio')"
   ]
  },
  {
   "cell_type": "code",
   "execution_count": 35,
   "metadata": {},
   "outputs": [],
   "source": [
    "otc_events = dict(map(\n",
    "    lambda x: (x[0], x[1] / len(otc_iss)), \n",
    "    sorted(Counter(sum(otc_iss.events, [])).items(), key=lambda x: -x[1])[0:20]\n",
    "))"
   ]
  },
  {
   "cell_type": "code",
   "execution_count": 38,
   "metadata": {},
   "outputs": [],
   "source": [
    "notc_events = dict(map(\n",
    "    lambda x: (x[0], x[1] / len(notc_iss)), \n",
    "    sorted(Counter(sum(notc_iss.events, [])).items(), key=lambda x: -x[1])[0:20]\n",
    "))"
   ]
  },
  {
   "cell_type": "code",
   "execution_count": 45,
   "metadata": {},
   "outputs": [
    {
     "name": "stdout",
     "output_type": "stream",
     "text": [
      "True\n"
     ]
    },
    {
     "data": {
      "image/png": "[encoded data removed]",
      "text/plain": [
       "<Figure size 720x360 with 1 Axes>"
      ]
     },
     "metadata": {
      "needs_background": "light"
     },
     "output_type": "display_data"
    }
   ],
   "source": [
    "plt.figure(figsize=(10,5))\n",
    "# x轴\n",
    "x_counter = otc_events.keys()\n",
    "x_counter1 = notc_events.keys()\n",
    "print(x_counter == x_counter1)\n",
    "# y轴\n",
    "y_counter1 = otc_events.values()\n",
    "y_counter2 = [notc_events[key] for key in x_counter]\n",
    "\n",
    "plt.plot(x_counter, y_counter1, marker='o',label='otc')\n",
    "plt.plot(x_counter, y_counter2, marker='*',label='notc')\n",
    "plt.legend()  # 让图例生效\n",
    " \n",
    "plt.legend(loc=\"upper right\")\n",
    "plt.xlabel('events')\n",
    "plt.ylabel('avg_n')\n",
    "res = plt.xticks(rotation=90)"
   ]
  },
  {
   "cell_type": "code",
   "execution_count": 19,
   "metadata": {},
   "outputs": [],
   "source": [
    "same1 = list(1 if otc_iss.loc[x].reporter_feat[\"name\"] == otc_iss.loc[x].resolver else 0 for x in otc_iss.index)\n",
    "same2 = list(1 if notc_iss.loc[x].reporter_feat[\"name\"] == notc_iss.loc[x].resolver else 0 for x in notc_iss.index)"
   ]
  },
  {
   "cell_type": "code",
   "execution_count": 20,
   "metadata": {},
   "outputs": [
    {
     "name": "stdout",
     "output_type": "stream",
     "text": [
      "0.38753213367609257 0.27068411953568783\n",
      "MannwhitneyuResult(statistic=19474255.5, pvalue=1.999072116707632e-40)\n"
     ]
    }
   ],
   "source": [
    "print(sum(same1)/len(same1),sum(same2)/len(same2))\n",
    "print(mannwhitneyu(same1, same2))"
   ]
  },
  {
   "cell_type": "code",
   "execution_count": 47,
   "metadata": {},
   "outputs": [],
   "source": [
    "metrics_bg = [\n",
    "    \"n_stars\", \"n_pulls\", \"n_commits\", \"n_contributors\", \"n_closed_issues\", \"n_open_issues\", \"r_open_issues\"\n",
    "]"
   ]
  },
  {
   "cell_type": "code",
   "execution_count": 48,
   "metadata": {},
   "outputs": [
    {
     "data": {
      "text/html": [
       "<div>\n",
       "<style scoped>\n",
       "    .dataframe tbody tr th:only-of-type {\n",
       "        vertical-align: middle;\n",
       "    }\n",
       "\n",
       "    .dataframe tbody tr th {\n",
       "        vertical-align: top;\n",
       "    }\n",
       "\n",
       "    .dataframe thead th {\n",
       "        text-align: right;\n",
       "    }\n",
       "</style>\n",
       "<table border=\"1\" class=\"dataframe\">\n",
       "  <thead>\n",
       "    <tr style=\"text-align: right;\">\n",
       "      <th></th>\n",
       "      <th>n_stars</th>\n",
       "      <th>n_pulls</th>\n",
       "      <th>n_commits</th>\n",
       "      <th>n_contributors</th>\n",
       "      <th>n_closed_issues</th>\n",
       "      <th>n_open_issues</th>\n",
       "      <th>r_open_issues</th>\n",
       "    </tr>\n",
       "  </thead>\n",
       "  <tbody>\n",
       "    <tr>\n",
       "      <th>count</th>\n",
       "      <td>10892.000000</td>\n",
       "      <td>10892.000000</td>\n",
       "      <td>10892.000000</td>\n",
       "      <td>10892.000000</td>\n",
       "      <td>10892.000000</td>\n",
       "      <td>10892.000000</td>\n",
       "      <td>10892.000000</td>\n",
       "    </tr>\n",
       "    <tr>\n",
       "      <th>mean</th>\n",
       "      <td>14940.805362</td>\n",
       "      <td>6615.854848</td>\n",
       "      <td>16058.257345</td>\n",
       "      <td>674.929490</td>\n",
       "      <td>6300.897907</td>\n",
       "      <td>1018.086669</td>\n",
       "      <td>0.166612</td>\n",
       "    </tr>\n",
       "    <tr>\n",
       "      <th>std</th>\n",
       "      <td>14773.338262</td>\n",
       "      <td>7544.576970</td>\n",
       "      <td>18349.280726</td>\n",
       "      <td>748.843886</td>\n",
       "      <td>7620.832120</td>\n",
       "      <td>1385.537218</td>\n",
       "      <td>0.118561</td>\n",
       "    </tr>\n",
       "    <tr>\n",
       "      <th>min</th>\n",
       "      <td>0.000000</td>\n",
       "      <td>0.000000</td>\n",
       "      <td>0.000000</td>\n",
       "      <td>0.000000</td>\n",
       "      <td>5.000000</td>\n",
       "      <td>1.000000</td>\n",
       "      <td>0.000297</td>\n",
       "    </tr>\n",
       "    <tr>\n",
       "      <th>25%</th>\n",
       "      <td>2309.000000</td>\n",
       "      <td>1825.250000</td>\n",
       "      <td>4270.000000</td>\n",
       "      <td>161.000000</td>\n",
       "      <td>1654.750000</td>\n",
       "      <td>215.000000</td>\n",
       "      <td>0.067582</td>\n",
       "    </tr>\n",
       "    <tr>\n",
       "      <th>50%</th>\n",
       "      <td>8172.000000</td>\n",
       "      <td>3867.000000</td>\n",
       "      <td>10017.000000</td>\n",
       "      <td>401.000000</td>\n",
       "      <td>3798.500000</td>\n",
       "      <td>495.000000</td>\n",
       "      <td>0.163725</td>\n",
       "    </tr>\n",
       "    <tr>\n",
       "      <th>75%</th>\n",
       "      <td>27079.000000</td>\n",
       "      <td>8540.500000</td>\n",
       "      <td>20620.000000</td>\n",
       "      <td>947.000000</td>\n",
       "      <td>9085.500000</td>\n",
       "      <td>1229.000000</td>\n",
       "      <td>0.223842</td>\n",
       "    </tr>\n",
       "    <tr>\n",
       "      <th>max</th>\n",
       "      <td>40019.000000</td>\n",
       "      <td>86504.000000</td>\n",
       "      <td>115083.000000</td>\n",
       "      <td>4309.000000</td>\n",
       "      <td>100384.000000</td>\n",
       "      <td>29622.000000</td>\n",
       "      <td>0.998463</td>\n",
       "    </tr>\n",
       "  </tbody>\n",
       "</table>\n",
       "</div>"
      ],
      "text/plain": [
       "            n_stars       n_pulls      n_commits  n_contributors  \\\n",
       "count  10892.000000  10892.000000   10892.000000    10892.000000   \n",
       "mean   14940.805362   6615.854848   16058.257345      674.929490   \n",
       "std    14773.338262   7544.576970   18349.280726      748.843886   \n",
       "min        0.000000      0.000000       0.000000        0.000000   \n",
       "25%     2309.000000   1825.250000    4270.000000      161.000000   \n",
       "50%     8172.000000   3867.000000   10017.000000      401.000000   \n",
       "75%    27079.000000   8540.500000   20620.000000      947.000000   \n",
       "max    40019.000000  86504.000000  115083.000000     4309.000000   \n",
       "\n",
       "       n_closed_issues  n_open_issues  r_open_issues  \n",
       "count     10892.000000   10892.000000   10892.000000  \n",
       "mean       6300.897907    1018.086669       0.166612  \n",
       "std        7620.832120    1385.537218       0.118561  \n",
       "min           5.000000       1.000000       0.000297  \n",
       "25%        1654.750000     215.000000       0.067582  \n",
       "50%        3798.500000     495.000000       0.163725  \n",
       "75%        9085.500000    1229.000000       0.223842  \n",
       "max      100384.000000   29622.000000       0.998463  "
      ]
     },
     "execution_count": 48,
     "metadata": {},
     "output_type": "execute_result"
    }
   ],
   "source": [
    "otc_iss[metrics_bg].describe()"
   ]
  },
  {
   "cell_type": "code",
   "execution_count": 49,
   "metadata": {},
   "outputs": [
    {
     "data": {
      "text/html": [
       "<div>\n",
       "<style scoped>\n",
       "    .dataframe tbody tr th:only-of-type {\n",
       "        vertical-align: middle;\n",
       "    }\n",
       "\n",
       "    .dataframe tbody tr th {\n",
       "        vertical-align: top;\n",
       "    }\n",
       "\n",
       "    .dataframe thead th {\n",
       "        text-align: right;\n",
       "    }\n",
       "</style>\n",
       "<table border=\"1\" class=\"dataframe\">\n",
       "  <thead>\n",
       "    <tr style=\"text-align: right;\">\n",
       "      <th></th>\n",
       "      <th>n_stars</th>\n",
       "      <th>n_pulls</th>\n",
       "      <th>n_commits</th>\n",
       "      <th>n_contributors</th>\n",
       "      <th>n_closed_issues</th>\n",
       "      <th>n_open_issues</th>\n",
       "      <th>r_open_issues</th>\n",
       "    </tr>\n",
       "  </thead>\n",
       "  <tbody>\n",
       "    <tr>\n",
       "      <th>count</th>\n",
       "      <td>4049.000000</td>\n",
       "      <td>4049.000000</td>\n",
       "      <td>4049.000000</td>\n",
       "      <td>4049.000000</td>\n",
       "      <td>4049.000000</td>\n",
       "      <td>4049.000000</td>\n",
       "      <td>4049.000000</td>\n",
       "    </tr>\n",
       "    <tr>\n",
       "      <th>mean</th>\n",
       "      <td>13394.559150</td>\n",
       "      <td>7397.357372</td>\n",
       "      <td>16979.990121</td>\n",
       "      <td>644.687577</td>\n",
       "      <td>7042.482835</td>\n",
       "      <td>1259.487034</td>\n",
       "      <td>0.192124</td>\n",
       "    </tr>\n",
       "    <tr>\n",
       "      <th>std</th>\n",
       "      <td>14312.451579</td>\n",
       "      <td>9575.991243</td>\n",
       "      <td>18868.180672</td>\n",
       "      <td>751.814006</td>\n",
       "      <td>8932.689765</td>\n",
       "      <td>1627.871165</td>\n",
       "      <td>0.142420</td>\n",
       "    </tr>\n",
       "    <tr>\n",
       "      <th>min</th>\n",
       "      <td>0.000000</td>\n",
       "      <td>5.000000</td>\n",
       "      <td>0.000000</td>\n",
       "      <td>0.000000</td>\n",
       "      <td>1.000000</td>\n",
       "      <td>1.000000</td>\n",
       "      <td>0.005950</td>\n",
       "    </tr>\n",
       "    <tr>\n",
       "      <th>25%</th>\n",
       "      <td>2004.000000</td>\n",
       "      <td>1656.000000</td>\n",
       "      <td>4144.000000</td>\n",
       "      <td>138.000000</td>\n",
       "      <td>1529.000000</td>\n",
       "      <td>237.000000</td>\n",
       "      <td>0.093139</td>\n",
       "    </tr>\n",
       "    <tr>\n",
       "      <th>50%</th>\n",
       "      <td>6350.000000</td>\n",
       "      <td>4062.000000</td>\n",
       "      <td>11031.000000</td>\n",
       "      <td>357.000000</td>\n",
       "      <td>3939.000000</td>\n",
       "      <td>641.000000</td>\n",
       "      <td>0.179214</td>\n",
       "    </tr>\n",
       "    <tr>\n",
       "      <th>75%</th>\n",
       "      <td>23860.000000</td>\n",
       "      <td>9305.000000</td>\n",
       "      <td>21829.000000</td>\n",
       "      <td>841.000000</td>\n",
       "      <td>9645.000000</td>\n",
       "      <td>1655.000000</td>\n",
       "      <td>0.240618</td>\n",
       "    </tr>\n",
       "    <tr>\n",
       "      <th>max</th>\n",
       "      <td>40019.000000</td>\n",
       "      <td>88678.000000</td>\n",
       "      <td>113062.000000</td>\n",
       "      <td>4371.000000</td>\n",
       "      <td>118634.000000</td>\n",
       "      <td>29552.000000</td>\n",
       "      <td>0.993978</td>\n",
       "    </tr>\n",
       "  </tbody>\n",
       "</table>\n",
       "</div>"
      ],
      "text/plain": [
       "            n_stars       n_pulls      n_commits  n_contributors  \\\n",
       "count   4049.000000   4049.000000    4049.000000     4049.000000   \n",
       "mean   13394.559150   7397.357372   16979.990121      644.687577   \n",
       "std    14312.451579   9575.991243   18868.180672      751.814006   \n",
       "min        0.000000      5.000000       0.000000        0.000000   \n",
       "25%     2004.000000   1656.000000    4144.000000      138.000000   \n",
       "50%     6350.000000   4062.000000   11031.000000      357.000000   \n",
       "75%    23860.000000   9305.000000   21829.000000      841.000000   \n",
       "max    40019.000000  88678.000000  113062.000000     4371.000000   \n",
       "\n",
       "       n_closed_issues  n_open_issues  r_open_issues  \n",
       "count      4049.000000    4049.000000    4049.000000  \n",
       "mean       7042.482835    1259.487034       0.192124  \n",
       "std        8932.689765    1627.871165       0.142420  \n",
       "min           1.000000       1.000000       0.005950  \n",
       "25%        1529.000000     237.000000       0.093139  \n",
       "50%        3939.000000     641.000000       0.179214  \n",
       "75%        9645.000000    1655.000000       0.240618  \n",
       "max      118634.000000   29552.000000       0.993978  "
      ]
     },
     "execution_count": 49,
     "metadata": {},
     "output_type": "execute_result"
    }
   ],
   "source": [
    "notc_iss[metrics_bg].describe()"
   ]
  },
  {
   "cell_type": "code",
   "execution_count": 51,
   "metadata": {},
   "outputs": [
    {
     "name": "stdout",
     "output_type": "stream",
     "text": [
      "n_stars                        MannwhitneyuResult(statistic=21052182.5, pvalue=1.005238035404567e-05)\n",
      "n_pulls                        MannwhitneyuResult(statistic=21777701.0, pvalue=0.12188025237873412)\n",
      "n_commits                      MannwhitneyuResult(statistic=21425435.0, pvalue=0.003805198437677794)\n",
      "n_contributors                 MannwhitneyuResult(statistic=21294100.5, pvalue=0.0006203926767677596)\n",
      "n_closed_issues                MannwhitneyuResult(statistic=21694179.0, pvalue=0.0639975299265374)\n",
      "n_open_issues                  MannwhitneyuResult(statistic=20137786.0, pvalue=1.6240676605583688e-16)\n",
      "r_open_issues                  MannwhitneyuResult(statistic=19909907.5, pvalue=3.235105159188478e-20)\n"
     ]
    }
   ],
   "source": [
    "for metric in metrics_bg:\n",
    "    print(f\"{metric:30} {mannwhitneyu(otc_iss[metric], notc_iss[metric])}\")\n",
    "# otc选的项目star，contributors 更多\n",
    "# notc选的项目commits，open issue数，open issue比例 更多"
   ]
  },
  {
   "cell_type": "code",
   "execution_count": null,
   "metadata": {},
   "outputs": [],
   "source": []
  }
 ],
 "metadata": {
  "kernelspec": {
   "display_name": "Python 3",
   "language": "python",
   "name": "python3"
  },
  "language_info": {
   "codemirror_mode": {
    "name": "ipython",
    "version": 3
   },
   "file_extension": ".py",
   "mimetype": "text/x-python",
   "name": "python",
   "nbconvert_exporter": "python",
   "pygments_lexer": "ipython3",
   "version": "3.8.8"
  }
 },
 "nbformat": 4,
 "nbformat_minor": 4
}
