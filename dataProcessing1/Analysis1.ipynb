{
 "cells": [
  {
   "cell_type": "code",
   "execution_count": 1,
   "metadata": {},
   "outputs": [
    {
     "name": "stderr",
     "output_type": "stream",
     "text": [
      "[nltk_data] Downloading package wordnet to E:\\nltk_data...\n",
      "[nltk_data]   Package wordnet is already up-to-date!\n",
      "[nltk_data] Downloading package omw-1.4 to E:\\nltk_data...\n",
      "[nltk_data]   Package omw-1.4 is already up-to-date!\n"
     ]
    },
    {
     "data": {
      "text/plain": [
       "True"
      ]
     },
     "execution_count": 1,
     "metadata": {},
     "output_type": "execute_result"
    }
   ],
   "source": [
    "import re\n",
    "import nltk\n",
    "import textstat\n",
    "import pandas as pd\n",
    "import numpy as np\n",
    "import datetime\n",
    "import statsmodels.api as sm\n",
    "from collections import Counter\n",
    "from scipy.stats import mannwhitneyu\n",
    "import matplotlib.pyplot as plt\n",
    "import pymongo\n",
    "\n",
    "nltk.download(\"wordnet\")\n",
    "nltk.download(\"omw-1.4\")"
   ]
  },
  {
   "cell_type": "code",
   "execution_count": 2,
   "metadata": {},
   "outputs": [],
   "source": [
    "def connect_mongo(query={},host='localhost', port=27017, username=None, password=None, no_id=True):\n",
    "    if username and password:\n",
    "        mongo_uri = \"mongodb://%s:%s@%s:%s/%s\" % (username, password, host, port, db)\n",
    "        client = pymongo.MongoClient(mongo_uri)\n",
    "    else:\n",
    "        client = pymongo.MongoClient(host, port)\n",
    "    return client\n",
    "    \n",
    "client = connect_mongo()\n",
    "collect = client.issues.first_issues\n",
    "# db = collect.find({\"resolver_commit_num\":{\"$gte\": 0, \"$lte\": 2}}).sort(\"closed_at\",pymongo.ASCENDING)"
   ]
  },
  {
   "cell_type": "code",
   "execution_count": 4,
   "metadata": {},
   "outputs": [],
   "source": [
    "df = pd.DataFrame(list(collect.find()))"
   ]
  },
  {
   "cell_type": "code",
   "execution_count": 13,
   "metadata": {},
   "outputs": [],
   "source": [
    "notc = set()\n",
    "tmp_collect = client.issues.second_issues\n",
    "for data in tmp_collect.find():\n",
    "    notc.add(data[\"owner\"]+\"/\"+data[\"name\"]+\"/\"+data[\"resolver\"])"
   ]
  },
  {
   "cell_type": "code",
   "execution_count": 14,
   "metadata": {},
   "outputs": [],
   "source": [
    "otc_iss, notc_iss = df[~(df.owner+\"/\"+df.name+\"/\"+df.resolver).isin(notc)], df[(df.owner+\"/\"+df.name+\"/\"+df.resolver).isin(notc)]"
   ]
  },
  {
   "cell_type": "code",
   "execution_count": 15,
   "metadata": {},
   "outputs": [
    {
     "data": {
      "text/plain": [
       "(13317, 1995)"
      ]
     },
     "execution_count": 15,
     "metadata": {},
     "output_type": "execute_result"
    }
   ],
   "source": [
    "len(otc_iss), len(notc_iss)"
   ]
  },
  {
   "cell_type": "code",
   "execution_count": 16,
   "metadata": {},
   "outputs": [],
   "source": [
    "metrics = [\n",
    "    \"len_title\", \"len_body\", \n",
    "    \"n_code_snips\", \"n_urls\", \"n_imgs\", \n",
    "    \"coleman_liau_index\", \n",
    "    \"flesch_reading_ease\", \"flesch_kincaid_grade\", \"automated_readability_index\",     \n",
    "]"
   ]
  },
  {
   "cell_type": "code",
   "execution_count": 17,
   "metadata": {},
   "outputs": [
    {
     "data": {
      "text/html": [
       "<div>\n",
       "<style scoped>\n",
       "    .dataframe tbody tr th:only-of-type {\n",
       "        vertical-align: middle;\n",
       "    }\n",
       "\n",
       "    .dataframe tbody tr th {\n",
       "        vertical-align: top;\n",
       "    }\n",
       "\n",
       "    .dataframe thead th {\n",
       "        text-align: right;\n",
       "    }\n",
       "</style>\n",
       "<table border=\"1\" class=\"dataframe\">\n",
       "  <thead>\n",
       "    <tr style=\"text-align: right;\">\n",
       "      <th></th>\n",
       "      <th>len_title</th>\n",
       "      <th>len_body</th>\n",
       "      <th>n_code_snips</th>\n",
       "      <th>n_urls</th>\n",
       "      <th>n_imgs</th>\n",
       "      <th>coleman_liau_index</th>\n",
       "      <th>flesch_reading_ease</th>\n",
       "      <th>flesch_kincaid_grade</th>\n",
       "      <th>automated_readability_index</th>\n",
       "    </tr>\n",
       "  </thead>\n",
       "  <tbody>\n",
       "    <tr>\n",
       "      <th>count</th>\n",
       "      <td>13317.000000</td>\n",
       "      <td>13317.000000</td>\n",
       "      <td>13317.000000</td>\n",
       "      <td>13317.000000</td>\n",
       "      <td>13317.000000</td>\n",
       "      <td>13317.000000</td>\n",
       "      <td>13317.000000</td>\n",
       "      <td>13317.000000</td>\n",
       "      <td>13317.000000</td>\n",
       "    </tr>\n",
       "    <tr>\n",
       "      <th>mean</th>\n",
       "      <td>7.692348</td>\n",
       "      <td>101.846061</td>\n",
       "      <td>0.739956</td>\n",
       "      <td>1.462567</td>\n",
       "      <td>0.014267</td>\n",
       "      <td>16.381982</td>\n",
       "      <td>50.603349</td>\n",
       "      <td>9.616550</td>\n",
       "      <td>17.418030</td>\n",
       "    </tr>\n",
       "    <tr>\n",
       "      <th>std</th>\n",
       "      <td>3.274359</td>\n",
       "      <td>102.083391</td>\n",
       "      <td>1.279986</td>\n",
       "      <td>3.118475</td>\n",
       "      <td>0.397621</td>\n",
       "      <td>28.965225</td>\n",
       "      <td>74.732349</td>\n",
       "      <td>10.565717</td>\n",
       "      <td>27.314024</td>\n",
       "    </tr>\n",
       "    <tr>\n",
       "      <th>min</th>\n",
       "      <td>1.000000</td>\n",
       "      <td>0.000000</td>\n",
       "      <td>0.000000</td>\n",
       "      <td>0.000000</td>\n",
       "      <td>0.000000</td>\n",
       "      <td>-28.010000</td>\n",
       "      <td>-4550.100000</td>\n",
       "      <td>-15.700000</td>\n",
       "      <td>-6.900000</td>\n",
       "    </tr>\n",
       "    <tr>\n",
       "      <th>25%</th>\n",
       "      <td>5.000000</td>\n",
       "      <td>36.000000</td>\n",
       "      <td>0.000000</td>\n",
       "      <td>0.000000</td>\n",
       "      <td>0.000000</td>\n",
       "      <td>9.700000</td>\n",
       "      <td>44.300000</td>\n",
       "      <td>6.800000</td>\n",
       "      <td>10.300000</td>\n",
       "    </tr>\n",
       "    <tr>\n",
       "      <th>50%</th>\n",
       "      <td>7.000000</td>\n",
       "      <td>73.000000</td>\n",
       "      <td>0.000000</td>\n",
       "      <td>1.000000</td>\n",
       "      <td>0.000000</td>\n",
       "      <td>12.500000</td>\n",
       "      <td>57.870000</td>\n",
       "      <td>8.700000</td>\n",
       "      <td>13.400000</td>\n",
       "    </tr>\n",
       "    <tr>\n",
       "      <th>75%</th>\n",
       "      <td>10.000000</td>\n",
       "      <td>139.000000</td>\n",
       "      <td>1.000000</td>\n",
       "      <td>2.000000</td>\n",
       "      <td>0.000000</td>\n",
       "      <td>16.640000</td>\n",
       "      <td>68.360000</td>\n",
       "      <td>11.100000</td>\n",
       "      <td>17.900000</td>\n",
       "    </tr>\n",
       "    <tr>\n",
       "      <th>max</th>\n",
       "      <td>40.000000</td>\n",
       "      <td>2504.000000</td>\n",
       "      <td>18.000000</td>\n",
       "      <td>274.000000</td>\n",
       "      <td>43.000000</td>\n",
       "      <td>1925.410000</td>\n",
       "      <td>206.840000</td>\n",
       "      <td>650.600000</td>\n",
       "      <td>1609.300000</td>\n",
       "    </tr>\n",
       "  </tbody>\n",
       "</table>\n",
       "</div>"
      ],
      "text/plain": [
       "          len_title      len_body  n_code_snips        n_urls        n_imgs  \\\n",
       "count  13317.000000  13317.000000  13317.000000  13317.000000  13317.000000   \n",
       "mean       7.692348    101.846061      0.739956      1.462567      0.014267   \n",
       "std        3.274359    102.083391      1.279986      3.118475      0.397621   \n",
       "min        1.000000      0.000000      0.000000      0.000000      0.000000   \n",
       "25%        5.000000     36.000000      0.000000      0.000000      0.000000   \n",
       "50%        7.000000     73.000000      0.000000      1.000000      0.000000   \n",
       "75%       10.000000    139.000000      1.000000      2.000000      0.000000   \n",
       "max       40.000000   2504.000000     18.000000    274.000000     43.000000   \n",
       "\n",
       "       coleman_liau_index  flesch_reading_ease  flesch_kincaid_grade  \\\n",
       "count        13317.000000         13317.000000          13317.000000   \n",
       "mean            16.381982            50.603349              9.616550   \n",
       "std             28.965225            74.732349             10.565717   \n",
       "min            -28.010000         -4550.100000            -15.700000   \n",
       "25%              9.700000            44.300000              6.800000   \n",
       "50%             12.500000            57.870000              8.700000   \n",
       "75%             16.640000            68.360000             11.100000   \n",
       "max           1925.410000           206.840000            650.600000   \n",
       "\n",
       "       automated_readability_index  \n",
       "count                 13317.000000  \n",
       "mean                     17.418030  \n",
       "std                      27.314024  \n",
       "min                      -6.900000  \n",
       "25%                      10.300000  \n",
       "50%                      13.400000  \n",
       "75%                      17.900000  \n",
       "max                    1609.300000  "
      ]
     },
     "execution_count": 17,
     "metadata": {},
     "output_type": "execute_result"
    }
   ],
   "source": [
    "otc_iss[metrics].describe()"
   ]
  },
  {
   "cell_type": "code",
   "execution_count": 18,
   "metadata": {},
   "outputs": [
    {
     "data": {
      "text/html": [
       "<div>\n",
       "<style scoped>\n",
       "    .dataframe tbody tr th:only-of-type {\n",
       "        vertical-align: middle;\n",
       "    }\n",
       "\n",
       "    .dataframe tbody tr th {\n",
       "        vertical-align: top;\n",
       "    }\n",
       "\n",
       "    .dataframe thead th {\n",
       "        text-align: right;\n",
       "    }\n",
       "</style>\n",
       "<table border=\"1\" class=\"dataframe\">\n",
       "  <thead>\n",
       "    <tr style=\"text-align: right;\">\n",
       "      <th></th>\n",
       "      <th>len_title</th>\n",
       "      <th>len_body</th>\n",
       "      <th>n_code_snips</th>\n",
       "      <th>n_urls</th>\n",
       "      <th>n_imgs</th>\n",
       "      <th>coleman_liau_index</th>\n",
       "      <th>flesch_reading_ease</th>\n",
       "      <th>flesch_kincaid_grade</th>\n",
       "      <th>automated_readability_index</th>\n",
       "    </tr>\n",
       "  </thead>\n",
       "  <tbody>\n",
       "    <tr>\n",
       "      <th>count</th>\n",
       "      <td>1995.000000</td>\n",
       "      <td>1995.000000</td>\n",
       "      <td>1995.000000</td>\n",
       "      <td>1995.000000</td>\n",
       "      <td>1995.000000</td>\n",
       "      <td>1995.000000</td>\n",
       "      <td>1995.000000</td>\n",
       "      <td>1995.000000</td>\n",
       "      <td>1995.000000</td>\n",
       "    </tr>\n",
       "    <tr>\n",
       "      <th>mean</th>\n",
       "      <td>7.696742</td>\n",
       "      <td>106.936842</td>\n",
       "      <td>0.839098</td>\n",
       "      <td>1.378446</td>\n",
       "      <td>0.011028</td>\n",
       "      <td>14.932426</td>\n",
       "      <td>53.868862</td>\n",
       "      <td>9.105965</td>\n",
       "      <td>15.983759</td>\n",
       "    </tr>\n",
       "    <tr>\n",
       "      <th>std</th>\n",
       "      <td>3.220540</td>\n",
       "      <td>154.663241</td>\n",
       "      <td>1.496460</td>\n",
       "      <td>2.557981</td>\n",
       "      <td>0.117985</td>\n",
       "      <td>15.759458</td>\n",
       "      <td>45.624561</td>\n",
       "      <td>6.749573</td>\n",
       "      <td>15.782539</td>\n",
       "    </tr>\n",
       "    <tr>\n",
       "      <th>min</th>\n",
       "      <td>1.000000</td>\n",
       "      <td>0.000000</td>\n",
       "      <td>0.000000</td>\n",
       "      <td>0.000000</td>\n",
       "      <td>0.000000</td>\n",
       "      <td>-15.810000</td>\n",
       "      <td>-978.590000</td>\n",
       "      <td>-15.700000</td>\n",
       "      <td>-4.300000</td>\n",
       "    </tr>\n",
       "    <tr>\n",
       "      <th>25%</th>\n",
       "      <td>5.000000</td>\n",
       "      <td>37.000000</td>\n",
       "      <td>0.000000</td>\n",
       "      <td>0.000000</td>\n",
       "      <td>0.000000</td>\n",
       "      <td>9.605000</td>\n",
       "      <td>45.220000</td>\n",
       "      <td>6.600000</td>\n",
       "      <td>10.300000</td>\n",
       "    </tr>\n",
       "    <tr>\n",
       "      <th>50%</th>\n",
       "      <td>7.000000</td>\n",
       "      <td>77.000000</td>\n",
       "      <td>0.000000</td>\n",
       "      <td>1.000000</td>\n",
       "      <td>0.000000</td>\n",
       "      <td>12.330000</td>\n",
       "      <td>58.920000</td>\n",
       "      <td>8.400000</td>\n",
       "      <td>13.400000</td>\n",
       "    </tr>\n",
       "    <tr>\n",
       "      <th>75%</th>\n",
       "      <td>9.000000</td>\n",
       "      <td>146.000000</td>\n",
       "      <td>1.000000</td>\n",
       "      <td>2.000000</td>\n",
       "      <td>0.000000</td>\n",
       "      <td>16.545000</td>\n",
       "      <td>68.970000</td>\n",
       "      <td>10.900000</td>\n",
       "      <td>17.600000</td>\n",
       "    </tr>\n",
       "    <tr>\n",
       "      <th>max</th>\n",
       "      <td>34.000000</td>\n",
       "      <td>5610.000000</td>\n",
       "      <td>36.000000</td>\n",
       "      <td>61.000000</td>\n",
       "      <td>3.000000</td>\n",
       "      <td>291.300000</td>\n",
       "      <td>206.840000</td>\n",
       "      <td>150.000000</td>\n",
       "      <td>295.100000</td>\n",
       "    </tr>\n",
       "  </tbody>\n",
       "</table>\n",
       "</div>"
      ],
      "text/plain": [
       "         len_title     len_body  n_code_snips       n_urls       n_imgs  \\\n",
       "count  1995.000000  1995.000000   1995.000000  1995.000000  1995.000000   \n",
       "mean      7.696742   106.936842      0.839098     1.378446     0.011028   \n",
       "std       3.220540   154.663241      1.496460     2.557981     0.117985   \n",
       "min       1.000000     0.000000      0.000000     0.000000     0.000000   \n",
       "25%       5.000000    37.000000      0.000000     0.000000     0.000000   \n",
       "50%       7.000000    77.000000      0.000000     1.000000     0.000000   \n",
       "75%       9.000000   146.000000      1.000000     2.000000     0.000000   \n",
       "max      34.000000  5610.000000     36.000000    61.000000     3.000000   \n",
       "\n",
       "       coleman_liau_index  flesch_reading_ease  flesch_kincaid_grade  \\\n",
       "count         1995.000000          1995.000000           1995.000000   \n",
       "mean            14.932426            53.868862              9.105965   \n",
       "std             15.759458            45.624561              6.749573   \n",
       "min            -15.810000          -978.590000            -15.700000   \n",
       "25%              9.605000            45.220000              6.600000   \n",
       "50%             12.330000            58.920000              8.400000   \n",
       "75%             16.545000            68.970000             10.900000   \n",
       "max            291.300000           206.840000            150.000000   \n",
       "\n",
       "       automated_readability_index  \n",
       "count                  1995.000000  \n",
       "mean                     15.983759  \n",
       "std                      15.782539  \n",
       "min                      -4.300000  \n",
       "25%                      10.300000  \n",
       "50%                      13.400000  \n",
       "75%                      17.600000  \n",
       "max                     295.100000  "
      ]
     },
     "execution_count": 18,
     "metadata": {},
     "output_type": "execute_result"
    }
   ],
   "source": [
    "notc_iss[metrics].describe()"
   ]
  },
  {
   "cell_type": "code",
   "execution_count": 21,
   "metadata": {},
   "outputs": [
    {
     "name": "stdout",
     "output_type": "stream",
     "text": [
      "len_title                      MannwhitneyuResult(statistic=13227362.5, pvalue=0.3791923366160463)\n",
      "len_body                       MannwhitneyuResult(statistic=12976360.5, pvalue=0.047534086155121356)\n",
      "n_code_snips                   MannwhitneyuResult(statistic=12721061.5, pvalue=0.00021717613651689932)\n",
      "n_urls                         MannwhitneyuResult(statistic=12905087.0, pvalue=0.015912164829105936)\n",
      "n_imgs                         MannwhitneyuResult(statistic=13261466.5, pvalue=0.22446371946234078)\n",
      "coleman_liau_index             MannwhitneyuResult(statistic=13038291.0, pvalue=0.09128639075692291)\n",
      "flesch_reading_ease            MannwhitneyuResult(statistic=12859617.5, pvalue=0.010631909339544875)\n",
      "flesch_kincaid_grade           MannwhitneyuResult(statistic=12766194.0, pvalue=0.002470942742107254)\n",
      "automated_readability_index    MannwhitneyuResult(statistic=13109123.0, pvalue=0.17151506921136167)\n"
     ]
    }
   ],
   "source": [
    "for metric in metrics:\n",
    "    print(f\"{metric:30} {mannwhitneyu(otc_iss[metric], notc_iss[metric])}\")"
   ]
  },
  {
   "cell_type": "code",
   "execution_count": 22,
   "metadata": {},
   "outputs": [
    {
     "data": {
      "text/plain": [
       "[('good first issue', 0.17338739956446647),\n",
       " ('help wanted', 0.11398963730569948),\n",
       " ('bug', 0.11256288953968611),\n",
       " ('Bug', 0.08139971465044679),\n",
       " ('enhancement', 0.05331531125628895),\n",
       " ('Docs', 0.021175940527145755),\n",
       " ('accepted', 0.01997446872418713),\n",
       " ('feature-request', 0.01997446872418713),\n",
       " ('waffle:review', 0.019899376736502217),\n",
       " ('easy', 0.018772996921228503),\n",
       " ('Easy', 0.018772996921228503),\n",
       " ('Documentation', 0.01869790493354359),\n",
       " ('Effort Low', 0.01847262897048885),\n",
       " ('<Bug>', 0.016745513253735828),\n",
       " ('docs', 0.015994593376886686),\n",
       " ('type: bug', 0.015619133438462116),\n",
       " ('rule', 0.014868213561612977),\n",
       " ('Hacktoberfest', 0.014492753623188406),\n",
       " ('Good First Issue', 0.01419238567244875),\n",
       " ('up-for-grabs', 0.014042201697078921)]"
      ]
     },
     "execution_count": 22,
     "metadata": {},
     "output_type": "execute_result"
    }
   ],
   "source": [
    "list(map(\n",
    "    lambda x: (x[0], x[1] / len(otc_iss)), \n",
    "    sorted(Counter(sum(otc_iss.labels, [])).items(), key=lambda x: -x[1])[0:20]\n",
    "))"
   ]
  },
  {
   "cell_type": "code",
   "execution_count": 23,
   "metadata": {},
   "outputs": [
    {
     "data": {
      "text/plain": [
       "[('good first issue', 0.24160401002506265),\n",
       " ('bug', 0.14987468671679197),\n",
       " ('help wanted', 0.10175438596491228),\n",
       " ('Bug', 0.09273182957393483),\n",
       " ('enhancement', 0.07017543859649122),\n",
       " ('Effort Low', 0.04110275689223058),\n",
       " ('accepted', 0.034085213032581455),\n",
       " ('Docs', 0.02857142857142857),\n",
       " ('feature-request', 0.028070175438596492),\n",
       " ('rule', 0.028070175438596492),\n",
       " ('Difficulty Novice', 0.022556390977443608),\n",
       " ('easy', 0.02155388471177945),\n",
       " ('Good First Issue', 0.02055137844611529),\n",
       " ('Easy', 0.02055137844611529),\n",
       " ('Documentation', 0.01804511278195489),\n",
       " ('up-for-grabs', 0.017543859649122806),\n",
       " ('docs', 0.017042606516290727),\n",
       " ('Needs Tests', 0.016541353383458645),\n",
       " ('in progress', 0.015538847117794486),\n",
       " ('type: bug', 0.015037593984962405)]"
      ]
     },
     "execution_count": 23,
     "metadata": {},
     "output_type": "execute_result"
    }
   ],
   "source": [
    "list(map(\n",
    "    lambda x: (x[0], x[1] / len(notc_iss)), \n",
    "    sorted(Counter(sum(notc_iss.labels, [])).items(), key=lambda x: -x[1])[0:20]\n",
    "))"
   ]
  },
  {
   "cell_type": "code",
   "execution_count": null,
   "metadata": {},
   "outputs": [],
   "source": []
  },
  {
   "cell_type": "code",
   "execution_count": 34,
   "metadata": {},
   "outputs": [
    {
     "data": {
      "text/plain": [
       "Counter({'bug': 0.25279357644697226,\n",
       "         'feature': 0.05667447306791569,\n",
       "         'test': 0.022415523586483774,\n",
       "         'build': 0.012579458012713282,\n",
       "         'doc': 0.08002676480428236,\n",
       "         'coding': 0.01759785881565741,\n",
       "         'enhance': 0.07594513215122115,\n",
       "         'gfi': 0.3330210772833724,\n",
       "         'medium': 0.020140515222482436,\n",
       "         'major': 0.044764135162261624,\n",
       "         'triaged': 0.07005687520910003,\n",
       "         'untriaged': 0.013984610237537639})"
      ]
     },
     "execution_count": 34,
     "metadata": {},
     "output_type": "execute_result"
    }
   ],
   "source": [
    "counter1 = Counter()\n",
    "for cat in otc_iss.label_category:\n",
    "    counter1.update(cat)\n",
    "total = sum(counter1.values())\n",
    "for k, v in counter1.items():\n",
    "    counter1[k] = v / total\n",
    "counter1"
   ]
  },
  {
   "cell_type": "code",
   "execution_count": 35,
   "metadata": {},
   "outputs": [
    {
     "data": {
      "text/plain": [
       "Counter({'bug': 0.24370050395968323,\n",
       "         'feature': 0.0503959683225342,\n",
       "         'test': 0.020518358531317494,\n",
       "         'build': 0.013678905687544997,\n",
       "         'doc': 0.06623470122390208,\n",
       "         'coding': 0.014758819294456443,\n",
       "         'enhance': 0.08531317494600432,\n",
       "         'gfi': 0.35241180705543557,\n",
       "         'medium': 0.02087832973362131,\n",
       "         'major': 0.047516198704103674,\n",
       "         'triaged': 0.06803455723542116,\n",
       "         'untriaged': 0.01655867530597552})"
      ]
     },
     "execution_count": 35,
     "metadata": {},
     "output_type": "execute_result"
    }
   ],
   "source": [
    "counter2 = Counter()\n",
    "for cat in notc_iss.label_category:\n",
    "    counter2.update(cat)\n",
    "total = sum(counter2.values())\n",
    "for k, v in counter2.items():\n",
    "    counter2[k] = v / total\n",
    "counter2"
   ]
  },
  {
   "cell_type": "code",
   "execution_count": 38,
   "metadata": {},
   "outputs": [
    {
     "data": {
      "text/plain": [
       "Text(0, 0.5, 'ratio')"
      ]
     },
     "execution_count": 38,
     "metadata": {},
     "output_type": "execute_result"
    },
    {
     "data": {
      "image/png": "[encoded data removed]",
      "text/plain": [
       "<Figure size 720x360 with 1 Axes>"
      ]
     },
     "metadata": {
      "needs_background": "light"
     },
     "output_type": "display_data"
    }
   ],
   "source": [
    "plt.figure(figsize=(10,5))\n",
    "# x轴\n",
    "x_counter = counter1.keys()\n",
    "# 第一条折\n",
    "y_counter1 = counter1.values()\n",
    "y_counter2 = counter2.values()\n",
    "\n",
    "plt.plot(x_counter, y_counter1, marker='o',label='otc')\n",
    "plt.plot(x_counter, y_counter2, marker='*',label='notc')\n",
    "plt.legend()  # 让图例生效\n",
    " \n",
    "# 显示标签，如果不加这句，即使在plot中加了label='一些数字'的参数，最终还是不会显示标签\n",
    "plt.legend(loc=\"upper right\")\n",
    "plt.xlabel('label_category')\n",
    "plt.ylabel('ratio')"
   ]
  },
  {
   "cell_type": "code",
   "execution_count": 29,
   "metadata": {},
   "outputs": [
    {
     "data": {
      "text/plain": [
       "[('commented', 4.080874070736653),\n",
       " ('labeled', 2.566794323045731),\n",
       " ('subscribed', 2.3230457310205),\n",
       " ('mentioned', 1.8273635203123826),\n",
       " ('cross-referenced', 1.4870466321243523),\n",
       " ('referenced', 0.9565968311181197),\n",
       " ('unlabeled', 0.447172786663663),\n",
       " ('milestoned', 0.3343095291732372),\n",
       " ('assigned', 0.3008935946534505),\n",
       " ('renamed', 0.15506495456934746),\n",
       " ('demilestoned', 0.11023503792145378),\n",
       " ('unassigned', 0.07426597582037997),\n",
       " ('added_to_project', 0.07343996395584591),\n",
       " ('moved_columns_in_project', 0.058421566418863105),\n",
       " ('closed', 0.055192610948411804),\n",
       " ('reopened', 0.04835924006908463),\n",
       " ('removed_from_project', 0.014342569647818578),\n",
       " ('transferred', 0.005256439137943982),\n",
       " ('unsubscribed', 0.004280243298040099),\n",
       " ('comment_deleted', 0.004205151310355185)]"
      ]
     },
     "execution_count": 29,
     "metadata": {},
     "output_type": "execute_result"
    }
   ],
   "source": [
    "list(map(\n",
    "    lambda x: (x[0], x[1] / len(otc_iss)), \n",
    "    sorted(Counter(sum(otc_iss.events, [])).items(), key=lambda x: -x[1])[0:20]\n",
    "))"
   ]
  },
  {
   "cell_type": "code",
   "execution_count": 30,
   "metadata": {},
   "outputs": [
    {
     "data": {
      "text/plain": [
       "[('commented', 3.9889724310776944),\n",
       " ('labeled', 2.7984962406015037),\n",
       " ('subscribed', 2.275689223057644),\n",
       " ('mentioned', 1.8681704260651628),\n",
       " ('cross-referenced', 1.4030075187969926),\n",
       " ('referenced', 1.0867167919799499),\n",
       " ('milestoned', 0.44160401002506267),\n",
       " ('unlabeled', 0.4095238095238095),\n",
       " ('assigned', 0.30025062656641605),\n",
       " ('renamed', 0.18095238095238095),\n",
       " ('demilestoned', 0.17443609022556392),\n",
       " ('added_to_project', 0.11629072681704261),\n",
       " ('unassigned', 0.06766917293233082),\n",
       " ('moved_columns_in_project', 0.06466165413533835),\n",
       " ('closed', 0.05213032581453634),\n",
       " ('reopened', 0.0456140350877193),\n",
       " ('removed_from_project', 0.03208020050125313),\n",
       " ('unsubscribed', 0.011027568922305764),\n",
       " ('comment_deleted', 0.005513784461152882),\n",
       " ('connected', 0.005513784461152882)]"
      ]
     },
     "execution_count": 30,
     "metadata": {},
     "output_type": "execute_result"
    }
   ],
   "source": [
    "list(map(\n",
    "    lambda x: (x[0], x[1] / len(notc_iss)), \n",
    "    sorted(Counter(sum(notc_iss.events, [])).items(), key=lambda x: -x[1])[0:20]\n",
    "))"
   ]
  },
  {
   "cell_type": "code",
   "execution_count": 70,
   "metadata": {},
   "outputs": [],
   "source": [
    "same1 = list(1 if otc_iss.loc[x].reporter_feat[\"name\"] == otc_iss.loc[x].resolver else 0 for x in otc_iss.index)\n",
    "same2 = list(1 if notc_iss.loc[x].reporter_feat[\"name\"] == notc_iss.loc[x].resolver else 0 for x in notc_iss.index)"
   ]
  },
  {
   "cell_type": "code",
   "execution_count": 72,
   "metadata": {},
   "outputs": [
    {
     "name": "stdout",
     "output_type": "stream",
     "text": [
      "0.36719981977922955 0.2962406015037594\n",
      "MannwhitneyuResult(statistic=12341106.0, pvalue=3.516832657805272e-10)\n"
     ]
    }
   ],
   "source": [
    "print(sum(same1)/len(same1),sum(same2)/len(same2))\n",
    "print(mannwhitneyu(same1, same2))"
   ]
  },
  {
   "cell_type": "code",
   "execution_count": null,
   "metadata": {},
   "outputs": [],
   "source": []
  }
 ],
 "metadata": {
  "kernelspec": {
   "display_name": "Python 3",
   "language": "python",
   "name": "python3"
  },
  "language_info": {
   "codemirror_mode": {
    "name": "ipython",
    "version": 3
   },
   "file_extension": ".py",
   "mimetype": "text/x-python",
   "name": "python",
   "nbconvert_exporter": "python",
   "pygments_lexer": "ipython3",
   "version": "3.8.8"
  }
 },
 "nbformat": 4,
 "nbformat_minor": 4
}
