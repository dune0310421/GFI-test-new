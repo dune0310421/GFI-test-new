{
 "cells": [
  {
   "cell_type": "code",
   "execution_count": 1,
   "metadata": {},
   "outputs": [],
   "source": [
    "import pandas as pd\n",
    "import csv\n",
    "import pymongo\n",
    "from pymongo import InsertOne,DeleteOne,UpdateOne\n",
    "import matplotlib.pyplot as plt\n",
    "\n",
    "import time\n",
    "import json\n",
    "import logging\n",
    "import argparse\n",
    "\n",
    "# !pip install PyGithub\n",
    "from typing import *\n",
    "from github import Github\n",
    "from github import RateLimitExceededException, UnknownObjectException"
   ]
  },
  {
   "cell_type": "code",
   "execution_count": 3,
   "metadata": {},
   "outputs": [],
   "source": [
    "def connect_mongo(query={}, host='localhost', port=27017, username=None, password=None, db='test'):\n",
    "    if username and password:\n",
    "        mongo_uri = \"mongodb://%s:%s@%s:%s/%s\" % (username, password, host, port, db)\n",
    "        client = pymongo.MongoClient(mongo_uri)\n",
    "    else:\n",
    "        client = pymongo.MongoClient(host, port)\n",
    "    return client\n",
    "\n",
    "client = connect_mongo()"
   ]
  },
  {
   "cell_type": "code",
   "execution_count": 9,
   "metadata": {},
   "outputs": [],
   "source": [
    "T = TypeVar(\"T\")\n",
    "logger = logging.getLogger(__name__)\n",
    "\n",
    "def request_github(\n",
    "        gh: Github, gh_func: Callable[..., T], params: Tuple = (), default: Any = None\n",
    ") -> Optional[T]:\n",
    "    \"\"\"\n",
    "    This is a wrapper to ensure that any rate-consuming interactions with GitHub\n",
    "      have proper exception handling.\n",
    "    \"\"\"\n",
    "    for _ in range(0, 3):  # Max retry 3 times\n",
    "        try:\n",
    "            data = gh_func(*params)\n",
    "            return data\n",
    "        except RateLimitExceededException as ex:\n",
    "            logger.info(\"{}: {}\".format(type(ex), ex))\n",
    "            sleep_time = gh.rate_limiting_resettime - time.time() + 10\n",
    "            logger.info(\"Rate limit reached, wait for {} seconds...\".format(sleep_time))\n",
    "            time.sleep(max(1.0, sleep_time))\n",
    "        except UnknownObjectException as ex:\n",
    "            logger.error(\"{}: {}\".format(type(ex), ex))\n",
    "            break\n",
    "        except Exception as ex:\n",
    "            logger.error(\"{}: {}\".format(type(ex), ex))\n",
    "            time.sleep(5)\n",
    "    return default\n",
    "\n",
    "def update_data(gh, item: dict) -> dict:\n",
    "    dic = {}\n",
    "\n",
    "    owner = item[\"owner\"]\n",
    "    name = item[\"name\"]\n",
    "    # repo = gh.get_repo(owner + \"/\" + name)\n",
    "    repo = request_github(gh, gh.get_repo, (owner + \"/\" + name,))\n",
    "#     logger.info(\"Processing #{}\".format(item[\"number\"]))  # 打印日志信息\n",
    "\n",
    "    if isinstance(item[\"resolved_in\"], int):  # resolved by a PR\n",
    "        pr = request_github(gh, repo.get_pull, (item[\"resolved_in\"],))\n",
    "        dic[\"changed_files\"] = pr.changed_files\n",
    "        dic[\"additions\"] = pr.additions\n",
    "        dic[\"deletions\"] = pr.deletions\n",
    "        dic[\"commit_num\"] = pr.commits\n",
    "        files = request_github(gh, pr.get_files)  # files = pr.get_files()\n",
    "        dic[\"changed_files_list\"] = list(map(lambda x: (x.filename, x.additions, x.deletions), files))\n",
    "        \n",
    "    else:  # resolved by a commit\n",
    "        commit = request_github(gh, repo.get_commit, (item[\"resolved_in\"],))\n",
    "        dic[\"changed_files\"] = len(commit.files)\n",
    "        dic[\"additions\"] = commit.stats.additions\n",
    "        dic[\"deletions\"] = commit.stats.deletions\n",
    "        dic[\"changed_files_list\"] = list(map(lambda x: (x.filename, x.additions, x.deletions), commit.files))\n",
    "        \n",
    "    language = repo.language\n",
    "    dic[\"language\"] = language\n",
    "\n",
    "    return dic"
   ]
  },
  {
   "cell_type": "code",
   "execution_count": 10,
   "metadata": {},
   "outputs": [
    {
     "name": "stderr",
     "output_type": "stream",
     "text": [
      "2023-02-28 14:47:54,146 (PID 2064) [INFO] <ipython-input-9-576f522eb923>:16 <class 'github.GithubException.RateLimitExceededException'>: 403 {\"message\": \"API rate limit exceeded for user ID 94817721.\", \"documentation_url\": \"https://docs.github.com/rest/overview/resources-in-the-rest-api#rate-limiting\"}\n",
      "2023-02-28 14:47:54,146 (PID 2064) [INFO] <ipython-input-9-576f522eb923>:18 Rate limit reached, wait for 146.85338878631592 seconds...\n"
     ]
    }
   ],
   "source": [
    "logging.basicConfig(\n",
    "    format=\"%(asctime)s (PID %(process)d) [%(levelname)s] %(filename)s:%(lineno)d %(message)s\",\n",
    "    level=logging.INFO,\n",
    ")  # 记录访问日志\n",
    "\n",
    "token = \"\"\n",
    "gh = Github(token)\n",
    "collection = client.issues.first_issues\n",
    "update_lst = []\n",
    "for data in collection.find():\n",
    "    if 'language' not in data.keys():\n",
    "        dic = update_data(gh, data)\n",
    "        update_lst.append(UpdateOne({\"_id\": data[\"_id\"]}, {\"$set\": dic}))"
   ]
  },
  {
   "cell_type": "code",
   "execution_count": 11,
   "metadata": {},
   "outputs": [
    {
     "name": "stdout",
     "output_type": "stream",
     "text": [
      "4293\n"
     ]
    }
   ],
   "source": [
    "print(len(update_lst))"
   ]
  },
  {
   "cell_type": "code",
   "execution_count": 12,
   "metadata": {},
   "outputs": [],
   "source": [
    "res = collection.bulk_write(update_lst)"
   ]
  },
  {
   "cell_type": "code",
   "execution_count": 15,
   "metadata": {},
   "outputs": [
    {
     "name": "stdout",
     "output_type": "stream",
     "text": [
      "0\n"
     ]
    }
   ],
   "source": [
    "# update_lst = []\n",
    "cnt = 0\n",
    "for data in collection.find():\n",
    "    if 'language' not in data.keys():\n",
    "        cnt += 1\n",
    "#         dic = update_data(gh, data)\n",
    "#         update_lst.append(UpdateOne({\"_id\": data[\"_id\"]}, {\"$set\": dic}))\n",
    "print(cnt)"
   ]
  },
  {
   "cell_type": "code",
   "execution_count": null,
   "metadata": {},
   "outputs": [],
   "source": []
  }
 ],
 "metadata": {
  "kernelspec": {
   "display_name": "Python 3",
   "language": "python",
   "name": "python3"
  },
  "language_info": {
   "codemirror_mode": {
    "name": "ipython",
    "version": 3
   },
   "file_extension": ".py",
   "mimetype": "text/x-python",
   "name": "python",
   "nbconvert_exporter": "python",
   "pygments_lexer": "ipython3",
   "version": "3.8.8"
  }
 },
 "nbformat": 4,
 "nbformat_minor": 4
}
