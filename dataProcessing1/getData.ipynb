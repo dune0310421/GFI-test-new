{
 "cells": [
  {
   "cell_type": "code",
   "execution_count": 1,
   "metadata": {},
   "outputs": [],
   "source": [
    "import pandas as pd\n",
    "import csv\n",
    "import pymongo\n",
    "from pymongo import InsertOne,DeleteOne,UpdateOne\n",
    "import matplotlib.pyplot as plt"
   ]
  },
  {
   "cell_type": "code",
   "execution_count": 2,
   "metadata": {},
   "outputs": [],
   "source": [
    "def connect_mongo(query={},host='localhost', port=27017, username=None, password=None,db='test'):\n",
    "    if username and password:\n",
    "        mongo_uri = \"mongodb://%s:%s@%s:%s/%s\" % (username, password, host, port, db)\n",
    "        client = pymongo.MongoClient(mongo_uri)\n",
    "    else:\n",
    "        client = pymongo.MongoClient(host, port)\n",
    "    return client\n",
    "    \n",
    "client = connect_mongo()"
   ]
  },
  {
   "cell_type": "code",
   "execution_count": 3,
   "metadata": {},
   "outputs": [],
   "source": [
    "# 存第一个issue\n",
    "collection = client.gfibot.dataset\n",
    "\n",
    "db = collection.find({\"resolver_commit_num\":0})\n",
    "collection1 = client.issues.first_issues\n",
    "res = collection1.delete_many({})\n",
    "res = collection1.insert_many(db,ordered=False)"
   ]
  },
  {
   "cell_type": "code",
   "execution_count": 4,
   "metadata": {},
   "outputs": [],
   "source": [
    "# 去除issue刚建立的时候的数据(gfi-bot数据集一个issue有两条数据)\n",
    "delete_lst = []\n",
    "for data in collection1.find():\n",
    "    if data[\"created_at\"] == data[\"before\"]:\n",
    "        delete_lst.append(DeleteOne(data))\n",
    "res = collection1.bulk_write(delete_lst)"
   ]
  },
  {
   "cell_type": "code",
   "execution_count": 5,
   "metadata": {},
   "outputs": [],
   "source": [
    "tmp_collection = client.gfibot.resolved_issue\n",
    "\n",
    "# 将resolved_issue中多的feature导入first_issues中\n",
    "update_lst = []\n",
    "for data in collection1.find():\n",
    "    res = tmp_collection.find_one({\"owner\":data[\"owner\"],\"name\":data[\"name\"],\"number\":data[\"number\"]})\n",
    "    update_lst.append(UpdateOne({\"_id\":data[\"_id\"]},{\"$set\":{\"resolver\":res[\"resolver\"],\"resolved_in\":res[\"resolved_in\"]}}))\n",
    "# 更新数据集\n",
    "res = collection1.bulk_write(update_lst)"
   ]
  },
  {
   "cell_type": "code",
   "execution_count": 6,
   "metadata": {},
   "outputs": [],
   "source": [
    "collection1 = client.issues.first_issues\n",
    "db = collection1.find()\n",
    "collection2 = client.issues.first_issues1 # 备份\n",
    "res = collection2.delete_many({})\n",
    "res = collection2.insert_many(db,ordered=False)"
   ]
  },
  {
   "cell_type": "code",
   "execution_count": 7,
   "metadata": {},
   "outputs": [
    {
     "name": "stdout",
     "output_type": "stream",
     "text": [
      "4074 127\n"
     ]
    }
   ],
   "source": [
    "inr = []  # 前两个issue的时间间隔\n",
    "delete_lst = []\n",
    "for data in collection1.find():\n",
    "    # 取resolver_commit_num>=1且解决时间最早的一条数据作为第二个issue\n",
    "    res = tmp_collection.find({\"owner\":data[\"owner\"],\"name\":data[\"name\"],\"resolver\":data[\"resolver\"],\"resolver_commit_num\":{\"$gte\":1}}).sort([(\"resolved_at\",1)]).skip(0).limit(1)\n",
    "    for item in res:\n",
    "        t = (item[\"resolved_at\"]-data[\"closed_at\"]).days\n",
    "        if t >= 0:\n",
    "            inr.append(t)\n",
    "        else:\n",
    "            delete_lst.append(DeleteOne(data))\n",
    "print(len(inr),len(delete_lst))\n",
    "\n",
    "# 去除resolver_commit_num>=1时间比resolver_commit_num=0更早的数据\n",
    "res = collection1.bulk_write(delete_lst) # 去除了127/16692 = 0.76%的数据"
   ]
  },
  {
   "cell_type": "code",
   "execution_count": 8,
   "metadata": {},
   "outputs": [
    {
     "name": "stdout",
     "output_type": "stream",
     "text": [
      "                 0\n",
      "count  4074.000000\n",
      "mean    151.253314\n",
      "std     283.221133\n",
      "min       0.000000\n",
      "25%       6.000000\n",
      "50%      27.000000\n",
      "75%     160.000000\n",
      "max    3390.000000\n",
      "469\n"
     ]
    },
    {
     "data": {
      "image/png": "[encoded data removed]",
      "text/plain": [
       "<Figure size 432x288 with 1 Axes>"
      ]
     },
     "metadata": {
      "needs_background": "light"
     },
     "output_type": "display_data"
    }
   ],
   "source": [
    "inr = sorted(inr)\n",
    "\n",
    "fig, ax = plt.subplots()\n",
    "plt.xlabel(\"seq_n\")\n",
    "plt.ylabel(\"delta time between 1st and 2nd issues\")\n",
    "ax.plot(range(len(inr)), inr, '-s', linewidth=0.5, markersize=1)\n",
    "\n",
    "print(pd.DataFrame(inr).describe())\n",
    "\n",
    "dt = inr[int(len(inr)*0.9)-1]\n",
    "print(dt) # 90%值"
   ]
  },
  {
   "cell_type": "code",
   "execution_count": 9,
   "metadata": {},
   "outputs": [
    {
     "name": "stderr",
     "output_type": "stream",
     "text": [
      "<ipython-input-9-6c1c59d3bbed>:4: DeprecationWarning: count is deprecated. Use Collection.count_documents instead.\n",
      "  if (pd.to_datetime(\"2022-07-01 00:00:00\") - data[\"closed_at\"]).days < dt and tmp_collection.find({\"owner\":data[\"owner\"],\"name\":data[\"name\"],\"resolver\":data[\"resolver\"]}).count() <= 1:\n"
     ]
    },
    {
     "name": "stdout",
     "output_type": "stream",
     "text": [
      "1624\n"
     ]
    }
   ],
   "source": [
    "# 去除无法判别为otc或notc的issue    \n",
    "delete_lst = []\n",
    "for data in collection1.find():\n",
    "    if (pd.to_datetime(\"2022-07-01 00:00:00\") - data[\"closed_at\"]).days < dt and tmp_collection.find({\"owner\":data[\"owner\"],\"name\":data[\"name\"],\"resolver\":data[\"resolver\"]}).count() <= 1:\n",
    "        delete_lst.append(DeleteOne(data))\n",
    "        \n",
    "res = collection1.bulk_write(delete_lst)\n",
    "print(len(delete_lst)) \n",
    "# 去除了1624/16692 = 9.73% 的数据"
   ]
  },
  {
   "cell_type": "code",
   "execution_count": 10,
   "metadata": {},
   "outputs": [],
   "source": [
    "inr2 = []  # notc的第一个和最后一个issue的时间间隔\n",
    "for data in collection1.find():\n",
    "    # 取resolver_commit_num>=1且解决时间最晚的一条数据作为最后一个issue\n",
    "    res = tmp_collection.find({\"owner\":data[\"owner\"],\"name\":data[\"name\"],\"resolver\":data[\"resolver\"],\"resolver_commit_num\":{\"$gte\":1}}).sort([(\"resolved_at\",-1)]).skip(0).limit(1)\n",
    "    for item in res:\n",
    "        t = (item[\"resolved_at\"]-data[\"closed_at\"]).days\n",
    "        inr2.append(t)"
   ]
  },
  {
   "cell_type": "code",
   "execution_count": 11,
   "metadata": {},
   "outputs": [
    {
     "name": "stdout",
     "output_type": "stream",
     "text": [
      "                 0\n",
      "count  4074.000000\n",
      "mean    402.251595\n",
      "std     545.004560\n",
      "min       0.000000\n",
      "25%      27.000000\n",
      "50%     167.000000\n",
      "75%     564.500000\n",
      "max    3390.000000\n"
     ]
    },
    {
     "data": {
      "image/png": "[encoded data removed]",
      "text/plain": [
       "<Figure size 432x288 with 1 Axes>"
      ]
     },
     "metadata": {
      "needs_background": "light"
     },
     "output_type": "display_data"
    }
   ],
   "source": [
    "inr2 = sorted(inr2)\n",
    "\n",
    "fig, ax = plt.subplots()\n",
    "plt.xlabel(\"seq_n\")\n",
    "plt.ylabel(\"delta time between 1st and 2nd issues\")\n",
    "ax.plot(range(len(inr2)), inr2, '-s', linewidth=0.5, markersize=1)\n",
    "\n",
    "print(pd.DataFrame(inr2).describe())"
   ]
  },
  {
   "cell_type": "code",
   "execution_count": 14,
   "metadata": {},
   "outputs": [
    {
     "name": "stdout",
     "output_type": "stream",
     "text": [
      "6\n",
      "0.006381934216985763\n",
      "0.031418753068237604\n",
      "0.06578301423662249\n",
      "0.12002945508100148\n"
     ]
    }
   ],
   "source": [
    "print(inr2[int(len(inr2)*0.10)-1]) # 10%值\n",
    "print(inr2.index(1)/len(inr2)) # <1天占比\n",
    "print(inr2.index(2)/len(inr2)) # <=1天占比\n",
    "print(inr2.index(4)/len(inr2)) # <=3天占比\n",
    "print(inr2.index(8)/len(inr2)) # <=7天占比\n",
    "dt = inr2.index(4)/len(inr2)"
   ]
  },
  {
   "cell_type": "code",
   "execution_count": null,
   "metadata": {},
   "outputs": [],
   "source": []
  }
 ],
 "metadata": {
  "kernelspec": {
   "display_name": "Python 3",
   "language": "python",
   "name": "python3"
  },
  "language_info": {
   "codemirror_mode": {
    "name": "ipython",
    "version": 3
   },
   "file_extension": ".py",
   "mimetype": "text/x-python",
   "name": "python",
   "nbconvert_exporter": "python",
   "pygments_lexer": "ipython3",
   "version": "3.8.8"
  }
 },
 "nbformat": 4,
 "nbformat_minor": 4
}
