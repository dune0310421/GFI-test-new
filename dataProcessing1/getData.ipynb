{
 "cells": [
  {
   "cell_type": "code",
   "execution_count": 1,
   "metadata": {},
   "outputs": [],
   "source": [
    "import pandas as pd\n",
    "import pymongo\n",
    "from pymongo import InsertOne,DeleteOne,UpdateOne\n",
    "import matplotlib.pyplot as plt"
   ]
  },
  {
   "cell_type": "code",
   "execution_count": 2,
   "metadata": {},
   "outputs": [],
   "source": [
    "def connect_mongo(query={},host='localhost', port=27017, username=None, password=None, no_id=True):\n",
    "    if username and password:\n",
    "        mongo_uri = \"mongodb://%s:%s@%s:%s/%s\" % (username, password, host, port, db)\n",
    "        client = pymongo.MongoClient(mongo_uri)\n",
    "    else:\n",
    "        client = pymongo.MongoClient(host, port)\n",
    "    return client\n",
    "    \n",
    "client = connect_mongo()"
   ]
  },
  {
   "cell_type": "code",
   "execution_count": 4,
   "metadata": {},
   "outputs": [],
   "source": [
    "# 存前两个issue\n",
    "collection = client.gfibot.dataset\n",
    "\n",
    "db = collection.find({\"resolver_commit_num\":0})\n",
    "collection1 = client.issues.first_issues\n",
    "res = collection1.insert_many(db,ordered=False)\n",
    "\n",
    "db = collection.find({\"resolver_commit_num\":1})\n",
    "collection2 = client.issues.second_issues\n",
    "res = collection2.insert_many(db,ordered=False)"
   ]
  },
  {
   "cell_type": "code",
   "execution_count": 5,
   "metadata": {},
   "outputs": [],
   "source": [
    "# 去除issue刚建立的时候的数据\n",
    "delete_lst = []\n",
    "for data in collection1.find():\n",
    "    if data[\"created_at\"] == data[\"before\"]:\n",
    "        delete_lst.append(DeleteOne(data))\n",
    "res = collection1.bulk_write(delete_lst)\n",
    "\n",
    "delete_lst = []\n",
    "for data in collection2.find():\n",
    "    if data[\"created_at\"] == data[\"before\"]:\n",
    "        delete_lst.append(DeleteOne(data))\n",
    "res = collection2.bulk_write(delete_lst)"
   ]
  },
  {
   "cell_type": "code",
   "execution_count": 7,
   "metadata": {},
   "outputs": [],
   "source": [
    "# 导入resolved_issue，保留第一个issue\n",
    "collection3 = client.gfibot.resolved_issue\n",
    "tmp_db = collection3.find({\"resolver_commit_num\":0})\n",
    "tmp_collection = client.issues.resolved_issue\n",
    "res = tmp_collection.insert_many(tmp_db,ordered=False)"
   ]
  },
  {
   "cell_type": "code",
   "execution_count": 15,
   "metadata": {},
   "outputs": [],
   "source": [
    "tmp_collection = client.gfibot.resolved_issue\n",
    "# 将resolved_issue中多的feature导入first_issues中\n",
    "update_lst = []\n",
    "for data in collection1.find():\n",
    "    res = tmp_collection.find_one({\"owner\":data[\"owner\"],\"name\":data[\"name\"],\"number\":data[\"number\"]})\n",
    "    update_lst.append(UpdateOne({\"_id\":data[\"_id\"]},{\"$set\":{\"resolver\":res[\"resolver\"],\"resolved_in\":res[\"resolved_in\"]}}))\n",
    "\n",
    "# 更新数据集\n",
    "res = collection1.bulk_write(update_lst)\n",
    "\n",
    "update_lst = []\n",
    "for data in collection2.find():\n",
    "    res = tmp_collection.find_one({\"owner\":data[\"owner\"],\"name\":data[\"name\"],\"number\":data[\"number\"]})\n",
    "    update_lst.append(UpdateOne({\"_id\":data[\"_id\"]},{\"$set\":{\"resolver\":res[\"resolver\"],\"resolved_in\":res[\"resolved_in\"]}}))\n",
    "\n",
    "# 更新数据集\n",
    "res = collection2.bulk_write(update_lst)"
   ]
  },
  {
   "cell_type": "code",
   "execution_count": 25,
   "metadata": {},
   "outputs": [],
   "source": [
    "interval = []\n",
    "for data in collection1.find():\n",
    "    res = collection2.find_one({\"owner\":data[\"owner\"],\"name\":data[\"name\"],\"resolver\":data[\"resolver\"]})\n",
    "    if res:\n",
    "        t = (res[\"closed_at\"]-data[\"closed_at\"]).days\n",
    "        if t > 0:\n",
    "            interval.append(t)\n",
    "    "
   ]
  },
  {
   "cell_type": "code",
   "execution_count": 26,
   "metadata": {},
   "outputs": [
    {
     "name": "stdout",
     "output_type": "stream",
     "text": [
      "2069\n"
     ]
    }
   ],
   "source": [
    "print(len(interval))"
   ]
  },
  {
   "cell_type": "code",
   "execution_count": 29,
   "metadata": {},
   "outputs": [
    {
     "name": "stdout",
     "output_type": "stream",
     "text": [
      "306\n"
     ]
    },
    {
     "data": {
      "image/png": "[encoded data removed]",
      "text/plain": [
       "<Figure size 432x288 with 1 Axes>"
      ]
     },
     "metadata": {
      "needs_background": "light"
     },
     "output_type": "display_data"
    }
   ],
   "source": [
    "interval = sorted(interval)\n",
    "import matplotlib.pyplot as plt\n",
    "\n",
    "fig, ax = plt.subplots()\n",
    "plt.xlabel(\"seq_n\")\n",
    "plt.ylabel(\"delta time between 1st and 2nd issues\")\n",
    "ax.plot(range(len(interval)), interval, '-s', linewidth=0.5, markersize=1)\n",
    "\n",
    "dt = interval[int(len(interval)*0.9)-1]\n",
    "print(dt) # 90%值"
   ]
  },
  {
   "cell_type": "code",
   "execution_count": 72,
   "metadata": {},
   "outputs": [],
   "source": [
    "# 去除无法判别为otc或notc的issue-------------------这里还有问题，应该从头到尾重新运行一次\n",
    "notc = set()\n",
    "tmp_collect = client.issues.second_issues\n",
    "for data in tmp_collect.find():\n",
    "    notc.add(data[\"owner\"]+\"/\"+data[\"name\"]+\"/\"+data[\"resolver\"])\n",
    "    \n",
    "delete_lst = []\n",
    "for data in collection1.find():\n",
    "    if (pd.to_datetime(\"2022-07-01 00:00:00\") - data[\"closed_at\"]).days < dt and data[\"owner\"]+\"/\"+data[\"name\"]+\"/\"+data[\"resolver\"] not in notc:\n",
    "        delete_lst.append(DeleteOne(data))\n",
    "        \n",
    "res = collection1.bulk_write(delete_lst)"
   ]
  },
  {
   "cell_type": "code",
   "execution_count": 70,
   "metadata": {},
   "outputs": [
    {
     "name": "stdout",
     "output_type": "stream",
     "text": [
      "0\n"
     ]
    }
   ],
   "source": [
    "print(len(delete_lst)) \n",
    "# 去除了1380/16692 = 2.28% 的数据"
   ]
  },
  {
   "cell_type": "code",
   "execution_count": 39,
   "metadata": {},
   "outputs": [
    {
     "name": "stdout",
     "output_type": "stream",
     "text": [
      "18864\n"
     ]
    }
   ],
   "source": [
    "n_resolver = set()\n",
    "for data in tmp_collection.find():\n",
    "    n_resolver.add(data[\"resolver\"])\n",
    "print(len(n_resolver))"
   ]
  },
  {
   "cell_type": "code",
   "execution_count": 56,
   "metadata": {},
   "outputs": [
    {
     "name": "stderr",
     "output_type": "stream",
     "text": [
      "<ipython-input-56-79159e14d325>:4: DeprecationWarning: count is deprecated. Use Collection.count_documents instead.\n",
      "  if db.count() > 1:\n"
     ]
    }
   ],
   "source": [
    "notc_interval = []\n",
    "for resolver in n_resolver:\n",
    "    db = tmp_collection.find({\"resolver\":resolver})\n",
    "    if db.count() > 1:\n",
    "        min_t = tmp_collection.find_one({\"resolver\":resolver})[\"resolved_at\"]\n",
    "        max_t = min_t\n",
    "        for item in db:\n",
    "            min_t = min(min_t, item[\"resolved_at\"])\n",
    "            max_t = max(max_t, item[\"resolved_at\"])\n",
    "        notc_interval.append((max_t-min_t).days)\n"
   ]
  },
  {
   "cell_type": "code",
   "execution_count": 53,
   "metadata": {},
   "outputs": [
    {
     "data": {
      "text/plain": [
       "-396"
      ]
     },
     "execution_count": 53,
     "metadata": {},
     "output_type": "execute_result"
    }
   ],
   "source": [
    "import datetime\n",
    "(tmp_collection.find_one({\"resolver\":resolver})[\"resolved_at\"]-datetime.datetime.now()).days"
   ]
  },
  {
   "cell_type": "code",
   "execution_count": 57,
   "metadata": {},
   "outputs": [
    {
     "data": {
      "text/plain": [
       "[<matplotlib.lines.Line2D at 0x17105f25b50>]"
      ]
     },
     "execution_count": 57,
     "metadata": {},
     "output_type": "execute_result"
    },
    {
     "data": {
      "image/png": "[encoded data removed]",
      "text/plain": [
       "<Figure size 432x288 with 1 Axes>"
      ]
     },
     "metadata": {
      "needs_background": "light"
     },
     "output_type": "display_data"
    }
   ],
   "source": [
    "notc_interval = sorted(notc_interval)\n",
    "import matplotlib.pyplot as plt\n",
    "\n",
    "fig, ax = plt.subplots()\n",
    "plt.xlabel(\"seq_n\")\n",
    "plt.ylabel(\"delta time between 1st and 2nd issues\")\n",
    "ax.plot(range(len(notc_interval)), notc_interval, '-s', linewidth=0.5, markersize=1)"
   ]
  },
  {
   "cell_type": "code",
   "execution_count": 58,
   "metadata": {},
   "outputs": [],
   "source": [
    "import csv\n",
    "file = open(\"../data/notc_interval.csv\", 'a+', newline='')\n",
    "csv_writer = csv.writer(file)\n",
    "csv_writer.writerow(notc_interval)\n",
    "file.close()"
   ]
  },
  {
   "cell_type": "code",
   "execution_count": 60,
   "metadata": {},
   "outputs": [
    {
     "data": {
      "text/plain": [
       "{'whiskers': [<matplotlib.lines.Line2D at 0x1710c27bfa0>,\n",
       "  <matplotlib.lines.Line2D at 0x1712064e940>],\n",
       " 'caps': [<matplotlib.lines.Line2D at 0x1712064ed30>,\n",
       "  <matplotlib.lines.Line2D at 0x1712064e850>],\n",
       " 'boxes': [<matplotlib.lines.Line2D at 0x1710c27b250>],\n",
       " 'medians': [<matplotlib.lines.Line2D at 0x1712064e970>],\n",
       " 'fliers': [<matplotlib.lines.Line2D at 0x1710a3f7130>],\n",
       " 'means': []}"
      ]
     },
     "execution_count": 60,
     "metadata": {},
     "output_type": "execute_result"
    },
    {
     "data": {
      "image/png": "[encoded data removed]",
      "text/plain": [
       "<Figure size 720x360 with 1 Axes>"
      ]
     },
     "metadata": {
      "needs_background": "light"
     },
     "output_type": "display_data"
    }
   ],
   "source": [
    "plt.figure(figsize=(10,5))#设置画布的尺寸\n",
    "plt.title('Examples of boxplot',fontsize=20)#标题，并设定字号大小\n",
    "# labels = 'Jay'#图例\n",
    "plt.boxplot(notc_interval)"
   ]
  },
  {
   "cell_type": "code",
   "execution_count": 65,
   "metadata": {},
   "outputs": [
    {
     "name": "stdout",
     "output_type": "stream",
     "text": [
      "447 124 3 183\n"
     ]
    }
   ],
   "source": [
    "print(notc_interval.count(0),notc_interval.count(1),notc_interval[len(notc_interval)//10+1],notc_interval[len(notc_interval)//2+1])"
   ]
  },
  {
   "cell_type": "code",
   "execution_count": 66,
   "metadata": {},
   "outputs": [
    {
     "name": "stdout",
     "output_type": "stream",
     "text": [
      "7530\n"
     ]
    }
   ],
   "source": [
    "print(len(notc_interval))"
   ]
  },
  {
   "cell_type": "code",
   "execution_count": 68,
   "metadata": {},
   "outputs": [
    {
     "name": "stdout",
     "output_type": "stream",
     "text": [
      "755\n"
     ]
    }
   ],
   "source": [
    "print(notc_interval.index(4))"
   ]
  },
  {
   "cell_type": "code",
   "execution_count": null,
   "metadata": {},
   "outputs": [],
   "source": []
  }
 ],
 "metadata": {
  "kernelspec": {
   "display_name": "Python 3",
   "language": "python",
   "name": "python3"
  },
  "language_info": {
   "codemirror_mode": {
    "name": "ipython",
    "version": 3
   },
   "file_extension": ".py",
   "mimetype": "text/x-python",
   "name": "python",
   "nbconvert_exporter": "python",
   "pygments_lexer": "ipython3",
   "version": "3.8.8"
  }
 },
 "nbformat": 4,
 "nbformat_minor": 4
}
