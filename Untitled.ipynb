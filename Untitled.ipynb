{
 "cells": [
  {
   "cell_type": "code",
   "execution_count": 1,
   "metadata": {},
   "outputs": [],
   "source": [
    "import json\n",
    "\n",
    "with open('issuedata.json') as f:\n",
    "    issuestr = json.load(f)\n",
    "    issuedic = json.loads(issuestr)\n",
    "    issuedata = issuedic['issuedata']"
   ]
  },
  {
   "cell_type": "code",
   "execution_count": 2,
   "metadata": {},
   "outputs": [
    {
     "name": "stdout",
     "output_type": "stream",
     "text": [
      "{'issue_id': 65398189, 'proid': 35819264, 'owner_id': 12882, 'issuet': '2018-01-25 18:30:39', 'clst': '2020-02-27 23:17:44', 'rpt_id': 5078102, 'cls_id': 39337578, 'language': 'C#', 'pro_star': 1914, 'isslist': [959, None, None, None, None, None, None, None, 941, None, None, 959, 960, None, 966, None, None, None, None, None, None, None, None, None, None, None, 1442, None, None, None, None, None, None, None, None, 875, 875, None, None, None, None, None, 980, None, None, None, 981, None, None, 983, 984, None, 1448, None, None, None, None, 986, None, None, None, 990, None, None, None, None, 991, None, None, None, None, None, None, None, None, None, 992, None, 1463], 'proclspr': 1218, 'rptcmt': 0, 'rptallcmt': 23, 'rptpronum': 4, 'rptstar': 0, 'rptfoll': 2, 'rptalliss': 56, 'rptiss': 3, 'rptallpr': 4, 'rptpr': 0, 'rptissues': [64885669, 65320093, 69679049], 'ownercmt': 0, 'ownerallcmt': 0, 'ownerpronum': 180, 'ownerstar': 18750, 'ownerfoll': 9, 'owneralliss': 0, 'owneriss': 0, 'ownerallpr': 0, 'ownerpr': 0, 'ownerissues': [], 'procmt': 7332, 'contributornum': 118, 'crtclsissnum': 79, 'openiss': 1449, 'openissratio': 0.9482984293193717, 'clsisst': 73.0, 'clscmt': 13, 'title': '[macOS] GestureRecognizer on ListView Item not working', 'body': '### Description\\r\\nThe `TapGestureRecognizer` or `ClickGestureRecognizer` on `ListView` `ItemTemplate` not works on macOS. It works on UWP, Android & iOS.\\r\\n\\r\\n### Steps to Reproduce\\r\\n1. Add `ListView` on `ContentPage`\\r\\n2. Add `GestureRecognizers` on `ItemTemplate`\\r\\n\\r\\n### Basic Information\\r\\n\\r\\n- Version with issue: Xamarin.Forms 2.5.0.122203\\r\\n- IDE: Visual Studio for Mac 7.3.3 (build 5)\\r\\n- Platform Target Frameworks:\\r\\n  - macOS: 10.13.2\\r\\n\\r\\n### Reproduction Link\\r\\nhttps://github.com/MADSENSE/Madsense.XamarinForms.Sample/tree/ListView-GestureRecognizer\\r\\n', 'labels': [0, 0, 0, 0, 0, 0, 0, 0, 0, 0, 0, 0, 0], 'rpthaslabel': 1, 'fromcmt': 0, 'usedt': 17225, 'rptisscmtlist': None}\n",
      "65398189\n"
     ]
    }
   ],
   "source": [
    "lst=[]\n",
    "for i in range(len(issuedata)):\n",
    "    if i<1:\n",
    "        lst.append(issuedata[i][0])\n",
    "# print(lst)\n",
    "print(issuedata[i][0])\n",
    "print(issuedata[i][0]['issue_id'])"
   ]
  },
  {
   "cell_type": "code",
   "execution_count": 3,
   "metadata": {},
   "outputs": [],
   "source": [
    "import pandas as pd\n",
    "df = pd.read_csv(\".\\RecGFI-main\\data\\issue_id_info.csv\")\n",
    "df1 = pd.read_csv(\".\\RecGFI-main\\data\\\\repo_id_info.csv\")"
   ]
  },
  {
   "cell_type": "code",
   "execution_count": 4,
   "metadata": {},
   "outputs": [
    {
     "name": "stdout",
     "output_type": "stream",
     "text": [
      "4238\n",
      "       Unnamed: 0   issue_id  repo_owner repo_name  repo_number  \\\n",
      "26681       26681   60338949  pandas-dev    pandas         6051   \n",
      "26683       26683   47663339  pandas-dev    pandas         7640   \n",
      "26684       26684   40745615  pandas-dev    pandas         8860   \n",
      "26703       26703   40766610  pandas-dev    pandas        10381   \n",
      "26706       26706   42857236  pandas-dev    pandas        12541   \n",
      "...           ...        ...         ...       ...          ...   \n",
      "53462       53462   56247860  pandas-dev    pandas        17496   \n",
      "53481       53481  170853265  pandas-dev    pandas        37280   \n",
      "53482       53482   55295695  pandas-dev    pandas        17336   \n",
      "53491       53491   68498503  pandas-dev    pandas        20031   \n",
      "53497       53497   63375095  pandas-dev    pandas        18943   \n",
      "\n",
      "       resolver_commit_num  \n",
      "26681                    0  \n",
      "26683                   13  \n",
      "26684                   85  \n",
      "26703                   95  \n",
      "26706                  183  \n",
      "...                    ...  \n",
      "53462                    0  \n",
      "53481                   27  \n",
      "53482                    0  \n",
      "53491                  760  \n",
      "53497                    0  \n",
      "\n",
      "[4238 rows x 6 columns]\n"
     ]
    }
   ],
   "source": [
    "ddf = df.loc[df['repo_name'] == 'pandas']\n",
    "print(ddf.shape[0])\n",
    "print(ddf)"
   ]
  },
  {
   "cell_type": "code",
   "execution_count": 5,
   "metadata": {},
   "outputs": [
    {
     "name": "stdout",
     "output_type": "stream",
     "text": [
      "    Unnamed: 0   repo_id  repo_owner repo_name\n",
      "85          85  48212908  pandas-dev    pandas\n"
     ]
    }
   ],
   "source": [
    "ddf1 = df1.loc[df1['repo_name'] == 'pandas']\n",
    "print(ddf1)"
   ]
  },
  {
   "cell_type": "code",
   "execution_count": 6,
   "metadata": {},
   "outputs": [],
   "source": [
    "httpstr = 'https://github.com/pandas-dev/pandas/issues/'\n",
    "\n",
    "lst = []\n",
    "for index, row in ddf.iterrows():\n",
    "#     if index < 4:\n",
    "    lst.append([httpstr + str(row['repo_number'])])\n",
    "#         print(row['repo_number'])\n",
    "# print(lst)"
   ]
  },
  {
   "cell_type": "code",
   "execution_count": 7,
   "metadata": {},
   "outputs": [],
   "source": [
    "import csv\n",
    "with open('pandas_link.csv', 'w', encoding='utf8', newline='') as csvfile:\n",
    "    writer = csv.writer(csvfile)\n",
    "    for item in lst:\n",
    "        writer.writerow(item)"
   ]
  },
  {
   "cell_type": "code",
   "execution_count": 8,
   "metadata": {},
   "outputs": [],
   "source": [
    "# print(pd.to_numeric((ddf['issue_id'])).tolist())\n",
    "pd_issue_ids = pd.to_numeric((ddf['issue_id'])).tolist()"
   ]
  },
  {
   "cell_type": "code",
   "execution_count": 9,
   "metadata": {},
   "outputs": [
    {
     "name": "stdout",
     "output_type": "stream",
     "text": [
      "4238\n"
     ]
    }
   ],
   "source": [
    "lst=[]\n",
    "for i in range(len(issuedata)):\n",
    "    if issuedata[i][0]['issue_id'] in pd_issue_ids:\n",
    "        lst.append(issuedata[i][0])\n",
    "print(len(lst))\n",
    "# print(issuedata[i][0])\n",
    "# print(issuedata[i][0]['issue_id'])"
   ]
  },
  {
   "cell_type": "code",
   "execution_count": 10,
   "metadata": {},
   "outputs": [
    {
     "name": "stdout",
     "output_type": "stream",
     "text": [
      "{'issue_id': 40745615, 'proid': 48212908, 'owner_id': 31607603, 'issuet': '2014-11-19 21:26:03', 'clst': '2016-12-06 19:10:40', 'rpt_id': 2934503, 'cls_id': 718011, 'language': 'Python', 'pro_star': 0, 'isslist': [None, None, None, None, None, None], 'proclspr': 0, 'rptcmt': 0, 'rptallcmt': 0, 'rptpronum': 3, 'rptstar': 0, 'rptfoll': 1, 'rptalliss': 1, 'rptiss': 0, 'rptallpr': 0, 'rptpr': 0, 'rptissues': [], 'ownercmt': 0, 'ownerallcmt': 0, 'ownerpronum': 4, 'ownerstar': 0, 'ownerfoll': 0, 'owneralliss': 0, 'owneriss': 0, 'ownerallpr': 0, 'ownerpr': 0, 'ownerissues': [], 'procmt': 6, 'contributornum': 3, 'crtclsissnum': 31, 'openiss': 731, 'openissratio': 0.9593175853018373, 'clsisst': 26.0, 'clscmt': 85, 'title': 'Maintaining the order of the categorical variable that is passed into pd.crosstab', 'body': \"xref #8731, soln might be the same\\n\\nCurrently when we do a `crosstab`, the distinct values in each column is reported in the lexical order. But crosstabs are usually useful when we have categorical data (that may have an inherent ordering). \\n\\n``` python\\nimport pandas as pd\\n\\nd = {'MAKE' : pd.Series(['Honda', 'Acura', 'Tesla', 'Honda', 'Honda', 'Acura']),\\n'MODEL' : pd.Series(['Sedan', 'Sedan', 'Electric', 'Pickup', 'Sedan', 'Sedan'])}\\ndata = pd.DataFrame(d)\\npd.crosstab(data['MAKE'],data['MODEL'])\\n\\ndata['MODEL'] = data['MODEL'].astype('category')\\ndata['MODEL'] = data['MODEL'].cat.set_categories(['Sedan','Electric','Pickup'])\\npd.crosstab(data['MAKE'],data['MODEL'])\\n```\\n\\nBoth the cross-tab statements above result in the same output as below - essentially the code I believe is performing a lexical sort on the contents of the `Series` being passed.\\n\\n```\\nOutput:\\nMODEL  Electric  Pickup  Sedan\\nMAKE                          \\nAcura         0       0      2\\nHonda         0       1      2\\nTesla         1       0      0\\n```\\n\\nWould it be possible for `crosstab` to maintain the ordering of the categorical variable if column.cat.ordered on the passed column is True? Thanks!\\n\", 'labels': [0, 0, 0, 0, 0, 0, 0, 0, 0, 0, 0, 0, 0], 'rpthaslabel': 1, 'fromcmt': 1, 'usedt': 78277, 'rptisscmtlist': None}\n"
     ]
    }
   ],
   "source": [
    "print(lst[2])"
   ]
  },
  {
   "cell_type": "code",
   "execution_count": 11,
   "metadata": {},
   "outputs": [
    {
     "name": "stdout",
     "output_type": "stream",
     "text": [
      "1097\n"
     ]
    }
   ],
   "source": [
    "cls_id_dict = {}\n",
    "for item in lst:\n",
    "#     print(item['issue_id'])\n",
    "    if item['cls_id'] not in cls_id_dict.keys():\n",
    "        cls_id_dict[item['cls_id']] = [item['clst']]\n",
    "    else:\n",
    "        cls_id_dict[item['cls_id']].append(item['clst'])\n",
    "for key in cls_id_dict.keys():\n",
    "    cls_id_dict[key].sort()\n",
    "print(len(cls_id_dict.keys()))"
   ]
  },
  {
   "cell_type": "code",
   "execution_count": 30,
   "metadata": {},
   "outputs": [
    {
     "name": "stdout",
     "output_type": "stream",
     "text": [
      "85\n",
      "1012\n",
      "[718011, 4409481, 7044466, 3316, 1271681, 6460686, 10038055, 439197, 23680, 2746932, 23155, 34874888, 286190, 6109715, 1104759, 4639586, 8737281, 44605568, 1376498, 516921, 2558310, 4611199, 34699704, 30581708, 7839901, 3129709, 32417976, 13327220, 10515824, 37551, 11848208, 777835, 1278307, 41086221, 25709477, 748070, 1525704, 30703006, 2276774, 30824734, 35955315, 33736523, 39464103, 36631354, 342463, 2825841, 8735016, 2103204, 13946593, 58466580, 3616441, 4071033, 11015562, 42011285, 36622, 5836417, 7335129, 3168924, 7060803, 2654743, 36023756, 13472808, 55877168, 19433741, 50077301, 11819657, 9508450, 5489280, 67778, 50853048, 30239773, 6504468, 11994391, 10103115, 2976569, 12122610, 2859386, 11276601, 6815917, 5662164, 5252104, 4587540, 2441206, 29303, 3286638]\n",
      "870\n"
     ]
    }
   ],
   "source": [
    "import dateutil\n",
    "LTC_id = []\n",
    "OTC_id = []\n",
    "cnt = 0\n",
    "for key in cls_id_dict.keys():\n",
    "    if len(cls_id_dict[key])>2:\n",
    "#         print(key)\n",
    "        first = cls_id_dict[key][0]\n",
    "        last = cls_id_dict[key][-1]\n",
    "        d1 = dateutil.parser.parse(first)\n",
    "        d2 = dateutil.parser.parse(last)\n",
    "        if ((d2-d1).days > 365):\n",
    "            LTC_id.append(key)\n",
    "        else:\n",
    "            OTC_id.append(key)\n",
    "    else:\n",
    "        OTC_id.append(key)\n",
    "        cnt+=1\n",
    "print(len(LTC_id))\n",
    "print(len(OTC_id))\n",
    "print(LTC_id)\n",
    "print(cnt)"
   ]
  },
  {
   "cell_type": "code",
   "execution_count": 31,
   "metadata": {},
   "outputs": [
    {
     "name": "stdout",
     "output_type": "stream",
     "text": [
      "2296\n",
      "1942\n"
     ]
    }
   ],
   "source": [
    "LTC_issues = []\n",
    "OTC_issues = []\n",
    "# for i in range(len(issuedata)):\n",
    "#     if issuedata[i][0]['issue_id'] in pd_issue_ids:\n",
    "#         lst.append(issuedata[i][0])\n",
    "# print(len(lst))\n",
    "for item in lst:\n",
    "#     print(item['cls_id'])\n",
    "    if item['cls_id'] in LTC_id:\n",
    "        LTC_issues.append(item)\n",
    "    elif item['cls_id'] in OTC_id:\n",
    "        OTC_issues.append(item)\n",
    "    else:\n",
    "        print(item['cls_id'])\n",
    "print(len(LTC_issues))\n",
    "print(len(OTC_issues))"
   ]
  },
  {
   "cell_type": "code",
   "execution_count": 32,
   "metadata": {},
   "outputs": [
    {
     "name": "stdout",
     "output_type": "stream",
     "text": [
      "85\n",
      "1012\n"
     ]
    }
   ],
   "source": [
    "import copy\n",
    "LTC_1st_issues = []\n",
    "OTC_1st_issues = []\n",
    "tmp_id_1 = copy.copy(LTC_id)\n",
    "tmp_id_2 = copy.copy(OTC_id)\n",
    "for item in lst:\n",
    "#     print(item['cls_id'])\n",
    "    if item['cls_id'] in tmp_id_1:\n",
    "        if item['clst'] == cls_id_dict[item['cls_id']][0]:\n",
    "            LTC_1st_issues.append(item)\n",
    "            tmp_id_1.remove(item['cls_id'])\n",
    "    elif item['cls_id'] in tmp_id_2:\n",
    "        if item['clst'] == cls_id_dict[item['cls_id']][0]:\n",
    "            OTC_1st_issues.append(item)\n",
    "            tmp_id_2.remove(item['cls_id'])\n",
    "#     else:\n",
    "#         print(item['cls_id'])\n",
    "print(len(LTC_1st_issues))\n",
    "print(len(OTC_1st_issues))"
   ]
  },
  {
   "cell_type": "code",
   "execution_count": 38,
   "metadata": {},
   "outputs": [],
   "source": [
    "LTC_issue_num = len(LTC_1st_issues)\n",
    "OTC_issue_num = len(OTC_1st_issues)\n",
    "# data = {}\n",
    "# data[LTC] = {}\n",
    "# data[OTC] = {}\n",
    "\n",
    "# data[LTC]['num']\n",
    "# data[LTC]\n",
    "# index = ['LTC','OTC']\n",
    "# column = ['num','usedt','title','body']\n",
    "\n",
    "# data = pd.DataFrame()\n",
    "\n",
    "LTC_df = pd.DataFrame(LTC_1st_issues)\n",
    "OTC_df = pd.DataFrame(OTC_1st_issues)\n",
    "# print(LTC_df)\n"
   ]
  },
  {
   "cell_type": "code",
   "execution_count": 39,
   "metadata": {},
   "outputs": [
    {
     "name": "stdout",
     "output_type": "stream",
     "text": [
      "issue_id                                                 5367810351\n",
      "proid                                                    4098097180\n",
      "owner_id                                                 2686646255\n",
      "issuet            2014-01-09 05:55:572013-03-21 15:09:272017-01-...\n",
      "clst              2016-05-26 23:56:092016-11-10 08:07:182017-01-...\n",
      "rpt_id                                                    614547291\n",
      "cls_id                                                   1109716227\n",
      "language          PythonPythonPythonPythonPythonPythonPythonPyth...\n",
      "pro_star                                                     323648\n",
      "isslist           [None, None, None, None, None, None, None, Non...\n",
      "proclspr                                                     137807\n",
      "rptcmt                                                         6369\n",
      "rptallcmt                                                    133955\n",
      "rptpronum                                                      2689\n",
      "rptstar                                                        9682\n",
      "rptfoll                                                        7275\n",
      "rptalliss                                                     19744\n",
      "rptiss                                                         3392\n",
      "rptallpr                                                      14260\n",
      "rptpr                                                          2309\n",
      "rptissues         [39458049, 39458050, 40954937, 43104243, 46461...\n",
      "ownercmt                                                          0\n",
      "ownerallcmt                                                       0\n",
      "ownerpronum                                                     740\n",
      "ownerstar                                                    342241\n",
      "ownerfoll                                                         0\n",
      "owneralliss                                                       0\n",
      "owneriss                                                          0\n",
      "ownerallpr                                                        0\n",
      "ownerpr                                                           0\n",
      "ownerissues                                                      []\n",
      "procmt                                                       308282\n",
      "contributornum                                                30342\n",
      "crtclsissnum                                                 122985\n",
      "openiss                                                      304383\n",
      "openissratio                                                68.7568\n",
      "clsisst                                                       32161\n",
      "clscmt                                                          247\n",
      "title             API/DOC: status of low_memory kwarg of read_cs...\n",
      "body              I am getting the following warning:\\n\\n```\\n/u...\n",
      "labels            [0, 0, 0, 0, 1, 0, 0, 0, 0, 0, 0, 0, 1, 0, 0, ...\n",
      "rpthaslabel                                                      85\n",
      "fromcmt                                                           0\n",
      "usedt                                                       3635551\n",
      "dtype: object\n"
     ]
    }
   ],
   "source": [
    "data1 = LTC_df.iloc[:,:].sum(axis = 0)\n",
    "print(data1)"
   ]
  },
  {
   "cell_type": "code",
   "execution_count": 40,
   "metadata": {},
   "outputs": [
    {
     "name": "stdout",
     "output_type": "stream",
     "text": [
      "issue_id                                                90763915267\n",
      "proid                                                   48791462896\n",
      "owner_id                                                31986894236\n",
      "issuet            2014-01-23 20:57:372016-03-22 14:35:262016-06-...\n",
      "clst              2019-12-24 14:24:262016-12-13 23:11:382016-12-...\n",
      "rpt_id                                                  11963689241\n",
      "cls_id                                                  20222084995\n",
      "language          PythonPythonPythonPythonPythonPythonPythonPyth...\n",
      "pro_star                                                    8408946\n",
      "isslist           [None, None, None, None, None, None, None, Non...\n",
      "proclspr                                                    4131177\n",
      "rptcmt                                                       118532\n",
      "rptallcmt                                                   1716490\n",
      "rptpronum                                                     32292\n",
      "rptstar                                                       89483\n",
      "rptfoll                                                       67219\n",
      "rptalliss                                                    185778\n",
      "rptiss                                                        41613\n",
      "rptallpr                                                     170567\n",
      "rptpr                                                         34826\n",
      "rptissues         [44683766, 48390288, 48488689, 50851483, 51069...\n",
      "ownercmt                                                        341\n",
      "ownerallcmt                                                    1150\n",
      "ownerpronum                                                   12321\n",
      "ownerstar                                                   8798579\n",
      "ownerfoll                                                         0\n",
      "owneralliss                                                       0\n",
      "owneriss                                                          0\n",
      "ownerallpr                                                        0\n",
      "ownerpr                                                           0\n",
      "ownerissues                                                      []\n",
      "procmt                                                     10666494\n",
      "contributornum                                               788274\n",
      "crtclsissnum                                                3142998\n",
      "openiss                                                     7208354\n",
      "openissratio                                                748.441\n",
      "clsisst                                                      238850\n",
      "clscmt                                                         3371\n",
      "title             BUG: read multi-index column csv with index_co...\n",
      "body              http://stackoverflow.com/questions/21318865/re...\n",
      "labels            [0, 0, 0, 0, 0, 0, 0, 0, 0, 0, 0, 0, 1, 0, 0, ...\n",
      "rpthaslabel                                                    1012\n",
      "fromcmt                                                           3\n",
      "usedt                                                      41356882\n",
      "dtype: object\n"
     ]
    }
   ],
   "source": [
    "data2 = OTC_df.iloc[:,:].sum(axis = 0)\n",
    "print(data2)"
   ]
  },
  {
   "cell_type": "code",
   "execution_count": 41,
   "metadata": {},
   "outputs": [
    {
     "name": "stdout",
     "output_type": "stream",
     "text": [
      "----usedt-------\n",
      "42771.18823529412\n",
      "40866.48418972332\n",
      "----title-------\n",
      "58.44705882352941\n",
      "57.6600790513834\n",
      "----body-------\n",
      "1847.129411764706\n",
      "1928.4446640316205\n",
      "----label num-------\n",
      "0.09411764705882353\n",
      "0.04743083003952569\n"
     ]
    }
   ],
   "source": [
    "print('----usedt-------')\n",
    "print(data1['usedt']/LTC_issue_num)\n",
    "print(data2['usedt']/OTC_issue_num)\n",
    "print('----title-------')\n",
    "print(len(data1['title'])/LTC_issue_num)\n",
    "print(len(data2['title'])/OTC_issue_num)\n",
    "print('----body-------')\n",
    "print(len(data1['body'])/LTC_issue_num)\n",
    "print(len(data2['body'])/OTC_issue_num)\n",
    "print('----label num-------')\n",
    "print(sum(data1['labels'])/LTC_issue_num)\n",
    "print(sum(data2['labels'])/OTC_issue_num)"
   ]
  },
  {
   "cell_type": "code",
   "execution_count": 48,
   "metadata": {},
   "outputs": [
    {
     "name": "stdout",
     "output_type": "stream",
     "text": [
      "{'Python': 85}\n",
      "{'Python': 1012}\n"
     ]
    }
   ],
   "source": [
    "LTC_type = {}\n",
    "OTC_type = {}\n",
    "for index, row in LTC_df.iterrows():\n",
    "    if row['language'] not in LTC_type.keys():\n",
    "        LTC_type[row['language']] = 1\n",
    "    else:\n",
    "        LTC_type[row['language']] += 1\n",
    "print(LTC_type)\n",
    "for index, row in OTC_df.iterrows():\n",
    "    if row['language'] not in OTC_type.keys():\n",
    "        OTC_type[row['language']] = 1\n",
    "    else:\n",
    "        OTC_type[row['language']] += 1\n",
    "print(OTC_type)"
   ]
  },
  {
   "cell_type": "code",
   "execution_count": 49,
   "metadata": {},
   "outputs": [
    {
     "name": "stdout",
     "output_type": "stream",
     "text": [
      "{'Python': 2296}\n",
      "{'Python': 1942}\n"
     ]
    }
   ],
   "source": [
    "LTC_type1 = {}\n",
    "OTC_type1 = {}\n",
    "for row in LTC_issues:\n",
    "    if row['language'] not in LTC_type1.keys():\n",
    "        LTC_type1[row['language']] = 1\n",
    "    else:\n",
    "        LTC_type1[row['language']] += 1\n",
    "print(LTC_type1)\n",
    "for row in OTC_issues:\n",
    "    if row['language'] not in OTC_type1.keys():\n",
    "        OTC_type1[row['language']] = 1\n",
    "    else:\n",
    "        OTC_type1[row['language']] += 1\n",
    "print(OTC_type1)"
   ]
  },
  {
   "cell_type": "code",
   "execution_count": null,
   "metadata": {},
   "outputs": [],
   "source": []
  }
 ],
 "metadata": {
  "kernelspec": {
   "display_name": "Python 3",
   "language": "python",
   "name": "python3"
  },
  "language_info": {
   "codemirror_mode": {
    "name": "ipython",
    "version": 3
   },
   "file_extension": ".py",
   "mimetype": "text/x-python",
   "name": "python",
   "nbconvert_exporter": "python",
   "pygments_lexer": "ipython3",
   "version": "3.8.5"
  }
 },
 "nbformat": 4,
 "nbformat_minor": 4
}
