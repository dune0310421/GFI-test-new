{
 "cells": [
  {
   "cell_type": "code",
   "execution_count": null,
   "metadata": {},
   "outputs": [],
   "source": [
    "# 数据集：RecGFI的数据集"
   ]
  },
  {
   "cell_type": "code",
   "execution_count": 2,
   "metadata": {},
   "outputs": [
    {
     "ename": "FileNotFoundError",
     "evalue": "[Errno 2] No such file or directory: '../data/issuedata.json'",
     "output_type": "error",
     "traceback": [
      "\u001b[1;31m---------------------------------------------------------------------------\u001b[0m",
      "\u001b[1;31mFileNotFoundError\u001b[0m                         Traceback (most recent call last)",
      "\u001b[1;32m<ipython-input-2-72bdc4408fd4>\u001b[0m in \u001b[0;36m<module>\u001b[1;34m\u001b[0m\n\u001b[0;32m      1\u001b[0m \u001b[1;32mimport\u001b[0m \u001b[0mjson\u001b[0m\u001b[1;33m\u001b[0m\u001b[1;33m\u001b[0m\u001b[0m\n\u001b[0;32m      2\u001b[0m \u001b[1;33m\u001b[0m\u001b[0m\n\u001b[1;32m----> 3\u001b[1;33m \u001b[1;32mwith\u001b[0m \u001b[0mopen\u001b[0m\u001b[1;33m(\u001b[0m\u001b[1;34m'../data/issuedata.json'\u001b[0m\u001b[1;33m)\u001b[0m \u001b[1;32mas\u001b[0m \u001b[0mf\u001b[0m\u001b[1;33m:\u001b[0m\u001b[1;33m\u001b[0m\u001b[1;33m\u001b[0m\u001b[0m\n\u001b[0m\u001b[0;32m      4\u001b[0m     \u001b[0missuestr\u001b[0m \u001b[1;33m=\u001b[0m \u001b[0mjson\u001b[0m\u001b[1;33m.\u001b[0m\u001b[0mload\u001b[0m\u001b[1;33m(\u001b[0m\u001b[0mf\u001b[0m\u001b[1;33m)\u001b[0m\u001b[1;33m\u001b[0m\u001b[1;33m\u001b[0m\u001b[0m\n\u001b[0;32m      5\u001b[0m     \u001b[0missuedic\u001b[0m \u001b[1;33m=\u001b[0m \u001b[0mjson\u001b[0m\u001b[1;33m.\u001b[0m\u001b[0mloads\u001b[0m\u001b[1;33m(\u001b[0m\u001b[0missuestr\u001b[0m\u001b[1;33m)\u001b[0m\u001b[1;33m\u001b[0m\u001b[1;33m\u001b[0m\u001b[0m\n",
      "\u001b[1;31mFileNotFoundError\u001b[0m: [Errno 2] No such file or directory: '../data/issuedata.json'"
     ]
    }
   ],
   "source": [
    "import json\n",
    "\n",
    "with open('data/issuedata.json') as f:\n",
    "    issuestr = json.load(f)\n",
    "    issuedic = json.loads(issuestr)\n",
    "    issuedata = issuedic['issuedata']"
   ]
  },
  {
   "cell_type": "code",
   "execution_count": 2,
   "metadata": {},
   "outputs": [
    {
     "name": "stdout",
     "output_type": "stream",
     "text": [
      "{'issue_id': 65398189, 'proid': 35819264, 'owner_id': 12882, 'issuet': '2018-01-25 18:30:39', 'reft': '2020-02-27 22:45:28', 'clst': '2020-02-27 23:17:44', 'rpt_id': 5078102, 'cls_id': 39337578, 'language': 'C#', 'pro_star': 3774, 'isslist': [None, None, None, None, None, None, None, None, None, None, None, None, None, None, None, None, None, None, None, None, None, None, None, None, None, 2484, 1614, None, 22, 2, None, None, None, None, None, None, 1, 2, 143, 143, None, None, None, None, None, None, None, None, None, None, None, None, None, None, None, None, 82, 7, 0, 0, 1613, 1631, 1631, None, None, None, 2, None, 1654, 60, None, 3845, None, None, None, None, None, None, None, None, None, None, None, None, None, None, None, None, None, None, None, None, None, 1762, None, None, None, None, None, None, None, 0, None, None, None, None, None, None, 0, 0, None, None, None, None, None, None, None, None, None, 87, 3877, 1, 1796, 104, 1640, 1640, 3877, 1640, 87, 1640, 1640, None, None, None, None, None, None, None, None, None, None, None, None, None, None, None, None, None, None, None, None, None, None, None, None, None, None, None, None, None, None, None, None, 3898, 3898, 3898, 1, 1762, 3898, 1, 0, None, None, 57, None, None, 12, None, 2739, 146, 146, 2739, 3902, 3902, 2739, 1, 146, 146, 1766, 1766, None, 2, None, 2742, 2742, 2742, 148, 38, 1, None, None, 151, 2742, 151, None, None, None, None, None, None, None, None, None, None, None, None, None, None, None, None, None, None, None, None, 1, 24, None, None, None, None, None, None, None, None, 1907, None, 183, None, None, None, 13, None, None, None, None, None, None, None, None, None, None, None, None, None, None, None, None, None, None, None, None, None, None, None, None, None, 4000, None, None, None, None, 1919, 191, 6, None, 4000, None, 2757, 24, None, None, None, None, None, None, None, None, None, 96, None, None, 0, None, None, 4023, 0, None, None, None, None, None, None, None, None, None, None, 1941, None, None, None, None, None, None, None, None, None, None, None, None, None, None, None, None, None, None, None, None, None, None, None, None, None, None, None, None, None, None, None, None, None, None, None, None, None, None, None, None, None, None, None, None], 'proclspr': 2830, 'rptcmt': 0, 'rptallcmt': 56, 'rptpronum': 5, 'rptstar': 0, 'rptfoll': 2, 'rptalliss': 108, 'rptiss': 11, 'rptallpr': 6, 'rptpr': 0, 'rptissues': [64885669, 65320093, 65398189, 69679049, 74949966, 114720256, 114935893, 116300507, 117514066, 120561599, 162920875], 'ownercmt': 0, 'ownerallcmt': 0, 'ownerpronum': 211, 'ownerstar': 28334, 'ownerfoll': 9, 'owneralliss': 0, 'owneriss': 0, 'ownerallpr': 0, 'ownerpr': 0, 'ownerissues': [], 'procmt': 17070, 'contributornum': 292, 'crtclsissnum': 2539, 'openiss': 5463, 'openissratio': 0.6827043239190203, 'clsisst': 838.0, 'clscmt': 13, 'title': '[macOS] GestureRecognizer on ListView Item not working', 'body': '### Description\\r\\nThe `TapGestureRecognizer` or `ClickGestureRecognizer` on `ListView` `ItemTemplate` not works on macOS. It works on UWP, Android & iOS.\\r\\n\\r\\n### Steps to Reproduce\\r\\n1. Add `ListView` on `ContentPage`\\r\\n2. Add `GestureRecognizers` on `ItemTemplate`\\r\\n\\r\\n### Basic Information\\r\\n\\r\\n- Version with issue: Xamarin.Forms 2.5.0.122203\\r\\n- IDE: Visual Studio for Mac 7.3.3 (build 5)\\r\\n- Platform Target Frameworks:\\r\\n  - macOS: 10.13.2\\r\\n\\r\\n### Reproduction Link\\r\\nhttps://github.com/MADSENSE/Madsense.XamarinForms.Sample/tree/ListView-GestureRecognizer\\r\\n', 'labels': [0, 1, 0, 0, 0, 0, 0, 0, 0, 0, 0, 1, 6], 'events': [[[10, 47, 183, 159, 33, 39, 19, 104, 94, [None, None, None, None, None, None, None, None, None, None, None, None, None, None, None, None, None, None, None]], [10, 47, 183, 159, 33, 39, 19, 104, 94, [None, None, None, None, None, None, None, None, None, None, None, None, None, None, None, None, None, None, None]], [2, 8, 1875, 1654, 69, 188, 172, 136, 131, [None, None, None, None, None, None, None, None, None, None, None, None, None, None, None, None, None, None, None, None, None, None, None, None, None, None, None, None, None, None, None, None, None, None, None, None, None, None, None, None, None, None, None, None, None, None, None, None, None, None, None, None, None, None, None, None, None, None, None, None, None, None, None, None, None, None, None, None, None, None, None, None, None, None, None, None, None, None, None, None, None, None, None, None, None, None, None, None, None, None, None, None, None, None, None, None, None, None, None, None, None, None, None, None, None, None, None, None, None, None, None, None, None, None, None, None, None, None, None, None, None, None, None, None, None, None, None, None, None, None, None, None, None, None, None, None, None, None, None, None, None, None, None, None, None, None, None, None, None, None, None, None, None, None, None, None, None, None, None, None, None, None, None, None, None, None, None, None, None, None, None, None]], [2, 8, 1875, 1654, 69, 188, 172, 136, 131, [None, None, None, None, None, None, None, None, None, None, None, None, None, None, None, None, None, None, None, None, None, None, None, None, None, None, None, None, None, None, None, None, None, None, None, None, None, None, None, None, None, None, None, None, None, None, None, None, None, None, None, None, None, None, None, None, None, None, None, None, None, None, None, None, None, None, None, None, None, None, None, None, None, None, None, None, None, None, None, None, None, None, None, None, None, None, None, None, None, None, None, None, None, None, None, None, None, None, None, None, None, None, None, None, None, None, None, None, None, None, None, None, None, None, None, None, None, None, None, None, None, None, None, None, None, None, None, None, None, None, None, None, None, None, None, None, None, None, None, None, None, None, None, None, None, None, None, None, None, None, None, None, None, None, None, None, None, None, None, None, None, None, None, None, None, None, None, None, None, None, None, None]], [2, 8, 1875, 1654, 69, 188, 172, 136, 131, [None, None, None, None, None, None, None, None, None, None, None, None, None, None, None, None, None, None, None, None, None, None, None, None, None, None, None, None, None, None, None, None, None, None, None, None, None, None, None, None, None, None, None, None, None, None, None, None, None, None, None, None, None, None, None, None, None, None, None, None, None, None, None, None, None, None, None, None, None, None, None, None, None, None, None, None, None, None, None, None, None, None, None, None, None, None, None, None, None, None, None, None, None, None, None, None, None, None, None, None, None, None, None, None, None, None, None, None, None, None, None, None, None, None, None, None, None, None, None, None, None, None, None, None, None, None, None, None, None, None, None, None, None, None, None, None, None, None, None, None, None, None, None, None, None, None, None, None, None, None, None, None, None, None, None, None, None, None, None, None, None, None, None, None, None, None, None, None, None, None, None, None]], [2, 8, 1875, 1654, 69, 188, 172, 136, 131, [None, None, None, None, None, None, None, None, None, None, None, None, None, None, None, None, None, None, None, None, None, None, None, None, None, None, None, None, None, None, None, None, None, None, None, None, None, None, None, None, None, None, None, None, None, None, None, None, None, None, None, None, None, None, None, None, None, None, None, None, None, None, None, None, None, None, None, None, None, None, None, None, None, None, None, None, None, None, None, None, None, None, None, None, None, None, None, None, None, None, None, None, None, None, None, None, None, None, None, None, None, None, None, None, None, None, None, None, None, None, None, None, None, None, None, None, None, None, None, None, None, None, None, None, None, None, None, None, None, None, None, None, None, None, None, None, None, None, None, None, None, None, None, None, None, None, None, None, None, None, None, None, None, None, None, None, None, None, None, None, None, None, None, None, None, None, None, None, None, None, None, None]], [2, 8, 1875, 1654, 69, 188, 172, 136, 131, [None, None, None, None, None, None, None, None, None, None, None, None, None, None, None, None, None, None, None, None, None, None, None, None, None, None, None, None, None, None, None, None, None, None, None, None, None, None, None, None, None, None, None, None, None, None, None, None, None, None, None, None, None, None, None, None, None, None, None, None, None, None, None, None, None, None, None, None, None, None, None, None, None, None, None, None, None, None, None, None, None, None, None, None, None, None, None, None, None, None, None, None, None, None, None, None, None, None, None, None, None, None, None, None, None, None, None, None, None, None, None, None, None, None, None, None, None, None, None, None, None, None, None, None, None, None, None, None, None, None, None, None, None, None, None, None, None, None, None, None, None, None, None, None, None, None, None, None, None, None, None, None, None, None, None, None, None, None, None, None, None, None, None, None, None, None, None, None, None, None, None, None]], [2, 8, 1875, 1654, 69, 188, 172, 136, 131, [None, None, None, None, None, None, None, None, None, None, None, None, None, None, None, None, None, None, None, None, None, None, None, None, None, None, None, None, None, None, None, None, None, None, None, None, None, None, None, None, None, None, None, None, None, None, None, None, None, None, None, None, None, None, None, None, None, None, None, None, None, None, None, None, None, None, None, None, None, None, None, None, None, None, None, None, None, None, None, None, None, None, None, None, None, None, None, None, None, None, None, None, None, None, None, None, None, None, None, None, None, None, None, None, None, None, None, None, None, None, None, None, None, None, None, None, None, None, None, None, None, None, None, None, None, None, None, None, None, None, None, None, None, None, None, None, None, None, None, None, None, None, None, None, None, None, None, None, None, None, None, None, None, None, None, None, None, None, None, None, None, None, None, None, None, None, None, None, None, None, None, None]], [2, 8, 1875, 1654, 69, 188, 172, 136, 131, [None, None, None, None, None, None, None, None, None, None, None, None, None, None, None, None, None, None, None, None, None, None, None, None, None, None, None, None, None, None, None, None, None, None, None, None, None, None, None, None, None, None, None, None, None, None, None, None, None, None, None, None, None, None, None, None, None, None, None, None, None, None, None, None, None, None, None, None, None, None, None, None, None, None, None, None, None, None, None, None, None, None, None, None, None, None, None, None, None, None, None, None, None, None, None, None, None, None, None, None, None, None, None, None, None, None, None, None, None, None, None, None, None, None, None, None, None, None, None, None, None, None, None, None, None, None, None, None, None, None, None, None, None, None, None, None, None, None, None, None, None, None, None, None, None, None, None, None, None, None, None, None, None, None, None, None, None, None, None, None, None, None, None, None, None, None, None, None, None, None, None, None]]], [[2, 8, 1875, 1654, 69, 188, 172, 136, 131, [None, None, None, None, None, None, None, None, None, None, None, None, None, None, None, None, None, None, None, None, None, None, None, None, None, None, None, None, None, None, None, None, None, None, None, None, None, None, None, None, None, None, None, None, None, None, None, None, None, None, None, None, None, None, None, None, None, None, None, None, None, None, None, None, None, None, None, None, None, None, None, None, None, None, None, None, None, None, None, None, None, None, None, None, None, None, None, None, None, None, None, None, None, None, None, None, None, None, None, None, None, None, None, None, None, None, None, None, None, None, None, None, None, None, None, None, None, None, None, None, None, None, None, None, None, None, None, None, None, None, None, None, None, None, None, None, None, None, None, None, None, None, None, None, None, None, None, None, None, None, None, None, None, None, None, None, None, None, None, None, None, None, None, None, None, None, None, None, None, None, None, None]]], [], [[2, 8, 1875, 1654, 69, 188, 172, 136, 131, [None, None, None, None, None, None, None, None, None, None, None, None, None, None, None, None, None, None, None, None, None, None, None, None, None, None, None, None, None, None, None, None, None, None, None, None, None, None, None, None, None, None, None, None, None, None, None, None, None, None, None, None, None, None, None, None, None, None, None, None, None, None, None, None, None, None, None, None, None, None, None, None, None, None, None, None, None, None, None, None, None, None, None, None, None, None, None, None, None, None, None, None, None, None, None, None, None, None, None, None, None, None, None, None, None, None, None, None, None, None, None, None, None, None, None, None, None, None, None, None, None, None, None, None, None, None, None, None, None, None, None, None, None, None, None, None, None, None, None, None, None, None, None, None, None, None, None, None, None, None, None, None, None, None, None, None, None, None, None, None, None, None, None, None, None, None, None, None, None, None, None, None]]], [], [], [], [[2, 8, 1875, 1654, 69, 188, 172, 136, 131, [None, None, None, None, None, None, None, None, None, None, None, None, None, None, None, None, None, None, None, None, None, None, None, None, None, None, None, None, None, None, None, None, None, None, None, None, None, None, None, None, None, None, None, None, None, None, None, None, None, None, None, None, None, None, None, None, None, None, None, None, None, None, None, None, None, None, None, None, None, None, None, None, None, None, None, None, None, None, None, None, None, None, None, None, None, None, None, None, None, None, None, None, None, None, None, None, None, None, None, None, None, None, None, None, None, None, None, None, None, None, None, None, None, None, None, None, None, None, None, None, None, None, None, None, None, None, None, None, None, None, None, None, None, None, None, None, None, None, None, None, None, None, None, None, None, None, None, None, None, None, None, None, None, None, None, None, None, None, None, None, None, None, None, None, None, None, None, None, None, None, None, None]], [2, 8, 1875, 1654, 69, 188, 172, 136, 131, [None, None, None, None, None, None, None, None, None, None, None, None, None, None, None, None, None, None, None, None, None, None, None, None, None, None, None, None, None, None, None, None, None, None, None, None, None, None, None, None, None, None, None, None, None, None, None, None, None, None, None, None, None, None, None, None, None, None, None, None, None, None, None, None, None, None, None, None, None, None, None, None, None, None, None, None, None, None, None, None, None, None, None, None, None, None, None, None, None, None, None, None, None, None, None, None, None, None, None, None, None, None, None, None, None, None, None, None, None, None, None, None, None, None, None, None, None, None, None, None, None, None, None, None, None, None, None, None, None, None, None, None, None, None, None, None, None, None, None, None, None, None, None, None, None, None, None, None, None, None, None, None, None, None, None, None, None, None, None, None, None, None, None, None, None, None, None, None, None, None, None, None]], [2, 8, 1875, 1654, 69, 188, 172, 136, 131, [None, None, None, None, None, None, None, None, None, None, None, None, None, None, None, None, None, None, None, None, None, None, None, None, None, None, None, None, None, None, None, None, None, None, None, None, None, None, None, None, None, None, None, None, None, None, None, None, None, None, None, None, None, None, None, None, None, None, None, None, None, None, None, None, None, None, None, None, None, None, None, None, None, None, None, None, None, None, None, None, None, None, None, None, None, None, None, None, None, None, None, None, None, None, None, None, None, None, None, None, None, None, None, None, None, None, None, None, None, None, None, None, None, None, None, None, None, None, None, None, None, None, None, None, None, None, None, None, None, None, None, None, None, None, None, None, None, None, None, None, None, None, None, None, None, None, None, None, None, None, None, None, None, None, None, None, None, None, None, None, None, None, None, None, None, None, None, None, None, None, None, None]], [2, 8, 1875, 1654, 69, 188, 172, 136, 131, [None, None, None, None, None, None, None, None, None, None, None, None, None, None, None, None, None, None, None, None, None, None, None, None, None, None, None, None, None, None, None, None, None, None, None, None, None, None, None, None, None, None, None, None, None, None, None, None, None, None, None, None, None, None, None, None, None, None, None, None, None, None, None, None, None, None, None, None, None, None, None, None, None, None, None, None, None, None, None, None, None, None, None, None, None, None, None, None, None, None, None, None, None, None, None, None, None, None, None, None, None, None, None, None, None, None, None, None, None, None, None, None, None, None, None, None, None, None, None, None, None, None, None, None, None, None, None, None, None, None, None, None, None, None, None, None, None, None, None, None, None, None, None, None, None, None, None, None, None, None, None, None, None, None, None, None, None, None, None, None, None, None, None, None, None, None, None, None, None, None, None, None]]], [[10, 47, 183, 159, 33, 39, 19, 104, 94, [None, None, None, None, None, None, None, None, None, None, None, None, None, None, None, None, None, None, None]]], [], [[10, 47, 183, 159, 33, 39, 19, 104, 94, [None, None, None, None, None, None, None, None, None, None, None, None, None, None, None, None, None, None, None]], [2, 8, 1875, 1654, 69, 188, 172, 136, 131, [None, None, None, None, None, None, None, None, None, None, None, None, None, None, None, None, None, None, None, None, None, None, None, None, None, None, None, None, None, None, None, None, None, None, None, None, None, None, None, None, None, None, None, None, None, None, None, None, None, None, None, None, None, None, None, None, None, None, None, None, None, None, None, None, None, None, None, None, None, None, None, None, None, None, None, None, None, None, None, None, None, None, None, None, None, None, None, None, None, None, None, None, None, None, None, None, None, None, None, None, None, None, None, None, None, None, None, None, None, None, None, None, None, None, None, None, None, None, None, None, None, None, None, None, None, None, None, None, None, None, None, None, None, None, None, None, None, None, None, None, None, None, None, None, None, None, None, None, None, None, None, None, None, None, None, None, None, None, None, None, None, None, None, None, None, None, None, None, None, None, None, None]], [2, 8, 1875, 1654, 69, 188, 172, 136, 131, [None, None, None, None, None, None, None, None, None, None, None, None, None, None, None, None, None, None, None, None, None, None, None, None, None, None, None, None, None, None, None, None, None, None, None, None, None, None, None, None, None, None, None, None, None, None, None, None, None, None, None, None, None, None, None, None, None, None, None, None, None, None, None, None, None, None, None, None, None, None, None, None, None, None, None, None, None, None, None, None, None, None, None, None, None, None, None, None, None, None, None, None, None, None, None, None, None, None, None, None, None, None, None, None, None, None, None, None, None, None, None, None, None, None, None, None, None, None, None, None, None, None, None, None, None, None, None, None, None, None, None, None, None, None, None, None, None, None, None, None, None, None, None, None, None, None, None, None, None, None, None, None, None, None, None, None, None, None, None, None, None, None, None, None, None, None, None, None, None, None, None, None]], [2, 8, 1875, 1654, 69, 188, 172, 136, 131, [None, None, None, None, None, None, None, None, None, None, None, None, None, None, None, None, None, None, None, None, None, None, None, None, None, None, None, None, None, None, None, None, None, None, None, None, None, None, None, None, None, None, None, None, None, None, None, None, None, None, None, None, None, None, None, None, None, None, None, None, None, None, None, None, None, None, None, None, None, None, None, None, None, None, None, None, None, None, None, None, None, None, None, None, None, None, None, None, None, None, None, None, None, None, None, None, None, None, None, None, None, None, None, None, None, None, None, None, None, None, None, None, None, None, None, None, None, None, None, None, None, None, None, None, None, None, None, None, None, None, None, None, None, None, None, None, None, None, None, None, None, None, None, None, None, None, None, None, None, None, None, None, None, None, None, None, None, None, None, None, None, None, None, None, None, None, None, None, None, None, None, None]], [2, 8, 1875, 1654, 69, 188, 172, 136, 131, [None, None, None, None, None, None, None, None, None, None, None, None, None, None, None, None, None, None, None, None, None, None, None, None, None, None, None, None, None, None, None, None, None, None, None, None, None, None, None, None, None, None, None, None, None, None, None, None, None, None, None, None, None, None, None, None, None, None, None, None, None, None, None, None, None, None, None, None, None, None, None, None, None, None, None, None, None, None, None, None, None, None, None, None, None, None, None, None, None, None, None, None, None, None, None, None, None, None, None, None, None, None, None, None, None, None, None, None, None, None, None, None, None, None, None, None, None, None, None, None, None, None, None, None, None, None, None, None, None, None, None, None, None, None, None, None, None, None, None, None, None, None, None, None, None, None, None, None, None, None, None, None, None, None, None, None, None, None, None, None, None, None, None, None, None, None, None, None, None, None, None, None]], [2, 8, 1875, 1654, 69, 188, 172, 136, 131, [None, None, None, None, None, None, None, None, None, None, None, None, None, None, None, None, None, None, None, None, None, None, None, None, None, None, None, None, None, None, None, None, None, None, None, None, None, None, None, None, None, None, None, None, None, None, None, None, None, None, None, None, None, None, None, None, None, None, None, None, None, None, None, None, None, None, None, None, None, None, None, None, None, None, None, None, None, None, None, None, None, None, None, None, None, None, None, None, None, None, None, None, None, None, None, None, None, None, None, None, None, None, None, None, None, None, None, None, None, None, None, None, None, None, None, None, None, None, None, None, None, None, None, None, None, None, None, None, None, None, None, None, None, None, None, None, None, None, None, None, None, None, None, None, None, None, None, None, None, None, None, None, None, None, None, None, None, None, None, None, None, None, None, None, None, None, None, None, None, None, None, None]]], [], [[2, 8, 1875, 1654, 69, 188, 172, 136, 131, [None, None, None, None, None, None, None, None, None, None, None, None, None, None, None, None, None, None, None, None, None, None, None, None, None, None, None, None, None, None, None, None, None, None, None, None, None, None, None, None, None, None, None, None, None, None, None, None, None, None, None, None, None, None, None, None, None, None, None, None, None, None, None, None, None, None, None, None, None, None, None, None, None, None, None, None, None, None, None, None, None, None, None, None, None, None, None, None, None, None, None, None, None, None, None, None, None, None, None, None, None, None, None, None, None, None, None, None, None, None, None, None, None, None, None, None, None, None, None, None, None, None, None, None, None, None, None, None, None, None, None, None, None, None, None, None, None, None, None, None, None, None, None, None, None, None, None, None, None, None, None, None, None, None, None, None, None, None, None, None, None, None, None, None, None, None, None, None, None, None, None, None]], [2, 8, 1875, 1654, 69, 188, 172, 136, 131, [None, None, None, None, None, None, None, None, None, None, None, None, None, None, None, None, None, None, None, None, None, None, None, None, None, None, None, None, None, None, None, None, None, None, None, None, None, None, None, None, None, None, None, None, None, None, None, None, None, None, None, None, None, None, None, None, None, None, None, None, None, None, None, None, None, None, None, None, None, None, None, None, None, None, None, None, None, None, None, None, None, None, None, None, None, None, None, None, None, None, None, None, None, None, None, None, None, None, None, None, None, None, None, None, None, None, None, None, None, None, None, None, None, None, None, None, None, None, None, None, None, None, None, None, None, None, None, None, None, None, None, None, None, None, None, None, None, None, None, None, None, None, None, None, None, None, None, None, None, None, None, None, None, None, None, None, None, None, None, None, None, None, None, None, None, None, None, None, None, None, None, None]], [2, 8, 1875, 1654, 69, 188, 172, 136, 131, [None, None, None, None, None, None, None, None, None, None, None, None, None, None, None, None, None, None, None, None, None, None, None, None, None, None, None, None, None, None, None, None, None, None, None, None, None, None, None, None, None, None, None, None, None, None, None, None, None, None, None, None, None, None, None, None, None, None, None, None, None, None, None, None, None, None, None, None, None, None, None, None, None, None, None, None, None, None, None, None, None, None, None, None, None, None, None, None, None, None, None, None, None, None, None, None, None, None, None, None, None, None, None, None, None, None, None, None, None, None, None, None, None, None, None, None, None, None, None, None, None, None, None, None, None, None, None, None, None, None, None, None, None, None, None, None, None, None, None, None, None, None, None, None, None, None, None, None, None, None, None, None, None, None, None, None, None, None, None, None, None, None, None, None, None, None, None, None, None, None, None, None]]], [], [], [], [], [], [], [], [], [], [], [], [], []], 'commentusers': [[5, 0, 56, 0, 2, 108, 11, 6, 0, [None, None, None, None, None, None, None, None, None, None, None]], [3, 0, 0, 0, 0, 3, 1, 0, 0, [None]], [27, 14, 131, 0, 6, 30, 2, 12, 0, [3898, 4023]], [12, 1, 108, 0, 1, 49, 4, 9, 0, [None, None, None, None]], [5, 1, 95, 0, 0, 13, 0, 12, 0, []]], 'commentbody': ['Temp workaround, add transparent button on background:\\r\\n````xml\\r\\n<Button Command=\"{Binding MyComand}\" BackgroundColor=\"Transparent\">\\r\\n    <Button.IsVisible>\\r\\n        <OnPlatform x:TypeArguments=\"x:Boolean\">\\r\\n            <On Platform=\"macOS\">true</On>\\r\\n        </OnPlatform>\\r\\n    </Button.IsVisible>\\r\\n</Button>\\r\\n````', 'Seeing this same issue with using a GestureRecognizer on any controls inside the ItemTemplate. The workaround seems to work for now although it’s not ideal.', 'Any updates on this? @samhouts \\r\\nthanks ', 'it has been almost 2 years and still no progress...', '> Temp workaround, add transparent button on background:\\r\\n> \\r\\n> ```\\r\\n> <Button Command=\"{Binding MyComand}\" BackgroundColor=\"Transparent\">\\r\\n>     <Button.IsVisible>\\r\\n>         <OnPlatform x:TypeArguments=\"x:Boolean\">\\r\\n>             <On Platform=\"macOS\">true</On>\\r\\n>         </OnPlatform>\\r\\n>     </Button.IsVisible>\\r\\n> </Button>\\r\\n> ```\\r\\n\\r\\nI was still able to see the button when setting the background color.  Setting the Opacity to 0 makes it truly invisible.\\r\\n```\\r\\n<Button Command=\"{Binding MyComand}\" Opacity=\"0\">\\r\\n    <Button.IsVisible>\\r\\n        <OnPlatform x:TypeArguments=\"x:Boolean\">\\r\\n            <On Platform=\"macOS\">true</On>\\r\\n        </OnPlatform>\\r\\n    </Button.IsVisible>\\r\\n</Button>\\r\\n```'], 'rpthaslabel': 1, 'rpthasevent': 0, 'rpthascomment': 1, 'fromcmt': 0, 'usedt': 17225, 'rptisscmtlist': None}\n",
      "65398189\n"
     ]
    }
   ],
   "source": [
    "# print the format of the data\n",
    "lst=[]\n",
    "for i in range(len(issuedata)):\n",
    "    if i<1:\n",
    "        lst.append(issuedata[i][1])\n",
    "# print(lst)\n",
    "print(issuedata[i][1])\n",
    "print(issuedata[i][1]['issue_id'])"
   ]
  },
  {
   "cell_type": "code",
   "execution_count": 3,
   "metadata": {},
   "outputs": [],
   "source": [
    "# read files\n",
    "import pandas as pd\n",
    "df = pd.read_csv(\".\\data\\issue_id_info.csv\")\n",
    "df1 = pd.read_csv(\".\\data\\\\repo_id_info.csv\")"
   ]
  },
  {
   "cell_type": "code",
   "execution_count": 4,
   "metadata": {},
   "outputs": [
    {
     "name": "stdout",
     "output_type": "stream",
     "text": [
      "4238\n",
      "       Unnamed: 0   issue_id  repo_owner repo_name  repo_number  \\\n",
      "26681       26681   60338949  pandas-dev    pandas         6051   \n",
      "26683       26683   47663339  pandas-dev    pandas         7640   \n",
      "26684       26684   40745615  pandas-dev    pandas         8860   \n",
      "26703       26703   40766610  pandas-dev    pandas        10381   \n",
      "26706       26706   42857236  pandas-dev    pandas        12541   \n",
      "...           ...        ...         ...       ...          ...   \n",
      "53462       53462   56247860  pandas-dev    pandas        17496   \n",
      "53481       53481  170853265  pandas-dev    pandas        37280   \n",
      "53482       53482   55295695  pandas-dev    pandas        17336   \n",
      "53491       53491   68498503  pandas-dev    pandas        20031   \n",
      "53497       53497   63375095  pandas-dev    pandas        18943   \n",
      "\n",
      "       resolver_commit_num  \n",
      "26681                    0  \n",
      "26683                   13  \n",
      "26684                   85  \n",
      "26703                   95  \n",
      "26706                  183  \n",
      "...                    ...  \n",
      "53462                    0  \n",
      "53481                   27  \n",
      "53482                    0  \n",
      "53491                  760  \n",
      "53497                    0  \n",
      "\n",
      "[4238 rows x 6 columns]\n"
     ]
    }
   ],
   "source": [
    "# extract items from pandas\n",
    "ddf = df.loc[df['repo_name'] == 'pandas']\n",
    "print(ddf.shape[0])\n",
    "print(ddf)"
   ]
  },
  {
   "cell_type": "code",
   "execution_count": 8,
   "metadata": {},
   "outputs": [],
   "source": [
    "# generate urls of the issues and save to files\n",
    "import csv\n",
    "httpstr = 'https://github.com/pandas-dev/pandas/issues/'\n",
    "\n",
    "lst = []\n",
    "for index, row in ddf.iterrows():\n",
    "    lst.append([httpstr + str(row['repo_number'])])\n",
    "#         print(row['repo_number'])\n",
    "# print(lst)\n",
    "\n",
    "with open('.\\data\\pandas_link.csv', 'w', encoding='utf8', newline='') as csvfile:\n",
    "    writer = csv.writer(csvfile)\n",
    "    for item in lst:\n",
    "        writer.writerow(item)"
   ]
  },
  {
   "cell_type": "code",
   "execution_count": 6,
   "metadata": {},
   "outputs": [],
   "source": [
    "# print(pd.to_numeric((ddf['issue_id'])).tolist())\n",
    "pd_issue_ids = pd.to_numeric((ddf['issue_id'])).tolist()"
   ]
  },
  {
   "cell_type": "code",
   "execution_count": 8,
   "metadata": {},
   "outputs": [
    {
     "name": "stdout",
     "output_type": "stream",
     "text": [
      "4238\n"
     ]
    }
   ],
   "source": [
    "# 从原data中提取符合条件的issue（这里为pandas的所有issue）\n",
    "# 放入lst列表中\n",
    "lst=[]\n",
    "for i in range(len(issuedata)):\n",
    "    if issuedata[i][1]['issue_id'] in pd_issue_ids:\n",
    "        lst.append(issuedata[i][1])\n",
    "print(len(lst))\n",
    "# print(issuedata[i][0])\n",
    "# print(issuedata[i][0]['issue_id'])"
   ]
  },
  {
   "cell_type": "code",
   "execution_count": 9,
   "metadata": {},
   "outputs": [
    {
     "name": "stdout",
     "output_type": "stream",
     "text": [
      "{'issue_id': 40745615, 'proid': 48212908, 'owner_id': 31607603, 'issuet': '2014-11-19 21:26:03', 'reft': '2016-12-06 19:10:40', 'clst': '2016-12-06 19:10:40', 'rpt_id': 2934503, 'cls_id': 718011, 'language': 'Python', 'pro_star': 382, 'isslist': [1, None, None, None, None, None, 16, None, None, None, None, None, 0, 0, 0, 18, 18, None, None, None, None, None, None, 1, 1, None, None, None, None, None, None, None, None, None, 25, 22, 0, 28, 29, 53, 0, 32, 0, None, None, 35, 36, None, None, None, None, None, None, None, None, None, None, None, None, None, None, None, 1, None, None, None, None, None, None, None, None, None, None, None, None, None, None, None, None, None, None, None, None, None, None, None, None, None, None, None, 0, None, None, None, None, None, None, None, None, None, None, 0, None, None, 0, None, None, None, None, None, None, None, None, None, None, None, None, None, None, None, None, None, None, None, 43, None, None, None, 0, None, None, None, None, None, None, None, 47, None, None, None, None, None, 0, 0, None, None, 0, 2, None, 55, None, None, None, None, None, 0, 0, 63, None, 66, 0, 1, None, 0, 1, None, None, 69, None, None, None, 71, None, None, None, None, None, 0, None, 0, None, 1, None, 86, None, None, None, 0, 0, None, None, 0, None, 3, 3, None, 3, None, None, 80, 81, 2, None, 5, 0, 2, 1], 'proclspr': 172, 'rptcmt': 0, 'rptallcmt': 8, 'rptpronum': 7, 'rptstar': 1, 'rptfoll': 3, 'rptalliss': 2, 'rptiss': 1, 'rptallpr': 0, 'rptpr': 0, 'rptissues': [40745615], 'ownercmt': 0, 'ownerallcmt': 0, 'ownerpronum': 7, 'ownerstar': 453, 'ownerfoll': 0, 'owneralliss': 0, 'owneriss': 0, 'ownerallpr': 0, 'ownerpr': 0, 'ownerissues': [], 'procmt': 384, 'contributornum': 87, 'crtclsissnum': 279, 'openiss': 2067, 'openissratio': 0.881074168797954, 'clsisst': 37.0, 'clscmt': 85, 'title': 'Maintaining the order of the categorical variable that is passed into pd.crosstab', 'body': \"xref #8731, soln might be the same\\n\\nCurrently when we do a `crosstab`, the distinct values in each column is reported in the lexical order. But crosstabs are usually useful when we have categorical data (that may have an inherent ordering). \\n\\n``` python\\nimport pandas as pd\\n\\nd = {'MAKE' : pd.Series(['Honda', 'Acura', 'Tesla', 'Honda', 'Honda', 'Acura']),\\n'MODEL' : pd.Series(['Sedan', 'Sedan', 'Electric', 'Pickup', 'Sedan', 'Sedan'])}\\ndata = pd.DataFrame(d)\\npd.crosstab(data['MAKE'],data['MODEL'])\\n\\ndata['MODEL'] = data['MODEL'].astype('category')\\ndata['MODEL'] = data['MODEL'].cat.set_categories(['Sedan','Electric','Pickup'])\\npd.crosstab(data['MAKE'],data['MODEL'])\\n```\\n\\nBoth the cross-tab statements above result in the same output as below - essentially the code I believe is performing a lexical sort on the contents of the `Series` being passed.\\n\\n```\\nOutput:\\nMODEL  Electric  Pickup  Sedan\\nMAKE                          \\nAcura         0       0      2\\nHonda         0       1      2\\nTesla         1       0      0\\n```\\n\\nWould it be possible for `crosstab` to maintain the ordering of the categorical variable if column.cat.ordered on the passed column is True? Thanks!\\n\", 'labels': [0, 0, 0, 0, 0, 0, 0, 0, 0, 0, 0, 0, 2], 'events': [[[25, 154, 10802, 85, 383, 1416, 253, 1066, 21, [None, None, None, None, None, None, None, None, None, None, None, None, None, None, None, None, None, None, None, None, None, None, None, None, None, None, None, None, None, None, None, None, None, None, None, None, None, None, None, None, None, None, None, None, None, None, None, None, None, None, None, None, None, None, None, None, None, None, None, None, None, None, None, None, None, None, None, None, None, None, None, None, None, None, None, None, None, None, None, None, None, None, None, None, None, None, None, None, None, None, None, None, None, None, None, None, None, None, None, None, None, None, None, None, None, None, None, None, None, None, None, None, None, None, None, None, None, None, None, None, None, None, None, None, None, None, None, None, None, None, None, None, None, None, None, None, None, None, None, None, None, None, None, None, None, None, None, None, None, None, None, None, None, None, None, None, None, None, None, None, None, None, None, None, None, None, None, None, None, None, None, None, None, None, None, None, None, None, None, None, None, None, None, None, None, None, None, None, None, None, None, None, None, None, None, None, None, None, None, None, None, None, None, None, None, None, None, None, None, None, None, None, None, None, None, None, None, None, None, None, None, None, None, None, None, None, None, None, None, None, None, None, None, None, None, None, None, None, None, None, None, None, None, None, None, None, None, None, None, None, None, None, None]], [25, 154, 10802, 85, 383, 1416, 253, 1066, 21, [None, None, None, None, None, None, None, None, None, None, None, None, None, None, None, None, None, None, None, None, None, None, None, None, None, None, None, None, None, None, None, None, None, None, None, None, None, None, None, None, None, None, None, None, None, None, None, None, None, None, None, None, None, None, None, None, None, None, None, None, None, None, None, None, None, None, None, None, None, None, None, None, None, None, None, None, None, None, None, None, None, None, None, None, None, None, None, None, None, None, None, None, None, None, None, None, None, None, None, None, None, None, None, None, None, None, None, None, None, None, None, None, None, None, None, None, None, None, None, None, None, None, None, None, None, None, None, None, None, None, None, None, None, None, None, None, None, None, None, None, None, None, None, None, None, None, None, None, None, None, None, None, None, None, None, None, None, None, None, None, None, None, None, None, None, None, None, None, None, None, None, None, None, None, None, None, None, None, None, None, None, None, None, None, None, None, None, None, None, None, None, None, None, None, None, None, None, None, None, None, None, None, None, None, None, None, None, None, None, None, None, None, None, None, None, None, None, None, None, None, None, None, None, None, None, None, None, None, None, None, None, None, None, None, None, None, None, None, None, None, None, None, None, None, None, None, None, None, None, None, None, None, None]], [25, 154, 10802, 85, 383, 1416, 253, 1066, 21, [None, None, None, None, None, None, None, None, None, None, None, None, None, None, None, None, None, None, None, None, None, None, None, None, None, None, None, None, None, None, None, None, None, None, None, None, None, None, None, None, None, None, None, None, None, None, None, None, None, None, None, None, None, None, None, None, None, None, None, None, None, None, None, None, None, None, None, None, None, None, None, None, None, None, None, None, None, None, None, None, None, None, None, None, None, None, None, None, None, None, None, None, None, None, None, None, None, None, None, None, None, None, None, None, None, None, None, None, None, None, None, None, None, None, None, None, None, None, None, None, None, None, None, None, None, None, None, None, None, None, None, None, None, None, None, None, None, None, None, None, None, None, None, None, None, None, None, None, None, None, None, None, None, None, None, None, None, None, None, None, None, None, None, None, None, None, None, None, None, None, None, None, None, None, None, None, None, None, None, None, None, None, None, None, None, None, None, None, None, None, None, None, None, None, None, None, None, None, None, None, None, None, None, None, None, None, None, None, None, None, None, None, None, None, None, None, None, None, None, None, None, None, None, None, None, None, None, None, None, None, None, None, None, None, None, None, None, None, None, None, None, None, None, None, None, None, None, None, None, None, None, None, None]]], [], [], [], [], [], [[25, 154, 10802, 85, 383, 1416, 253, 1066, 21, [None, None, None, None, None, None, None, None, None, None, None, None, None, None, None, None, None, None, None, None, None, None, None, None, None, None, None, None, None, None, None, None, None, None, None, None, None, None, None, None, None, None, None, None, None, None, None, None, None, None, None, None, None, None, None, None, None, None, None, None, None, None, None, None, None, None, None, None, None, None, None, None, None, None, None, None, None, None, None, None, None, None, None, None, None, None, None, None, None, None, None, None, None, None, None, None, None, None, None, None, None, None, None, None, None, None, None, None, None, None, None, None, None, None, None, None, None, None, None, None, None, None, None, None, None, None, None, None, None, None, None, None, None, None, None, None, None, None, None, None, None, None, None, None, None, None, None, None, None, None, None, None, None, None, None, None, None, None, None, None, None, None, None, None, None, None, None, None, None, None, None, None, None, None, None, None, None, None, None, None, None, None, None, None, None, None, None, None, None, None, None, None, None, None, None, None, None, None, None, None, None, None, None, None, None, None, None, None, None, None, None, None, None, None, None, None, None, None, None, None, None, None, None, None, None, None, None, None, None, None, None, None, None, None, None, None, None, None, None, None, None, None, None, None, None, None, None, None, None, None, None, None, None]], [25, 154, 10802, 85, 383, 1416, 253, 1066, 21, [None, None, None, None, None, None, None, None, None, None, None, None, None, None, None, None, None, None, None, None, None, None, None, None, None, None, None, None, None, None, None, None, None, None, None, None, None, None, None, None, None, None, None, None, None, None, None, None, None, None, None, None, None, None, None, None, None, None, None, None, None, None, None, None, None, None, None, None, None, None, None, None, None, None, None, None, None, None, None, None, None, None, None, None, None, None, None, None, None, None, None, None, None, None, None, None, None, None, None, None, None, None, None, None, None, None, None, None, None, None, None, None, None, None, None, None, None, None, None, None, None, None, None, None, None, None, None, None, None, None, None, None, None, None, None, None, None, None, None, None, None, None, None, None, None, None, None, None, None, None, None, None, None, None, None, None, None, None, None, None, None, None, None, None, None, None, None, None, None, None, None, None, None, None, None, None, None, None, None, None, None, None, None, None, None, None, None, None, None, None, None, None, None, None, None, None, None, None, None, None, None, None, None, None, None, None, None, None, None, None, None, None, None, None, None, None, None, None, None, None, None, None, None, None, None, None, None, None, None, None, None, None, None, None, None, None, None, None, None, None, None, None, None, None, None, None, None, None, None, None, None, None, None]], [25, 154, 10802, 85, 383, 1416, 253, 1066, 21, [None, None, None, None, None, None, None, None, None, None, None, None, None, None, None, None, None, None, None, None, None, None, None, None, None, None, None, None, None, None, None, None, None, None, None, None, None, None, None, None, None, None, None, None, None, None, None, None, None, None, None, None, None, None, None, None, None, None, None, None, None, None, None, None, None, None, None, None, None, None, None, None, None, None, None, None, None, None, None, None, None, None, None, None, None, None, None, None, None, None, None, None, None, None, None, None, None, None, None, None, None, None, None, None, None, None, None, None, None, None, None, None, None, None, None, None, None, None, None, None, None, None, None, None, None, None, None, None, None, None, None, None, None, None, None, None, None, None, None, None, None, None, None, None, None, None, None, None, None, None, None, None, None, None, None, None, None, None, None, None, None, None, None, None, None, None, None, None, None, None, None, None, None, None, None, None, None, None, None, None, None, None, None, None, None, None, None, None, None, None, None, None, None, None, None, None, None, None, None, None, None, None, None, None, None, None, None, None, None, None, None, None, None, None, None, None, None, None, None, None, None, None, None, None, None, None, None, None, None, None, None, None, None, None, None, None, None, None, None, None, None, None, None, None, None, None, None, None, None, None, None, None, None]], [25, 154, 10802, 85, 383, 1416, 253, 1066, 21, [None, None, None, None, None, None, None, None, None, None, None, None, None, None, None, None, None, None, None, None, None, None, None, None, None, None, None, None, None, None, None, None, None, None, None, None, None, None, None, None, None, None, None, None, None, None, None, None, None, None, None, None, None, None, None, None, None, None, None, None, None, None, None, None, None, None, None, None, None, None, None, None, None, None, None, None, None, None, None, None, None, None, None, None, None, None, None, None, None, None, None, None, None, None, None, None, None, None, None, None, None, None, None, None, None, None, None, None, None, None, None, None, None, None, None, None, None, None, None, None, None, None, None, None, None, None, None, None, None, None, None, None, None, None, None, None, None, None, None, None, None, None, None, None, None, None, None, None, None, None, None, None, None, None, None, None, None, None, None, None, None, None, None, None, None, None, None, None, None, None, None, None, None, None, None, None, None, None, None, None, None, None, None, None, None, None, None, None, None, None, None, None, None, None, None, None, None, None, None, None, None, None, None, None, None, None, None, None, None, None, None, None, None, None, None, None, None, None, None, None, None, None, None, None, None, None, None, None, None, None, None, None, None, None, None, None, None, None, None, None, None, None, None, None, None, None, None, None, None, None, None, None, None]]], [[25, 154, 10802, 85, 383, 1416, 253, 1066, 21, [None, None, None, None, None, None, None, None, None, None, None, None, None, None, None, None, None, None, None, None, None, None, None, None, None, None, None, None, None, None, None, None, None, None, None, None, None, None, None, None, None, None, None, None, None, None, None, None, None, None, None, None, None, None, None, None, None, None, None, None, None, None, None, None, None, None, None, None, None, None, None, None, None, None, None, None, None, None, None, None, None, None, None, None, None, None, None, None, None, None, None, None, None, None, None, None, None, None, None, None, None, None, None, None, None, None, None, None, None, None, None, None, None, None, None, None, None, None, None, None, None, None, None, None, None, None, None, None, None, None, None, None, None, None, None, None, None, None, None, None, None, None, None, None, None, None, None, None, None, None, None, None, None, None, None, None, None, None, None, None, None, None, None, None, None, None, None, None, None, None, None, None, None, None, None, None, None, None, None, None, None, None, None, None, None, None, None, None, None, None, None, None, None, None, None, None, None, None, None, None, None, None, None, None, None, None, None, None, None, None, None, None, None, None, None, None, None, None, None, None, None, None, None, None, None, None, None, None, None, None, None, None, None, None, None, None, None, None, None, None, None, None, None, None, None, None, None, None, None, None, None, None, None]]], [], [], [], [[25, 154, 10802, 85, 383, 1416, 253, 1066, 21, [None, None, None, None, None, None, None, None, None, None, None, None, None, None, None, None, None, None, None, None, None, None, None, None, None, None, None, None, None, None, None, None, None, None, None, None, None, None, None, None, None, None, None, None, None, None, None, None, None, None, None, None, None, None, None, None, None, None, None, None, None, None, None, None, None, None, None, None, None, None, None, None, None, None, None, None, None, None, None, None, None, None, None, None, None, None, None, None, None, None, None, None, None, None, None, None, None, None, None, None, None, None, None, None, None, None, None, None, None, None, None, None, None, None, None, None, None, None, None, None, None, None, None, None, None, None, None, None, None, None, None, None, None, None, None, None, None, None, None, None, None, None, None, None, None, None, None, None, None, None, None, None, None, None, None, None, None, None, None, None, None, None, None, None, None, None, None, None, None, None, None, None, None, None, None, None, None, None, None, None, None, None, None, None, None, None, None, None, None, None, None, None, None, None, None, None, None, None, None, None, None, None, None, None, None, None, None, None, None, None, None, None, None, None, None, None, None, None, None, None, None, None, None, None, None, None, None, None, None, None, None, None, None, None, None, None, None, None, None, None, None, None, None, None, None, None, None, None, None, None, None, None, None]], [25, 154, 10802, 85, 383, 1416, 253, 1066, 21, [None, None, None, None, None, None, None, None, None, None, None, None, None, None, None, None, None, None, None, None, None, None, None, None, None, None, None, None, None, None, None, None, None, None, None, None, None, None, None, None, None, None, None, None, None, None, None, None, None, None, None, None, None, None, None, None, None, None, None, None, None, None, None, None, None, None, None, None, None, None, None, None, None, None, None, None, None, None, None, None, None, None, None, None, None, None, None, None, None, None, None, None, None, None, None, None, None, None, None, None, None, None, None, None, None, None, None, None, None, None, None, None, None, None, None, None, None, None, None, None, None, None, None, None, None, None, None, None, None, None, None, None, None, None, None, None, None, None, None, None, None, None, None, None, None, None, None, None, None, None, None, None, None, None, None, None, None, None, None, None, None, None, None, None, None, None, None, None, None, None, None, None, None, None, None, None, None, None, None, None, None, None, None, None, None, None, None, None, None, None, None, None, None, None, None, None, None, None, None, None, None, None, None, None, None, None, None, None, None, None, None, None, None, None, None, None, None, None, None, None, None, None, None, None, None, None, None, None, None, None, None, None, None, None, None, None, None, None, None, None, None, None, None, None, None, None, None, None, None, None, None, None, None]], [25, 154, 10802, 85, 383, 1416, 253, 1066, 21, [None, None, None, None, None, None, None, None, None, None, None, None, None, None, None, None, None, None, None, None, None, None, None, None, None, None, None, None, None, None, None, None, None, None, None, None, None, None, None, None, None, None, None, None, None, None, None, None, None, None, None, None, None, None, None, None, None, None, None, None, None, None, None, None, None, None, None, None, None, None, None, None, None, None, None, None, None, None, None, None, None, None, None, None, None, None, None, None, None, None, None, None, None, None, None, None, None, None, None, None, None, None, None, None, None, None, None, None, None, None, None, None, None, None, None, None, None, None, None, None, None, None, None, None, None, None, None, None, None, None, None, None, None, None, None, None, None, None, None, None, None, None, None, None, None, None, None, None, None, None, None, None, None, None, None, None, None, None, None, None, None, None, None, None, None, None, None, None, None, None, None, None, None, None, None, None, None, None, None, None, None, None, None, None, None, None, None, None, None, None, None, None, None, None, None, None, None, None, None, None, None, None, None, None, None, None, None, None, None, None, None, None, None, None, None, None, None, None, None, None, None, None, None, None, None, None, None, None, None, None, None, None, None, None, None, None, None, None, None, None, None, None, None, None, None, None, None, None, None, None, None, None, None]]], [], [], [], [], [], [], [], [], [], [], [], [], [], []], 'commentusers': [[25, 154, 10802, 85, 383, 1416, 253, 1066, 21, [None, None, None, None, None, None, None, None, None, None, None, None, None, None, None, None, None, None, None, None, None, None, None, None, None, None, None, None, None, None, None, None, None, None, None, None, None, None, None, None, None, None, None, None, None, None, None, None, None, None, None, None, None, None, None, None, None, None, None, None, None, None, None, None, None, None, None, None, None, None, None, None, None, None, None, None, None, None, None, None, None, None, None, None, None, None, None, None, None, None, None, None, None, None, None, None, None, None, None, None, None, None, None, None, None, None, None, None, None, None, None, None, None, None, None, None, None, None, None, None, None, None, None, None, None, None, None, None, None, None, None, None, None, None, None, None, None, None, None, None, None, None, None, None, None, None, None, None, None, None, None, None, None, None, None, None, None, None, None, None, None, None, None, None, None, None, None, None, None, None, None, None, None, None, None, None, None, None, None, None, None, None, None, None, None, None, None, None, None, None, None, None, None, None, None, None, None, None, None, None, None, None, None, None, None, None, None, None, None, None, None, None, None, None, None, None, None, None, None, None, None, None, None, None, None, None, None, None, None, None, None, None, None, None, None, None, None, None, None, None, None, None, None, None, None, None, None, None, None, None, None, None, None]], [7, 1, 8, 0, 3, 2, 1, 0, 0, [None]], [25, 154, 10802, 85, 383, 1416, 253, 1066, 21, [None, None, None, None, None, None, None, None, None, None, None, None, None, None, None, None, None, None, None, None, None, None, None, None, None, None, None, None, None, None, None, None, None, None, None, None, None, None, None, None, None, None, None, None, None, None, None, None, None, None, None, None, None, None, None, None, None, None, None, None, None, None, None, None, None, None, None, None, None, None, None, None, None, None, None, None, None, None, None, None, None, None, None, None, None, None, None, None, None, None, None, None, None, None, None, None, None, None, None, None, None, None, None, None, None, None, None, None, None, None, None, None, None, None, None, None, None, None, None, None, None, None, None, None, None, None, None, None, None, None, None, None, None, None, None, None, None, None, None, None, None, None, None, None, None, None, None, None, None, None, None, None, None, None, None, None, None, None, None, None, None, None, None, None, None, None, None, None, None, None, None, None, None, None, None, None, None, None, None, None, None, None, None, None, None, None, None, None, None, None, None, None, None, None, None, None, None, None, None, None, None, None, None, None, None, None, None, None, None, None, None, None, None, None, None, None, None, None, None, None, None, None, None, None, None, None, None, None, None, None, None, None, None, None, None, None, None, None, None, None, None, None, None, None, None, None, None, None, None, None, None, None, None]]], 'commentbody': ['this sounds sensible. Would you be interested in doing a pull-request for this? should be straightforward\\n', 'I have never worked with pandas code base and have no idea where to look. If you can point me to any resource that can help me get going I can definitely dabble around. But if it is an easy update to make for someone who is more familiar with the code - I would definitely recommend you assign it to them.\\n', 'https://github.com/pydata/pandas/wiki/Contributing\\n\\nalways a good time to become familar!\\n\\nlmk know how it goes\\n'], 'rpthaslabel': 1, 'rpthasevent': 0, 'rpthascomment': 1, 'fromcmt': 1, 'usedt': 78277, 'rptisscmtlist': None}\n",
      "{'issue_id': 47663339, 'proid': 48212908, 'owner_id': 31607603, 'issuet': '2014-07-01 21:18:41', 'reft': '2014-11-02 09:04:14', 'clst': '2017-04-14 13:32:37', 'rpt_id': 1183485, 'cls_id': 35355579, 'language': 'Python', 'pro_star': 0, 'isslist': [None, None, None, None, None, None], 'proclspr': 0, 'rptcmt': 0, 'rptallcmt': 1016, 'rptpronum': 26, 'rptstar': 13, 'rptfoll': 254, 'rptalliss': 184, 'rptiss': 1, 'rptallpr': 204, 'rptpr': 0, 'rptissues': [47663339], 'ownercmt': 0, 'ownerallcmt': 0, 'ownerpronum': 4, 'ownerstar': 0, 'ownerfoll': 0, 'owneralliss': 0, 'owneriss': 0, 'ownerallpr': 0, 'ownerpr': 0, 'ownerissues': [], 'procmt': 6, 'contributornum': 3, 'crtclsissnum': 30, 'openiss': 697, 'openissratio': 0.9587345254470426, 'clsisst': 26.0, 'clscmt': 13, 'title': 'Proposal: New Index type for binned data (IntervalIndex)', 'body': \"### Design\\n\\nThe idea is to have a natural representation of the grids that ubiquitously appear in simulations and measurements of physical systems. Instead of referencing a single value, a grid cell references a _range_ of values, based on the chosen discretization. Typically, cells boundaries would be specified by floating point numbers. In one dimension, a grid cell corresponds to an _interval_, the name we use here.\\n\\nThe key feature of `IntervalIndex` is that looking up an indexer should return all intervals in which the indexer's values fall. `FloatIndex` is a poor substitute, because of [floating point precision issues](https://groups.google.com/d/topic/pydata/8aTLVKrPJfs/discussion), and because I don't want to label values by a single point.\\n\\nA `IntervalIndex` is uniquely identified by its `intervals` and `closed` (`'left'` or `'right'`) properties, an ndarray of shape `(len(idx), 2)`, indicating each interval. Other useful properties for `IntervalIndex` would include `left`, `right` and `mid`, which should return arrays (indexes?) corresponding to the left, right or mid-points of each interval.\\n\\nThe constructor should allow the optional keyword argument `breaks` (an array of length `len(idx) + 1`) to specified instead of `intervals`.\\n\\nIt's not entirely obvious what `idx.values` should be (`idx.mid`? strings like `'(0, 1]'`? an array of tuples or `Interval` objects?). I think the most useful choice for cross compatibility would probably be to an ndarray like `idx.mid`.\\n\\n`IntervalIndex` _should_ support mathematical operations (e.g., `idx + 1`), which are calculated by vectorizing the operation over the breaks.\\n### Examples\\n\\nAn example already in pandas that should be a `IntervalIndex` is the `levels` property of categorical returned by `cut`, which is currently an object array of strings:\\n\\n```\\n>>> pd.cut([], [0, 5, 10]).levels\\nIndex([u'(0, 5]', u'(5, 10]'], dtype='object')\\n```\\n\\nExample usage:\\n\\n``` python\\n>>> # should be equivalent to pd.cut([], [0, 1, 2]).levels\\n>>> idx = IntervalIndex(intervals=[(0, 1), (1, 2)]) \\n>>> idx2 = IntervalIndex(breaks=[0, 1, 2]) # equivalent\\n>>> idx\\nIntervalIndex([(0, 1), (1, 2)], closed='right')\\n>>> idx.left\\nnp.array([0, 1]) \\n>>> idx.right\\nnp.array([1, 2]) \\n>>> idx.mid\\nnp.array([0.5, 1.5]) \\n>>> s = pd.Series([1, 2], idx)\\n(0, 1]    1\\n(1, 2]    2\\ndtype: int64\\n>>> s.loc[1]\\n1\\n>>> s.loc[0.5]\\n1\\n>>> s.loc[0]\\nKeyError\\n```\\n### Implementation\\n\\nA `IntervalIndex` would be a monotonic and non-overlapping one-dimensional array of intervals. It is _not_ required to be contiguous. A scalar `Interval` would correspond to a contiguous interval between start and stop values (e.g., given by integers, floating point numbers or datetimes).\\n\\nFor index lookups, I propose to do a binary search (`np.searchsorted`) on `idx.left`. If we add the constraint that all intervals must have a fixed width, we could calculate the bin using a formula in constant time, but I'm not sure the loss in flexibility would be worth the speedup.\\n\\n`IntervalIndex` should play nicely when used as the levels for `Categorical` variable (#7217), but it is _not_ the same as a `CategoricalIndex` (#7629). For example, a `IntervalIndex` should not allow for redundant values. To represent redundant or non-continuous intervals, you would need to make in a `Categorical` or `CategoricalIndex` which uses a `IntervalIndex` for the levels. Calling `df.reset_index()` on an `DataFrame` with an `IntervalIndex` would create a new `Categorical` column.\\n\\n---\\n\\nNote: I'm not entirely sure if this design doc belongs here or on mailing list (I'm happy to post it there if requested).\\n\\nHere is the comment where I brought this up previously: https://github.com/pydata/pandas/issues/5460#issuecomment-44474502\\n\\nCC @hugadams -- I expect `IntervalIndex` would be very handy for your [pyuvvis](https://github.com/hugadams/pyuvvis).\\n\", 'labels': [0, 0, 0, 0, 0, 1, 0, 0, 0, 0, 0, 0, 4], 'events': [[[3, 2, 5928, 2, 258, 756, 111, 750, 0, [None, None, None, None, None, None, None, None, None, None, None, None, None, None, None, None, None, None, None, None, None, None, None, None, None, None, None, None, None, None, None, None, None, None, None, None, None, None, None, None, None, None, None, None, None, None, None, None, None, None, None, None, None, None, None, None, None, None, None, None, None, None, None, None, None, None, None, None, None, None, None, None, None, None, None, None, None, None, None, None, None, None, None, None, None, None, None, None, None, None, None, None, None, None, None, None, None, None, None, None, None, None, None, None, None, None, None, None, None, None, None]], [3, 2, 5928, 2, 258, 756, 111, 750, 0, [None, None, None, None, None, None, None, None, None, None, None, None, None, None, None, None, None, None, None, None, None, None, None, None, None, None, None, None, None, None, None, None, None, None, None, None, None, None, None, None, None, None, None, None, None, None, None, None, None, None, None, None, None, None, None, None, None, None, None, None, None, None, None, None, None, None, None, None, None, None, None, None, None, None, None, None, None, None, None, None, None, None, None, None, None, None, None, None, None, None, None, None, None, None, None, None, None, None, None, None, None, None, None, None, None, None, None, None, None, None, None]], [3, 2, 5928, 2, 258, 756, 111, 750, 0, [None, None, None, None, None, None, None, None, None, None, None, None, None, None, None, None, None, None, None, None, None, None, None, None, None, None, None, None, None, None, None, None, None, None, None, None, None, None, None, None, None, None, None, None, None, None, None, None, None, None, None, None, None, None, None, None, None, None, None, None, None, None, None, None, None, None, None, None, None, None, None, None, None, None, None, None, None, None, None, None, None, None, None, None, None, None, None, None, None, None, None, None, None, None, None, None, None, None, None, None, None, None, None, None, None, None, None, None, None, None, None]], [60, 11, 8838, 0, 158, 405, 13, 354, 0, [None, None, None, None, None, None, None, None, None, None, None, None, None]]], [[31, 16, 927, 0, 20, 257, 0, 30, 0, []], [26, 13, 1016, 0, 254, 184, 1, 204, 0, [None]], [26, 13, 1016, 0, 254, 184, 1, 204, 0, [None]], [3, 2, 5928, 2, 258, 756, 111, 750, 0, [None, None, None, None, None, None, None, None, None, None, None, None, None, None, None, None, None, None, None, None, None, None, None, None, None, None, None, None, None, None, None, None, None, None, None, None, None, None, None, None, None, None, None, None, None, None, None, None, None, None, None, None, None, None, None, None, None, None, None, None, None, None, None, None, None, None, None, None, None, None, None, None, None, None, None, None, None, None, None, None, None, None, None, None, None, None, None, None, None, None, None, None, None, None, None, None, None, None, None, None, None, None, None, None, None, None, None, None, None, None, None]], [60, 11, 8838, 0, 158, 405, 13, 354, 0, [None, None, None, None, None, None, None, None, None, None, None, None, None]], [26, 13, 1016, 0, 254, 184, 1, 204, 0, [None]], [26, 13, 1016, 0, 254, 184, 1, 204, 0, [None]], [31, 16, 927, 0, 20, 257, 0, 30, 0, []], [3, 2, 5928, 2, 258, 756, 111, 750, 0, [None, None, None, None, None, None, None, None, None, None, None, None, None, None, None, None, None, None, None, None, None, None, None, None, None, None, None, None, None, None, None, None, None, None, None, None, None, None, None, None, None, None, None, None, None, None, None, None, None, None, None, None, None, None, None, None, None, None, None, None, None, None, None, None, None, None, None, None, None, None, None, None, None, None, None, None, None, None, None, None, None, None, None, None, None, None, None, None, None, None, None, None, None, None, None, None, None, None, None, None, None, None, None, None, None, None, None, None, None, None, None]], [26, 13, 1016, 0, 254, 184, 1, 204, 0, [None]], [3, 2, 5928, 2, 258, 756, 111, 750, 0, [None, None, None, None, None, None, None, None, None, None, None, None, None, None, None, None, None, None, None, None, None, None, None, None, None, None, None, None, None, None, None, None, None, None, None, None, None, None, None, None, None, None, None, None, None, None, None, None, None, None, None, None, None, None, None, None, None, None, None, None, None, None, None, None, None, None, None, None, None, None, None, None, None, None, None, None, None, None, None, None, None, None, None, None, None, None, None, None, None, None, None, None, None, None, None, None, None, None, None, None, None, None, None, None, None, None, None, None, None, None, None]]], [], [[31, 16, 927, 0, 20, 257, 0, 30, 0, []], [26, 13, 1016, 0, 254, 184, 1, 204, 0, [None]], [26, 13, 1016, 0, 254, 184, 1, 204, 0, [None]], [3, 2, 5928, 2, 258, 756, 111, 750, 0, [None, None, None, None, None, None, None, None, None, None, None, None, None, None, None, None, None, None, None, None, None, None, None, None, None, None, None, None, None, None, None, None, None, None, None, None, None, None, None, None, None, None, None, None, None, None, None, None, None, None, None, None, None, None, None, None, None, None, None, None, None, None, None, None, None, None, None, None, None, None, None, None, None, None, None, None, None, None, None, None, None, None, None, None, None, None, None, None, None, None, None, None, None, None, None, None, None, None, None, None, None, None, None, None, None, None, None, None, None, None, None]], [60, 11, 8838, 0, 158, 405, 13, 354, 0, [None, None, None, None, None, None, None, None, None, None, None, None, None]], [26, 13, 1016, 0, 254, 184, 1, 204, 0, [None]], [26, 13, 1016, 0, 254, 184, 1, 204, 0, [None]], [31, 16, 927, 0, 20, 257, 0, 30, 0, []], [3, 2, 5928, 2, 258, 756, 111, 750, 0, [None, None, None, None, None, None, None, None, None, None, None, None, None, None, None, None, None, None, None, None, None, None, None, None, None, None, None, None, None, None, None, None, None, None, None, None, None, None, None, None, None, None, None, None, None, None, None, None, None, None, None, None, None, None, None, None, None, None, None, None, None, None, None, None, None, None, None, None, None, None, None, None, None, None, None, None, None, None, None, None, None, None, None, None, None, None, None, None, None, None, None, None, None, None, None, None, None, None, None, None, None, None, None, None, None, None, None, None, None, None, None]], [26, 13, 1016, 0, 254, 184, 1, 204, 0, [None]], [3, 2, 5928, 2, 258, 756, 111, 750, 0, [None, None, None, None, None, None, None, None, None, None, None, None, None, None, None, None, None, None, None, None, None, None, None, None, None, None, None, None, None, None, None, None, None, None, None, None, None, None, None, None, None, None, None, None, None, None, None, None, None, None, None, None, None, None, None, None, None, None, None, None, None, None, None, None, None, None, None, None, None, None, None, None, None, None, None, None, None, None, None, None, None, None, None, None, None, None, None, None, None, None, None, None, None, None, None, None, None, None, None, None, None, None, None, None, None, None, None, None, None, None, None]]], [], [], [[3, 2, 5928, 2, 258, 756, 111, 750, 0, [None, None, None, None, None, None, None, None, None, None, None, None, None, None, None, None, None, None, None, None, None, None, None, None, None, None, None, None, None, None, None, None, None, None, None, None, None, None, None, None, None, None, None, None, None, None, None, None, None, None, None, None, None, None, None, None, None, None, None, None, None, None, None, None, None, None, None, None, None, None, None, None, None, None, None, None, None, None, None, None, None, None, None, None, None, None, None, None, None, None, None, None, None, None, None, None, None, None, None, None, None, None, None, None, None, None, None, None, None, None, None]]], [], [], [], [], [], [], [], [[26, 13, 1016, 0, 254, 184, 1, 204, 0, [None]]], [], [], [], [], [], [], [], [], [], [], []], 'commentusers': [[1, 0, 51, 0, 3, 37, 4, 21, 0, [None, None, None, None]], [3, 2, 5928, 2, 258, 756, 111, 750, 0, [None, None, None, None, None, None, None, None, None, None, None, None, None, None, None, None, None, None, None, None, None, None, None, None, None, None, None, None, None, None, None, None, None, None, None, None, None, None, None, None, None, None, None, None, None, None, None, None, None, None, None, None, None, None, None, None, None, None, None, None, None, None, None, None, None, None, None, None, None, None, None, None, None, None, None, None, None, None, None, None, None, None, None, None, None, None, None, None, None, None, None, None, None, None, None, None, None, None, None, None, None, None, None, None, None, None, None, None, None, None, None]], [60, 11, 8838, 0, 158, 405, 13, 354, 0, [None, None, None, None, None, None, None, None, None, None, None, None, None]], [26, 13, 1016, 0, 254, 184, 1, 204, 0, [None]], [3, 0, 20, 0, 2, 23, 3, 6, 0, [None, None, None]], [3, 2, 5928, 2, 258, 756, 111, 750, 0, [None, None, None, None, None, None, None, None, None, None, None, None, None, None, None, None, None, None, None, None, None, None, None, None, None, None, None, None, None, None, None, None, None, None, None, None, None, None, None, None, None, None, None, None, None, None, None, None, None, None, None, None, None, None, None, None, None, None, None, None, None, None, None, None, None, None, None, None, None, None, None, None, None, None, None, None, None, None, None, None, None, None, None, None, None, None, None, None, None, None, None, None, None, None, None, None, None, None, None, None, None, None, None, None, None, None, None, None, None, None, None]], [31, 16, 927, 0, 20, 257, 0, 30, 0, []], [26, 13, 1016, 0, 254, 184, 1, 204, 0, [None]], [31, 16, 927, 0, 20, 257, 0, 30, 0, []], [26, 13, 1016, 0, 254, 184, 1, 204, 0, [None]], [3, 2, 5928, 2, 258, 756, 111, 750, 0, [None, None, None, None, None, None, None, None, None, None, None, None, None, None, None, None, None, None, None, None, None, None, None, None, None, None, None, None, None, None, None, None, None, None, None, None, None, None, None, None, None, None, None, None, None, None, None, None, None, None, None, None, None, None, None, None, None, None, None, None, None, None, None, None, None, None, None, None, None, None, None, None, None, None, None, None, None, None, None, None, None, None, None, None, None, None, None, None, None, None, None, None, None, None, None, None, None, None, None, None, None, None, None, None, None, None, None, None, None, None, None]], [26, 13, 1016, 0, 254, 184, 1, 204, 0, [None]], [3, 2, 5928, 2, 258, 756, 111, 750, 0, [None, None, None, None, None, None, None, None, None, None, None, None, None, None, None, None, None, None, None, None, None, None, None, None, None, None, None, None, None, None, None, None, None, None, None, None, None, None, None, None, None, None, None, None, None, None, None, None, None, None, None, None, None, None, None, None, None, None, None, None, None, None, None, None, None, None, None, None, None, None, None, None, None, None, None, None, None, None, None, None, None, None, None, None, None, None, None, None, None, None, None, None, None, None, None, None, None, None, None, None, None, None, None, None, None, None, None, None, None, None, None]]], 'commentbody': ['FWIW, in our local in-house n-dim library we have something similar (an IntervalAxis), and it works quite well.\\n', '@shoyer all for this!\\n\\nI know you are against this, but I would encorage you to inherit from `Index`. OR create a new base class that is ABC like which we can eventually use as a base class for `Index`.\\n', '+1 here too. tho i think `IntervalIndex` might be a better name.\\n\\n@shoyer great idea and excellent write up :)\\n', \"Thanks for the support! I'm not sure when I'll get around to implementing this, but I will add it to my source open backlog :).\\n\\n@jreback Agreed, for an new index class _inside_ pandas, it is OK to subclass from `Index`. I haven't thought too much about the details of implementing this in pandas yet.\\n\\n@cpcloud Also agreed, `IntervalIndex` is a better name for the described functionality. I will update the first comment. `CellIndex` makes more sense for an index that is actually constrained to a grid. That would also be useful, but is less general.\\n\", 'This would be very useful for me, too.  Currently I\\'m using a `DatetimeIndex` that\\'s one longer than my data, which are padded with a row of `nan`s at the end, so that `df.index[i]:df.index[i+1]` is the \"index\" corresponding to `iloc[i]`.  It seemed clever when I started the project.\\n\\nThis also seems like it will help make contiguous groupby (#5494) easier, since it gives a natural choice of index for the groupings.\\n', '@shoyer \\n\\nif u (or anyone else)\\ncould post test pairs for this would really help it along\\n\\nessentially test cases for everything from construction to various indexing ops\\nthat define as much behavior as possible\\n\\neg for Int64Index\\n\\nresult = Index([1,2,3])\\nexpected = [1,2,3]\\nassert_almost_equal(result,expected)\\n', '@shoyer \\n\\nThanks for including me; sorry I didn\\'t notice earlier (mail filter was throwing github alerts out).  Indeed, I think a general interval index is probably a great addition; although, I lack the breadth in vision to see a general solution.\\n\\nI did actually implement a hacky version of an interval index in pyuvvis that converts a datetime index to intervals of seconds, minutes etc...  The main lesson I learned is that your interval index should be able to map back to the original data.  To do this, I actually retain the original datetimeindex, and use metadata like \"_interval=True\" to navigate between all of the logic.  In my case, this mapping is stored on the TimeSpectra object (dataframe + metadata). \\n\\nI put a demo of this up in case seeing a hack in action might help in the design of a general solution.\\n\\nhttp://nbviewer.ipython.org/github/hugadams/pyuvvis/blob/master/examples/Notebooks/intervals.ipynb\\n', '@hugadams Looking at your notebook, it appears you may be thinking of a [TimedeltaIndex](https://github.com/pydata/pandas/issues/3009)? \\n\\nThe idea behind IntervalIndex is somewhat distinct -- although I can imagine that an IntervalIndex wrapping a TimedeltaIndex could be useful in some cases.\\n\\n@jreback Sounds like a good idea, when I get the chance I will start writing some test cases and add them to this issue.\\n', \"Ha ya exactly!  Thanks, never even saw this thread.  I'll post my notebook there for reference as well.  I must not understand the intervalindex then.\\n\", 'Here are a bunch of test cases: https://github.com/shoyer/pandas/commit/838a59767a0611ea7a07f80f4634cf39d2743046\\n\\nI can open a PR if that makes things easier.\\n', \"@shoyer that's a nice test suite...link is good for now. but of course expand to an actual impl!\\n\", \"I have updated the first post with some revisions to implementation details (per by test-cases). Basically, I realized that there is no a strong need to require that intervals be contiguous, and dropping that requirement should add some nice flexibility (e.g., the ability to subsample intervals with `idx[::step]`).\\n\\n@jreback Haha, I thought that was your job? ;)\\n\\nIn all seriousness, I will probably get around to this at some point but the existing Index objects are pretty complex. #5080 would help -- I'm not looking forward to writing kludges around this also being an `ndarray`.\\n\", 'well this is the removing of ndarray from Index!\\n\\nhttps://github.com/jreback/pandas/tree/index\\n\\nalmost done\\n'], 'rpthaslabel': 1, 'rpthasevent': 1, 'rpthascomment': 1, 'fromcmt': 1, 'usedt': 58436, 'rptisscmtlist': None}\n"
     ]
    }
   ],
   "source": [
    "print(lst[2])\n",
    "print(lst[1])"
   ]
  },
  {
   "cell_type": "code",
   "execution_count": 10,
   "metadata": {},
   "outputs": [
    {
     "name": "stdout",
     "output_type": "stream",
     "text": [
      "1097\n"
     ]
    }
   ],
   "source": [
    "# 按cls_id(issue resolver)建立字典，以便提取first issue\n",
    "cls_id_dict = {}\n",
    "for item in lst:\n",
    "#     print(item['issue_id'])\n",
    "    if item['cls_id'] not in cls_id_dict.keys():\n",
    "        cls_id_dict[item['cls_id']] = [item['clst']]\n",
    "    else:\n",
    "        cls_id_dict[item['cls_id']].append(item['clst'])\n",
    "for key in cls_id_dict.keys():\n",
    "    cls_id_dict[key].sort()\n",
    "print(len(cls_id_dict.keys()))"
   ]
  },
  {
   "cell_type": "code",
   "execution_count": 13,
   "metadata": {},
   "outputs": [
    {
     "name": "stdout",
     "output_type": "stream",
     "text": [
      "435\n",
      "662\n",
      "662\n"
     ]
    }
   ],
   "source": [
    "# 分离LTC和OTC，分别将id存入列表中\n",
    "import dateutil\n",
    "LTC_id = []\n",
    "OTC_id = []\n",
    "cnt = 0\n",
    "for key in cls_id_dict.keys():\n",
    "    if len(cls_id_dict[key])>=2:\n",
    "#         print(key)\n",
    "#         first = cls_id_dict[key][0]\n",
    "#         last = cls_id_dict[key][-1]\n",
    "#         d1 = dateutil.parser.parse(first)\n",
    "#         d2 = dateutil.parser.parse(last)\n",
    "#         if ((d2-d1).days > 365):\n",
    "        LTC_id.append(key)\n",
    "#         else:\n",
    "#             OTC_id.append(key)\n",
    "    else:\n",
    "        OTC_id.append(key)\n",
    "        cnt+=1\n",
    "print(len(LTC_id))\n",
    "print(len(OTC_id))\n",
    "# print(LTC_id)\n",
    "print(cnt)"
   ]
  },
  {
   "cell_type": "code",
   "execution_count": 14,
   "metadata": {},
   "outputs": [
    {
     "name": "stdout",
     "output_type": "stream",
     "text": [
      "3576\n",
      "662\n"
     ]
    }
   ],
   "source": [
    "# 分离LTC和OTC issues\n",
    "LTC_issues = []\n",
    "OTC_issues = []\n",
    "# for i in range(len(issuedata)):\n",
    "#     if issuedata[i][0]['issue_id'] in pd_issue_ids:\n",
    "#         lst.append(issuedata[i][0])\n",
    "# print(len(lst))\n",
    "for item in lst:\n",
    "#     print(item['cls_id'])\n",
    "    if item['cls_id'] in LTC_id:\n",
    "        LTC_issues.append(item)\n",
    "    elif item['cls_id'] in OTC_id:\n",
    "        OTC_issues.append(item)\n",
    "    else:\n",
    "        print(item['cls_id'])\n",
    "print(len(LTC_issues))\n",
    "print(len(OTC_issues))"
   ]
  },
  {
   "cell_type": "code",
   "execution_count": 15,
   "metadata": {},
   "outputs": [
    {
     "name": "stdout",
     "output_type": "stream",
     "text": [
      "435\n",
      "662\n",
      "{'issue_id': 39362634, 'proid': 48212908, 'owner_id': 31607603, 'issuet': '2014-01-09 05:55:57', 'reft': '2016-06-04 22:21:38', 'clst': '2016-05-26 23:56:09', 'rpt_id': 131502, 'cls_id': 4409481, 'language': 'Python', 'pro_star': 0, 'isslist': [None, None, None, None, None, None, None, None, None, None, None], 'proclspr': 0, 'rptcmt': 0, 'rptallcmt': 1714, 'rptpronum': 94, 'rptstar': 56, 'rptfoll': 73, 'rptalliss': 1137, 'rptiss': 29, 'rptallpr': 233, 'rptpr': 0, 'rptissues': [39362634, 39457923, 39457924, 39458049, 39458050, 40375919, 40954937, 41588026, 43104243, 46461587, 49414901, 49849004, 52550674, 52550676, 52584259, 52584260, 60107336, 61580816, 78222310, 78224272, 83244353, 87711770, 87737979, 95800013, 99926207, 117315830, 174639427, 192818220, 195331721], 'ownercmt': 0, 'ownerallcmt': 0, 'ownerpronum': 6, 'ownerstar': 0, 'ownerfoll': 0, 'owneralliss': 0, 'owneriss': 0, 'ownerallpr': 0, 'ownerpr': 0, 'ownerissues': [], 'procmt': 20, 'contributornum': 8, 'crtclsissnum': 65, 'openiss': 1516, 'openissratio': 0.958886780518659, 'clsisst': 2.0, 'clscmt': 0, 'title': 'API/DOC: status of low_memory kwarg of read_csv/table', 'body': 'I am getting the following warning:\\n\\n```\\n/usr/local/lib/python2.7/dist-packages/pandas-0.13.0rc1_78_g142ca62-py2.7-linux-x86_64.egg/pandas/io/parsers.py:1050: \\nDtypeWarning: Columns (6) have mixed types. Specify dtype option on import or set low_memory=False.\\n  data = self._reader.read(nrows)\\n```\\n\\nbut I can find no documentation for `low_memory`\\n', 'labels': [0, 1, 0, 0, 1, 0, 0, 0, 0, 0, 0, 0, 3], 'events': [[[17, 142, 10064, 3, 360, 1282, 209, 1017, 0, [None, None, None, None, None, None, None, None, None, None, None, None, None, None, None, None, None, None, None, None, None, None, None, None, None, None, None, None, None, None, None, None, None, None, None, None, None, None, None, None, None, None, None, None, None, None, None, None, None, None, None, None, None, None, None, None, None, None, None, None, None, None, None, None, None, None, None, None, None, None, None, None, None, None, None, None, None, None, None, None, None, None, None, None, None, None, None, None, None, None, None, None, None, None, None, None, None, None, None, None, None, None, None, None, None, None, None, None, None, None, None, None, None, None, None, None, None, None, None, None, None, None, None, None, None, None, None, None, None, None, None, None, None, None, None, None, None, None, None, None, None, None, None, None, None, None, None, None, None, None, None, None, None, None, None, None, None, None, None, None, None, None, None, None, None, None, None, None, None, None, None, None, None, None, None, None, None, None, None, None, None, None, None, None, None, None, None, None, None, None, None, None, None, None, None, None, None, None, None, None, None, None, None, None, None, None, None, None, None]], [17, 142, 10064, 3, 360, 1282, 209, 1017, 0, [None, None, None, None, None, None, None, None, None, None, None, None, None, None, None, None, None, None, None, None, None, None, None, None, None, None, None, None, None, None, None, None, None, None, None, None, None, None, None, None, None, None, None, None, None, None, None, None, None, None, None, None, None, None, None, None, None, None, None, None, None, None, None, None, None, None, None, None, None, None, None, None, None, None, None, None, None, None, None, None, None, None, None, None, None, None, None, None, None, None, None, None, None, None, None, None, None, None, None, None, None, None, None, None, None, None, None, None, None, None, None, None, None, None, None, None, None, None, None, None, None, None, None, None, None, None, None, None, None, None, None, None, None, None, None, None, None, None, None, None, None, None, None, None, None, None, None, None, None, None, None, None, None, None, None, None, None, None, None, None, None, None, None, None, None, None, None, None, None, None, None, None, None, None, None, None, None, None, None, None, None, None, None, None, None, None, None, None, None, None, None, None, None, None, None, None, None, None, None, None, None, None, None, None, None, None, None, None, None]]], [[None], [2, 0, 8, 0, 0, 13, 0, 7, 0, []]], [], [[None], [2, 0, 8, 0, 0, 13, 0, 7, 0, []]], [[17, 142, 10064, 3, 360, 1282, 209, 1017, 0, [None, None, None, None, None, None, None, None, None, None, None, None, None, None, None, None, None, None, None, None, None, None, None, None, None, None, None, None, None, None, None, None, None, None, None, None, None, None, None, None, None, None, None, None, None, None, None, None, None, None, None, None, None, None, None, None, None, None, None, None, None, None, None, None, None, None, None, None, None, None, None, None, None, None, None, None, None, None, None, None, None, None, None, None, None, None, None, None, None, None, None, None, None, None, None, None, None, None, None, None, None, None, None, None, None, None, None, None, None, None, None, None, None, None, None, None, None, None, None, None, None, None, None, None, None, None, None, None, None, None, None, None, None, None, None, None, None, None, None, None, None, None, None, None, None, None, None, None, None, None, None, None, None, None, None, None, None, None, None, None, None, None, None, None, None, None, None, None, None, None, None, None, None, None, None, None, None, None, None, None, None, None, None, None, None, None, None, None, None, None, None, None, None, None, None, None, None, None, None, None, None, None, None, None, None, None, None, None, None]]], [], [[17, 142, 10064, 3, 360, 1282, 209, 1017, 0, [None, None, None, None, None, None, None, None, None, None, None, None, None, None, None, None, None, None, None, None, None, None, None, None, None, None, None, None, None, None, None, None, None, None, None, None, None, None, None, None, None, None, None, None, None, None, None, None, None, None, None, None, None, None, None, None, None, None, None, None, None, None, None, None, None, None, None, None, None, None, None, None, None, None, None, None, None, None, None, None, None, None, None, None, None, None, None, None, None, None, None, None, None, None, None, None, None, None, None, None, None, None, None, None, None, None, None, None, None, None, None, None, None, None, None, None, None, None, None, None, None, None, None, None, None, None, None, None, None, None, None, None, None, None, None, None, None, None, None, None, None, None, None, None, None, None, None, None, None, None, None, None, None, None, None, None, None, None, None, None, None, None, None, None, None, None, None, None, None, None, None, None, None, None, None, None, None, None, None, None, None, None, None, None, None, None, None, None, None, None, None, None, None, None, None, None, None, None, None, None, None, None, None, None, None, None, None, None, None]], [38, 60, 1231, 0, 171, 328, 47, 223, 0, [None, None, None, None, None, None, None, None, None, None, None, None, None, None, None, None, None, None, None, None, None, None, None, None, None, None, None, None, None, None, None, None, None, None, None, None, None, None, None, None, None, None, None, None, None, None, None]], [17, 142, 10064, 3, 360, 1282, 209, 1017, 0, [None, None, None, None, None, None, None, None, None, None, None, None, None, None, None, None, None, None, None, None, None, None, None, None, None, None, None, None, None, None, None, None, None, None, None, None, None, None, None, None, None, None, None, None, None, None, None, None, None, None, None, None, None, None, None, None, None, None, None, None, None, None, None, None, None, None, None, None, None, None, None, None, None, None, None, None, None, None, None, None, None, None, None, None, None, None, None, None, None, None, None, None, None, None, None, None, None, None, None, None, None, None, None, None, None, None, None, None, None, None, None, None, None, None, None, None, None, None, None, None, None, None, None, None, None, None, None, None, None, None, None, None, None, None, None, None, None, None, None, None, None, None, None, None, None, None, None, None, None, None, None, None, None, None, None, None, None, None, None, None, None, None, None, None, None, None, None, None, None, None, None, None, None, None, None, None, None, None, None, None, None, None, None, None, None, None, None, None, None, None, None, None, None, None, None, None, None, None, None, None, None, None, None, None, None, None, None, None, None]], [17, 142, 10064, 3, 360, 1282, 209, 1017, 0, [None, None, None, None, None, None, None, None, None, None, None, None, None, None, None, None, None, None, None, None, None, None, None, None, None, None, None, None, None, None, None, None, None, None, None, None, None, None, None, None, None, None, None, None, None, None, None, None, None, None, None, None, None, None, None, None, None, None, None, None, None, None, None, None, None, None, None, None, None, None, None, None, None, None, None, None, None, None, None, None, None, None, None, None, None, None, None, None, None, None, None, None, None, None, None, None, None, None, None, None, None, None, None, None, None, None, None, None, None, None, None, None, None, None, None, None, None, None, None, None, None, None, None, None, None, None, None, None, None, None, None, None, None, None, None, None, None, None, None, None, None, None, None, None, None, None, None, None, None, None, None, None, None, None, None, None, None, None, None, None, None, None, None, None, None, None, None, None, None, None, None, None, None, None, None, None, None, None, None, None, None, None, None, None, None, None, None, None, None, None, None, None, None, None, None, None, None, None, None, None, None, None, None, None, None, None, None, None, None]], [17, 142, 10064, 3, 360, 1282, 209, 1017, 0, [None, None, None, None, None, None, None, None, None, None, None, None, None, None, None, None, None, None, None, None, None, None, None, None, None, None, None, None, None, None, None, None, None, None, None, None, None, None, None, None, None, None, None, None, None, None, None, None, None, None, None, None, None, None, None, None, None, None, None, None, None, None, None, None, None, None, None, None, None, None, None, None, None, None, None, None, None, None, None, None, None, None, None, None, None, None, None, None, None, None, None, None, None, None, None, None, None, None, None, None, None, None, None, None, None, None, None, None, None, None, None, None, None, None, None, None, None, None, None, None, None, None, None, None, None, None, None, None, None, None, None, None, None, None, None, None, None, None, None, None, None, None, None, None, None, None, None, None, None, None, None, None, None, None, None, None, None, None, None, None, None, None, None, None, None, None, None, None, None, None, None, None, None, None, None, None, None, None, None, None, None, None, None, None, None, None, None, None, None, None, None, None, None, None, None, None, None, None, None, None, None, None, None, None, None, None, None, None, None]], [17, 142, 10064, 3, 360, 1282, 209, 1017, 0, [None, None, None, None, None, None, None, None, None, None, None, None, None, None, None, None, None, None, None, None, None, None, None, None, None, None, None, None, None, None, None, None, None, None, None, None, None, None, None, None, None, None, None, None, None, None, None, None, None, None, None, None, None, None, None, None, None, None, None, None, None, None, None, None, None, None, None, None, None, None, None, None, None, None, None, None, None, None, None, None, None, None, None, None, None, None, None, None, None, None, None, None, None, None, None, None, None, None, None, None, None, None, None, None, None, None, None, None, None, None, None, None, None, None, None, None, None, None, None, None, None, None, None, None, None, None, None, None, None, None, None, None, None, None, None, None, None, None, None, None, None, None, None, None, None, None, None, None, None, None, None, None, None, None, None, None, None, None, None, None, None, None, None, None, None, None, None, None, None, None, None, None, None, None, None, None, None, None, None, None, None, None, None, None, None, None, None, None, None, None, None, None, None, None, None, None, None, None, None, None, None, None, None, None, None, None, None, None, None]]], [], [], [], [], [[17, 142, 10064, 3, 360, 1282, 209, 1017, 0, [None, None, None, None, None, None, None, None, None, None, None, None, None, None, None, None, None, None, None, None, None, None, None, None, None, None, None, None, None, None, None, None, None, None, None, None, None, None, None, None, None, None, None, None, None, None, None, None, None, None, None, None, None, None, None, None, None, None, None, None, None, None, None, None, None, None, None, None, None, None, None, None, None, None, None, None, None, None, None, None, None, None, None, None, None, None, None, None, None, None, None, None, None, None, None, None, None, None, None, None, None, None, None, None, None, None, None, None, None, None, None, None, None, None, None, None, None, None, None, None, None, None, None, None, None, None, None, None, None, None, None, None, None, None, None, None, None, None, None, None, None, None, None, None, None, None, None, None, None, None, None, None, None, None, None, None, None, None, None, None, None, None, None, None, None, None, None, None, None, None, None, None, None, None, None, None, None, None, None, None, None, None, None, None, None, None, None, None, None, None, None, None, None, None, None, None, None, None, None, None, None, None, None, None, None, None, None, None, None]], [38, 60, 1231, 0, 171, 328, 47, 223, 0, [None, None, None, None, None, None, None, None, None, None, None, None, None, None, None, None, None, None, None, None, None, None, None, None, None, None, None, None, None, None, None, None, None, None, None, None, None, None, None, None, None, None, None, None, None, None, None]], [17, 142, 10064, 3, 360, 1282, 209, 1017, 0, [None, None, None, None, None, None, None, None, None, None, None, None, None, None, None, None, None, None, None, None, None, None, None, None, None, None, None, None, None, None, None, None, None, None, None, None, None, None, None, None, None, None, None, None, None, None, None, None, None, None, None, None, None, None, None, None, None, None, None, None, None, None, None, None, None, None, None, None, None, None, None, None, None, None, None, None, None, None, None, None, None, None, None, None, None, None, None, None, None, None, None, None, None, None, None, None, None, None, None, None, None, None, None, None, None, None, None, None, None, None, None, None, None, None, None, None, None, None, None, None, None, None, None, None, None, None, None, None, None, None, None, None, None, None, None, None, None, None, None, None, None, None, None, None, None, None, None, None, None, None, None, None, None, None, None, None, None, None, None, None, None, None, None, None, None, None, None, None, None, None, None, None, None, None, None, None, None, None, None, None, None, None, None, None, None, None, None, None, None, None, None, None, None, None, None, None, None, None, None, None, None, None, None, None, None, None, None, None, None]], [17, 142, 10064, 3, 360, 1282, 209, 1017, 0, [None, None, None, None, None, None, None, None, None, None, None, None, None, None, None, None, None, None, None, None, None, None, None, None, None, None, None, None, None, None, None, None, None, None, None, None, None, None, None, None, None, None, None, None, None, None, None, None, None, None, None, None, None, None, None, None, None, None, None, None, None, None, None, None, None, None, None, None, None, None, None, None, None, None, None, None, None, None, None, None, None, None, None, None, None, None, None, None, None, None, None, None, None, None, None, None, None, None, None, None, None, None, None, None, None, None, None, None, None, None, None, None, None, None, None, None, None, None, None, None, None, None, None, None, None, None, None, None, None, None, None, None, None, None, None, None, None, None, None, None, None, None, None, None, None, None, None, None, None, None, None, None, None, None, None, None, None, None, None, None, None, None, None, None, None, None, None, None, None, None, None, None, None, None, None, None, None, None, None, None, None, None, None, None, None, None, None, None, None, None, None, None, None, None, None, None, None, None, None, None, None, None, None, None, None, None, None, None, None]], [17, 142, 10064, 3, 360, 1282, 209, 1017, 0, [None, None, None, None, None, None, None, None, None, None, None, None, None, None, None, None, None, None, None, None, None, None, None, None, None, None, None, None, None, None, None, None, None, None, None, None, None, None, None, None, None, None, None, None, None, None, None, None, None, None, None, None, None, None, None, None, None, None, None, None, None, None, None, None, None, None, None, None, None, None, None, None, None, None, None, None, None, None, None, None, None, None, None, None, None, None, None, None, None, None, None, None, None, None, None, None, None, None, None, None, None, None, None, None, None, None, None, None, None, None, None, None, None, None, None, None, None, None, None, None, None, None, None, None, None, None, None, None, None, None, None, None, None, None, None, None, None, None, None, None, None, None, None, None, None, None, None, None, None, None, None, None, None, None, None, None, None, None, None, None, None, None, None, None, None, None, None, None, None, None, None, None, None, None, None, None, None, None, None, None, None, None, None, None, None, None, None, None, None, None, None, None, None, None, None, None, None, None, None, None, None, None, None, None, None, None, None, None, None]], [17, 142, 10064, 3, 360, 1282, 209, 1017, 0, [None, None, None, None, None, None, None, None, None, None, None, None, None, None, None, None, None, None, None, None, None, None, None, None, None, None, None, None, None, None, None, None, None, None, None, None, None, None, None, None, None, None, None, None, None, None, None, None, None, None, None, None, None, None, None, None, None, None, None, None, None, None, None, None, None, None, None, None, None, None, None, None, None, None, None, None, None, None, None, None, None, None, None, None, None, None, None, None, None, None, None, None, None, None, None, None, None, None, None, None, None, None, None, None, None, None, None, None, None, None, None, None, None, None, None, None, None, None, None, None, None, None, None, None, None, None, None, None, None, None, None, None, None, None, None, None, None, None, None, None, None, None, None, None, None, None, None, None, None, None, None, None, None, None, None, None, None, None, None, None, None, None, None, None, None, None, None, None, None, None, None, None, None, None, None, None, None, None, None, None, None, None, None, None, None, None, None, None, None, None, None, None, None, None, None, None, None, None, None, None, None, None, None, None, None, None, None, None, None]]], [], [], [[38, 60, 1231, 0, 171, 328, 47, 223, 0, [None, None, None, None, None, None, None, None, None, None, None, None, None, None, None, None, None, None, None, None, None, None, None, None, None, None, None, None, None, None, None, None, None, None, None, None, None, None, None, None, None, None, None, None, None, None, None]]], [], [], [], [], [], [], [], [], [], [], []], 'commentusers': [[17, 142, 10064, 3, 360, 1282, 209, 1017, 0, [None, None, None, None, None, None, None, None, None, None, None, None, None, None, None, None, None, None, None, None, None, None, None, None, None, None, None, None, None, None, None, None, None, None, None, None, None, None, None, None, None, None, None, None, None, None, None, None, None, None, None, None, None, None, None, None, None, None, None, None, None, None, None, None, None, None, None, None, None, None, None, None, None, None, None, None, None, None, None, None, None, None, None, None, None, None, None, None, None, None, None, None, None, None, None, None, None, None, None, None, None, None, None, None, None, None, None, None, None, None, None, None, None, None, None, None, None, None, None, None, None, None, None, None, None, None, None, None, None, None, None, None, None, None, None, None, None, None, None, None, None, None, None, None, None, None, None, None, None, None, None, None, None, None, None, None, None, None, None, None, None, None, None, None, None, None, None, None, None, None, None, None, None, None, None, None, None, None, None, None, None, None, None, None, None, None, None, None, None, None, None, None, None, None, None, None, None, None, None, None, None, None, None, None, None, None, None, None, None]], [94, 56, 1714, 0, 73, 1137, 29, 233, 0, [0, None, None, None, None, None, None, None, None, None, None, None, None, None, None, None, None, None, None, None, None, None, None, None, None, None, None, None, None]], [17, 142, 10064, 3, 360, 1282, 209, 1017, 0, [None, None, None, None, None, None, None, None, None, None, None, None, None, None, None, None, None, None, None, None, None, None, None, None, None, None, None, None, None, None, None, None, None, None, None, None, None, None, None, None, None, None, None, None, None, None, None, None, None, None, None, None, None, None, None, None, None, None, None, None, None, None, None, None, None, None, None, None, None, None, None, None, None, None, None, None, None, None, None, None, None, None, None, None, None, None, None, None, None, None, None, None, None, None, None, None, None, None, None, None, None, None, None, None, None, None, None, None, None, None, None, None, None, None, None, None, None, None, None, None, None, None, None, None, None, None, None, None, None, None, None, None, None, None, None, None, None, None, None, None, None, None, None, None, None, None, None, None, None, None, None, None, None, None, None, None, None, None, None, None, None, None, None, None, None, None, None, None, None, None, None, None, None, None, None, None, None, None, None, None, None, None, None, None, None, None, None, None, None, None, None, None, None, None, None, None, None, None, None, None, None, None, None, None, None, None, None, None, None]], [50, 146, 1490, 0, 111, 254, 0, 124, 0, []], [38, 60, 1231, 0, 171, 328, 47, 223, 0, [None, None, None, None, None, None, None, None, None, None, None, None, None, None, None, None, None, None, None, None, None, None, None, None, None, None, None, None, None, None, None, None, None, None, None, None, None, None, None, None, None, None, None, None, None, None, None]], [38, 60, 1231, 0, 171, 328, 47, 223, 0, [None, None, None, None, None, None, None, None, None, None, None, None, None, None, None, None, None, None, None, None, None, None, None, None, None, None, None, None, None, None, None, None, None, None, None, None, None, None, None, None, None, None, None, None, None, None, None]]], 'commentbody': ['its a kind of deprecated option (but still works)\\n', 'If the `low_memory` parameter is deprecated, it should be marked as such. Also the warning message should be removed or re-worded.\\n', \"I said kind of deprecated in that I don't think it's necessary anymore\\n\", \"As another data point, I got this warning about mixed types. Setting to `low_memory=False` as suggested actually crashed Python (Win7 64-bit, through IPython Notebook). I'm nowhere near my memory limits, so removing the argument and keeping the warning was no big deal for me.\\n\", 'There is also an example in the book \"Python for Data Analysis\" that leads to this warning (p278):\\n\\n```\\nIn [13]: fec = pd.read_csv(\\'ch09/P00000001-ALL.csv\\')\\n\\nC:\\\\Anaconda\\\\lib\\\\site-packages\\\\pandas\\\\io\\\\parsers.py:1130: DtypeWarning: Columns (6) have mixed types. Specify dtype option on import or set low_memory=False.\\n  data = self._reader.read(nrows)\\n```\\n\\nSo I agree with above:\\n- or the option is deprecated, and then the mention in the warning should be removed\\n- or the option is not deprecated and should be documented (and should not crash your python)\\n\\nFrom the code, it does not seem like deprecated (it is still used: https://github.com/pydata/pandas/blob/master/pandas/parser.pyx#L727), but it seems that it is given a default value of True in `read_csv` regardless of what you specify (https://github.com/pydata/pandas/blob/master/pandas/io/parsers.py#L354). There are also still tests specifically for high memery: https://github.com/pydata/pandas/blob/master/pandas/io/tests/test_parsers.py#L2897\\n', '@mdmueller @selasley As csv parser experts, somebody interested in looking into this? (What does `low_memory` do exactly? Do we still need it (should it be deprecated or not)? And depending on that, document it or really deprecate it (and remove as suggestion in one of the warnings).\\n\\nThis came up again at SO: http://stackoverflow.com/questions/28697501/how-to-know-line-and-col-when-the-read-csv-method-of-pandas-thows-exception/28702078#28702078\\n'], 'rpthaslabel': 1, 'rpthasevent': 0, 'rpthascomment': 1, 'fromcmt': 0, 'usedt': 64812, 'rptisscmtlist': [0]}\n"
     ]
    }
   ],
   "source": [
    "# 提取第一个issue\n",
    "import copy\n",
    "LTC_1st_issues = []\n",
    "OTC_1st_issues = []\n",
    "tmp_id_1 = copy.copy(LTC_id)\n",
    "tmp_id_2 = copy.copy(OTC_id)\n",
    "for item in lst:\n",
    "#     print(item['cls_id'])\n",
    "    if item['cls_id'] in tmp_id_1:\n",
    "        if item['clst'] == cls_id_dict[item['cls_id']][0]:\n",
    "            LTC_1st_issues.append(item)\n",
    "            tmp_id_1.remove(item['cls_id'])\n",
    "    elif item['cls_id'] in tmp_id_2:\n",
    "        if item['clst'] == cls_id_dict[item['cls_id']][0]:\n",
    "            OTC_1st_issues.append(item)\n",
    "            tmp_id_2.remove(item['cls_id'])\n",
    "#     else:\n",
    "#         print(item['cls_id'])\n",
    "print(len(LTC_1st_issues))\n",
    "print(len(OTC_1st_issues))\n",
    "print(LTC_1st_issues[0])"
   ]
  },
  {
   "cell_type": "code",
   "execution_count": 16,
   "metadata": {},
   "outputs": [],
   "source": [
    "LTC_issue_num = len(LTC_1st_issues)\n",
    "OTC_issue_num = len(OTC_1st_issues)\n",
    "\n",
    "# 转换为dataframe\n",
    "LTC_df = pd.DataFrame(LTC_1st_issues)\n",
    "OTC_df = pd.DataFrame(OTC_1st_issues)\n",
    "# print(LTC_df)\n"
   ]
  },
  {
   "cell_type": "code",
   "execution_count": 18,
   "metadata": {
    "scrolled": true
   },
   "outputs": [
    {
     "name": "stdout",
     "output_type": "stream",
     "text": [
      "issue_id                                                36668480285\n",
      "proid                                                   20972614980\n",
      "owner_id                                                13749307305\n",
      "issuet            2014-01-09 05:55:572016-06-09 14:18:362016-08-...\n",
      "reft              2016-06-04 22:21:382016-11-21 04:56:012016-08-...\n",
      "clst              2016-05-26 23:56:092016-12-06 11:35:032017-04-...\n",
      "rpt_id                                                   4740287298\n",
      "cls_id                                                   8163275859\n",
      "language          PythonPythonPythonPythonPythonPythonPythonPyth...\n",
      "pro_star                                                    3944335\n",
      "isslist           [None, None, None, None, None, None, None, Non...\n",
      "proclspr                                                    1938131\n",
      "rptcmt                                                        83349\n",
      "rptallcmt                                                    897637\n",
      "rptpronum                                                     14515\n",
      "rptstar                                                       49341\n",
      "rptfoll                                                       39592\n",
      "rptalliss                                                    108561\n",
      "rptiss                                                        26202\n",
      "rptallpr                                                      93228\n",
      "rptpr                                                         24907\n",
      "rptissues         [39362634, 39457923, 39457924, 39458049, 39458...\n",
      "ownercmt                                                        155\n",
      "ownerallcmt                                                     517\n",
      "ownerpronum                                                    5587\n",
      "ownerstar                                                   4126131\n",
      "ownerfoll                                                         0\n",
      "owneralliss                                                       0\n",
      "owneriss                                                          0\n",
      "ownerallpr                                                        0\n",
      "ownerpr                                                           0\n",
      "ownerissues                                                      []\n",
      "procmt                                                      5000424\n",
      "contributornum                                               370622\n",
      "crtclsissnum                                                1474394\n",
      "openiss                                                     3336741\n",
      "openissratio                                                314.498\n",
      "clsisst                                                       89858\n",
      "clscmt                                                         2016\n",
      "title             API/DOC: status of low_memory kwarg of read_cs...\n",
      "body              I am getting the following warning:\\n\\n```\\n/u...\n",
      "labels            [0, 1, 0, 0, 1, 0, 0, 0, 0, 0, 0, 0, 3, 2, 1, ...\n",
      "events            [[[17, 142, 10064, 3, 360, 1282, 209, 1017, 0,...\n",
      "commentusers      [[17, 142, 10064, 3, 360, 1282, 209, 1017, 0, ...\n",
      "commentbody       [its a kind of deprecated option (but still wo...\n",
      "rpthaslabel                                                     435\n",
      "rpthasevent                                                     189\n",
      "rpthascomment                                                   207\n",
      "fromcmt                                                           1\n",
      "usedt                                                      17956082\n",
      "dtype: object\n"
     ]
    }
   ],
   "source": [
    "data1 = LTC_df.iloc[:,:].sum(axis = 0)\n",
    "print(data1)\n",
    "data2 = OTC_df.iloc[:,:].sum(axis = 0)\n",
    "# print(data2)"
   ]
  },
  {
   "cell_type": "code",
   "execution_count": 24,
   "metadata": {
    "scrolled": true
   },
   "outputs": [],
   "source": [
    "def replace_with_l(lst):\n",
    "    for i in range(len(lst)):\n",
    "        lst[i] = len(lst[i])\n",
    "    return lst\n",
    "    \n",
    "\n",
    "# print(LTC_df['usedt'].tolist())\n",
    "usedt1 = LTC_df['usedt'].tolist()\n",
    "usedt2 = OTC_df['usedt'].tolist()\n",
    "\n",
    "title1 = LTC_df['title'].tolist()\n",
    "title1 = replace_with_l(title1)\n",
    "# print(title1)\n",
    "title2 = OTC_df['title'].tolist()\n",
    "title2 = replace_with_l(title2)\n",
    "\n",
    "body1 = LTC_df['body'].tolist()\n",
    "body1 = replace_with_l(body1)\n",
    "body2 = OTC_df['body'].tolist()\n",
    "body2 = replace_with_l(body2)\n",
    "\n",
    "label_num1 = LTC_df['labels'].tolist()\n",
    "label_num2 = OTC_df['labels'].tolist()\n",
    "\n",
    "fromcmt1 = LTC_df['fromcmt'].tolist()\n",
    "fromcmt2 = OTC_df['fromcmt'].tolist()\n",
    "\n",
    "clscmt1 = LTC_df['clscmt'].tolist()\n",
    "clscmt2 = OTC_df['clscmt'].tolist()\n",
    "\n",
    "comment1 = LTC_df['commentbody'].tolist()\n",
    "comment1 = replace_with_l(comment1)\n",
    "comment2 = OTC_df['commentbody'].tolist()\n",
    "comment2 = replace_with_l(comment2)"
   ]
  },
  {
   "cell_type": "code",
   "execution_count": null,
   "metadata": {},
   "outputs": [],
   "source": [
    "events1 = LTC_df['commentbody'].tolist()\n"
   ]
  },
  {
   "cell_type": "code",
   "execution_count": 25,
   "metadata": {},
   "outputs": [],
   "source": [
    "import numpy as np\n",
    "tmp1 = np.array(label_num1)\n",
    "# print(tmp1.sum(axis=1).tolist())\n",
    "import numpy as np\n",
    "tmp2 = np.array(label_num2)\n",
    "# print(tmp2.sum(axis=1).tolist())"
   ]
  },
  {
   "cell_type": "code",
   "execution_count": 26,
   "metadata": {},
   "outputs": [
    {
     "name": "stdout",
     "output_type": "stream",
     "text": [
      "MannwhitneyuResult(statistic=145564.0, pvalue=0.7584545450683637)\n",
      "MannwhitneyuResult(statistic=148488.5, pvalue=0.3802869680595319)\n",
      "MannwhitneyuResult(statistic=148956.0, pvalue=0.3328876025131642)\n",
      "MannwhitneyuResult(statistic=144465.5, pvalue=0.9248120528827355)\n",
      "MannwhitneyuResult(statistic=143881.0, pvalue=0.8236042913161765)\n",
      "MannwhitneyuResult(statistic=167399.5, pvalue=2.814343141132411e-07)\n",
      "MannwhitneyuResult(statistic=140099.5, pvalue=0.4460561189321791)\n"
     ]
    }
   ],
   "source": [
    "# mann-whitney U 检验\n",
    "import scipy.stats as stats\n",
    "print(stats.mannwhitneyu(usedt1,usedt2,alternative='two-sided'))\n",
    "print(stats.mannwhitneyu(title1,title2,alternative='two-sided'))\n",
    "print(stats.mannwhitneyu(body1,body2,alternative='two-sided'))\n",
    "print(stats.mannwhitneyu(tmp1.sum(axis=1).tolist(),tmp2.sum(axis=1).tolist(),alternative='two-sided'))\n",
    "print(stats.mannwhitneyu(fromcmt1,fromcmt2,alternative='two-sided'))\n",
    "print(stats.mannwhitneyu(clscmt1,clscmt2,alternative='two-sided'))\n",
    "print(stats.mannwhitneyu(comment1,comment2,alternative='two-sided'))"
   ]
  },
  {
   "cell_type": "code",
   "execution_count": 49,
   "metadata": {},
   "outputs": [
    {
     "name": "stdout",
     "output_type": "stream",
     "text": [
      "{'Python': 2296}\n",
      "{'Python': 1942}\n"
     ]
    }
   ],
   "source": [
    "print('----usedt-------')\n",
    "print(data1['usedt']/LTC_issue_num)\n",
    "print(data2['usedt']/OTC_issue_num)\n",
    "print('----title-------')\n",
    "print(len(data1['title'])/LTC_issue_num)\n",
    "print(len(data2['title'])/OTC_issue_num)\n",
    "print('----body-------')\n",
    "print(len(data1['body'])/LTC_issue_num)\n",
    "print(len(data2['body'])/OTC_issue_num)\n",
    "print('----label num-------')\n",
    "print(sum(data1['labels'])/LTC_issue_num)\n",
    "print(sum(data2['labels'])/OTC_issue_num)"
   ]
  },
  {
   "cell_type": "code",
   "execution_count": 238,
   "metadata": {},
   "outputs": [
    {
     "name": "stdout",
     "output_type": "stream",
     "text": [
      "1097\n"
     ]
    }
   ],
   "source": [
    "dataset = []\n",
    "ltc_data = [usedt1,title1,body1,fromcmt1,clscmt1]\n",
    "ltc_data = np.array(ltc_data).T.tolist()\n",
    "for i in range(LTC_issue_num):\n",
    "    ltc_data[i].extend(label_num1[i])\n",
    "    ltc_data[i].append(1)\n",
    "    dataset.append(ltc_data[i])\n",
    "# print(ltc_data)\n",
    "\n",
    "otc_data = [usedt2,title2,body2,fromcmt2,clscmt2]\n",
    "otc_data = np.array(otc_data).T.tolist()\n",
    "for i in range(OTC_issue_num):\n",
    "    otc_data[i].extend(label_num2[i])\n",
    "    otc_data[i].append(0)\n",
    "    dataset.append(otc_data[i])\n",
    "# print(ltc_data)\n",
    "\n",
    "print(len(dataset))\n",
    "dataset = np.array(dataset)\n",
    "# print(ltc_data)"
   ]
  },
  {
   "cell_type": "code",
   "execution_count": 239,
   "metadata": {},
   "outputs": [
    {
     "name": "stdout",
     "output_type": "stream",
     "text": [
      "--------svm----------\n",
      "accuracy: 0.896969696969697\n",
      "precision: 0.45121951219512196\n",
      "recall: 0.4966442953020134\n",
      "f1 score: 0.47284345047923326\n",
      "auc: 0.40373322147651003\n"
     ]
    },
    {
     "data": {
      "text/plain": [
       "[<matplotlib.lines.Line2D at 0x1905a15e850>]"
      ]
     },
     "execution_count": 239,
     "metadata": {},
     "output_type": "execute_result"
    },
    {
     "data": {
      "image/png": "[encoded data removed]",
      "text/plain": [
       "<Figure size 432x288 with 1 Axes>"
      ]
     },
     "metadata": {
      "needs_background": "light"
     },
     "output_type": "display_data"
    }
   ],
   "source": [
    "from sklearn import model_selection\n",
    "from sklearn import svm\n",
    "from sklearn.preprocessing import StandardScaler\n",
    "from sklearn.metrics import accuracy_score, precision_score, recall_score, f1_score, roc_curve, auc\n",
    "import matplotlib.pyplot as plt\n",
    "\n",
    "def pre(X_test, y_test, model, model_name):\n",
    "    pred = model.predict(X_test)\n",
    "    proba = model.predict_proba(X_test)[:, 1]\n",
    "    # 计算指标\n",
    "    acc = accuracy_score(y_test, pred)\n",
    "    precision = precision_score(y_test, pred, average='macro')\n",
    "    recall = recall_score(y_test, pred, average='macro')\n",
    "    f1 = f1_score(y_test, pred, average='macro')\n",
    "    fpr, tpr, thresholds = roc_curve(y_test, proba)\n",
    "    auc_num = auc(fpr, tpr)\n",
    "    # 输出指标\n",
    "    print('--------' + model_name + '----------')\n",
    "    print(\"accuracy: \" + str(acc))\n",
    "    print(\"precision: \" + str(precision))\n",
    "    print(\"recall: \" + str(recall))\n",
    "    print(\"f1 score: \" + str(f1))\n",
    "    print(\"auc: \" + str(auc_num))\n",
    "\n",
    "    return fpr, tpr\n",
    "\n",
    "# 提取feature和label\n",
    "\n",
    "X = dataset[:, 1:-1]\n",
    "y = dataset[:, -1]\n",
    "# 数据标准化\n",
    "standardScaler = StandardScaler()\n",
    "standardScaler.fit(X)\n",
    "X = standardScaler.transform(X)\n",
    "\n",
    "# 将数据集拆分为训练集和测试集\n",
    "X_train, X_test, y_train, y_test = model_selection.train_test_split(X, y, test_size=0.3, stratify=y)\n",
    "y_train = y_train.astype('int')\n",
    "y_test = y_test.astype('int')\n",
    "\n",
    "# 构造svm\n",
    "Svm = svm.SVC(C=0.5, kernel='sigmoid', probability=True)\n",
    "Svm.fit(X_train, y_train)  # 训练模型\n",
    "# 预测\n",
    "fpr, tpr = pre(X_test, y_test, Svm, 'svm')\n",
    "# 绘图，新建画布\n",
    "fig, ax = plt.subplots()\n",
    "ax.plot(fpr, tpr, '-s', label='svm', linewidth=0.5, markersize=3)\n"
   ]
  },
  {
   "cell_type": "code",
   "execution_count": 91,
   "metadata": {},
   "outputs": [
    {
     "name": "stdout",
     "output_type": "stream",
     "text": [
      "------------------\n",
      "[('none', 4.11), ('pandas', 2.92), ('the', 2.08), ('in', 1.7), ('a', 1.65), ('e', 1.14), ('to', 1.07), ('python', 1.06), ('pd', 1.0), ('py', 0.85), ('of', 0.83), ('rst', 0.82), ('doc', 0.81), ('source', 0.81), ('is', 0.8), ('df', 0.73), ('not', 0.71), ('line', 0.7), ('i', 0.6), ('x', 0.59), ('whitespace', 0.58), ('cookbook', 0.58), ('core', 0.57), ('this', 0.55), ('after', 0.55), ('index', 0.52), ('with', 0.52), ('missing', 0.52), ('and', 0.49), ('dataframe', 0.48), ('c', 0.48), ('as', 0.46), ('file', 0.46), ('self', 0.45), ('|', 0.45), ('lib', 0.43), ('versions', 0.43), ('if', 0.42), ('b', 0.42), ('s', 0.42), ('output', 0.42), ('>', 0.42), ('for', 0.4), ('series', 0.4), ('be', 0.38), ('os', 0.38), ('it', 0.34), ('dtype', 0.33), ('that', 0.32), ('numpy', 0.32), ('import', 0.31), ('all', 0.29), ('code', 0.29), ('https', 0.29), ('dev', 0.29), ('on', 0.28), ('or', 0.28), ('does', 0.27), ('html', 0.27), ('data', 0.26), ('values', 0.26), ('com', 0.26), ('should', 0.26), ('start', 0.26), ('<', 0.25), ('d', 0.25), ('read', 0.24), ('expected', 0.24), ('show', 0.24), ('utf', 0.24), ('packages', 0.23), ('true', 0.23), ('np', 0.23), ('>>>', 0.23), ('en', 0.23), ('scipy', 0.23), ('xlsxwriter', 0.23), ('github', 0.23), ('nan', 0.22), ('from', 0.22), ('lxml', 0.22), ('groupby', 0.22), ('problem', 0.22), ('site', 0.22), ('example', 0.21), ('commit', 0.21), ('cython', 0.21), ('ipython', 0.21), ('pytz', 0.21), ('matplotlib', 0.21), ('test', 0.21), ('summary', 0.21), ('an', 0.2), ('t', 0.2), ('datetime', 0.2), ('release', 0.2), ('us', 0.2), ('dateutil', 0.2), ('numexpr', 0.2), ('openpyxl', 0.2)]\n",
      "[('none', 4.53), ('pandas', 2.57), ('the', 2.27), ('in', 1.63), ('a', 1.63), ('to', 1.26), ('python', 1.2), ('pd', 1.13), ('of', 0.89), ('is', 0.85), ('df', 0.79), ('py', 0.72), ('x', 0.69), ('i', 0.69), ('index', 0.63), ('this', 0.63), ('as', 0.58), ('and', 0.55), ('line', 0.53), ('output', 0.52), ('s', 0.51), ('b', 0.51), ('if', 0.49), ('versions', 0.49), ('lib', 0.49), ('self', 0.49), ('dataframe', 0.48), ('for', 0.48), ('c', 0.47), ('not', 0.47), ('be', 0.43), ('>', 0.42), ('os', 0.41), ('it', 0.4), ('nan', 0.4), ('series', 0.4), ('file', 0.39), ('that', 0.38), ('with', 0.38), ('core', 0.37), ('html', 0.36), ('data', 0.36), ('dtype', 0.34), ('code', 0.33), ('d', 0.33), ('are', 0.33), ('import', 0.33), ('all', 0.32), ('see', 0.31), ('numpy', 0.31), ('also', 0.31), ('e', 0.3), ('np', 0.29), ('problem', 0.29), ('https', 0.29), ('on', 0.28), ('or', 0.28), ('<', 0.28), ('|', 0.28), ('expected', 0.27), ('show', 0.27), ('utf', 0.27), ('packages', 0.27), ('parameters', 0.26), ('from', 0.25), ('return', 0.25), ('example', 0.25), ('en', 0.25), ('matplotlib', 0.25), ('site', 0.25), ('read', 0.24), ('name', 0.24), ('xlsxwriter', 0.24), ('lxml', 0.24), ('f', 0.24), ('values', 0.24), ('should', 0.24), ('have', 0.23), ('but', 0.23), ('description', 0.23), ('us', 0.23), ('com', 0.22), ('copy', 0.22), ('print', 0.22), ('pip', 0.22), ('scipy', 0.22), ('ipython', 0.22), ('test', 0.22), ('columns', 0.21), ('io', 0.21), ('tables', 0.21), ('an', 0.21), ('installed', 0.21), ('commit', 0.21), ('release', 0.21), ('setuptools', 0.21), ('cython', 0.21), ('sphinx', 0.21), ('dateutil', 0.21), ('pytz', 0.21)]\n"
     ]
    }
   ],
   "source": [
    "import re\n",
    "def count_words(s):\n",
    "    s = s.lower()\n",
    "    lst = re.split('\\'|\\d|\\`+|\\#+|\\s+|\\,+|\\.+|\\!+|\\:+|\\?+|\\;+|\\(+|\\)+|\\-+|\\_+|\\=+|\\++|\\“+|\\、+|\\/+|\\{+|\\}+|\\”+|\\：+|\\。+|\\“+|\\[+|\\]+|\\【+|\\】+|\\—+|\\%+|\\\"+',s)    \n",
    "    diccount = {}\n",
    "    cnt = 0\n",
    "    for i in lst:\n",
    "        if i == ' ' or i =='':\n",
    "            continue\n",
    "        cnt += 1\n",
    "        if i not in diccount:\n",
    "            diccount[i] = 1  # 第一遍字典为空 赋值相当于 i=1，i为words里的单词\n",
    "            # print(diccount)\n",
    "        else:\n",
    "            diccount[i] += 1    \n",
    "#     print(diccount)\n",
    "#     print(cnt)\n",
    "    for key in diccount:\n",
    "        diccount[key] = round(100*diccount[key]/cnt,2)\n",
    "\n",
    "    return diccount\n",
    "\n",
    "title_content1 = LTC_df['title'].tolist()\n",
    "s = \"\"\n",
    "for item in title_content1:\n",
    "    s += str(item) \n",
    "count_words(s)\n",
    "\n",
    "title_content2 = OTC_df['title'].tolist()\n",
    "s = \"\"\n",
    "for item in title_content2:\n",
    "    s += str(item) \n",
    "count_words(s)\n",
    "\n",
    "print(\"------------------\")\n",
    "\n",
    "body_content1 = LTC_df['body'].tolist()\n",
    "s = \"\"\n",
    "for item in body_content1:\n",
    "    s += str(item) \n",
    "dic1 = count_words(s)\n",
    "dic11 = sorted(dic1.items(),key=lambda d:d[1],reverse=True)\n",
    "print(dic11[0:100])\n",
    "\n",
    "body_content2 = OTC_df['body'].tolist()\n",
    "s = \"\"\n",
    "for item in body_content2:\n",
    "    s += str(item) \n",
    "dic2 = count_words(s)\n",
    "dic21 = sorted(dic2.items(),key=lambda d:d[1],reverse=True)\n",
    "print(dic21[0:100])\n"
   ]
  },
  {
   "cell_type": "code",
   "execution_count": null,
   "metadata": {
    "pycharm": {
     "name": "#%%\n"
    }
   },
   "outputs": [],
   "source": [
    "# print(list(dic1.keys()))"
   ]
  },
  {
   "cell_type": "code",
   "execution_count": null,
   "metadata": {
    "pycharm": {
     "name": "#%%\n"
    }
   },
   "outputs": [],
   "source": [
    "for key in dic2:\n",
    "    if key not in dic1.keys():\n",
    "            dic1[key] = 0\n",
    "for key in dic1:\n",
    "    if key not in dic2.keys():\n",
    "            dic2[key] = 0\n",
    "print(len(dic1.keys()))\n",
    "print(len(dic2.keys()))\n",
    "l = len(dic1.keys())\n",
    "\n",
    "dic12 = sorted(dic1.items(), key=lambda d:d[0])\n",
    "dic22 = sorted(dic2.items(), key=lambda d:d[0])\n",
    "\n",
    "content_cnt1 = []\n",
    "for i in range(l):\n",
    "    content_cnt1.append(dic12[i][1] * 100)\n",
    "# print(content_cnt1)\n",
    "content_cnt2 = []\n",
    "for i in range(l):\n",
    "    content_cnt2.append(dic22[i][1] * 100)\n",
    "\n",
    "print(stats.mannwhitneyu(content_cnt1,content_cnt2,alternative='two-sided'))\n"
   ]
  },
  {
   "cell_type": "code",
   "execution_count": 90,
   "metadata": {},
   "outputs": [],
   "source": []
  },
  {
   "cell_type": "code",
   "execution_count": 99,
   "metadata": {},
   "outputs": [
    {
     "name": "stdout",
     "output_type": "stream",
     "text": [
      "7582\n",
      "7582\n",
      "MannwhitneyuResult(statistic=28677738.0, pvalue=0.7310130895079354)\n"
     ]
    }
   ],
   "source": [
    "for key in dic2:\n",
    "    if key not in dic1.keys():\n",
    "            dic1[key] = 0\n",
    "for key in dic1:\n",
    "    if key not in dic2.keys():\n",
    "            dic2[key] = 0\n",
    "print(len(dic1.keys()))\n",
    "print(len(dic2.keys()))\n",
    "l = len(dic1.keys())\n",
    "\n",
    "dic12 = sorted(dic1.items(), key=lambda d:d[0])\n",
    "dic22 = sorted(dic2.items(), key=lambda d:d[0])\n",
    "\n",
    "content_cnt1 = []\n",
    "for i in range(l):\n",
    "    content_cnt1.append(dic12[i][1] * 100)\n",
    "# print(content_cnt1)\n",
    "content_cnt2 = []\n",
    "for i in range(l):\n",
    "    content_cnt2.append(dic22[i][1] * 100)\n",
    "\n",
    "print(stats.mannwhitneyu(content_cnt1,content_cnt2,alternative='two-sided'))\n"
   ]
  },
  {
   "cell_type": "code",
   "execution_count": null,
   "metadata": {},
   "outputs": [],
   "source": []
  }
 ],
 "metadata": {
  "kernelspec": {
   "display_name": "Python 3",
   "language": "python",
   "name": "python3"
  },
  "language_info": {
   "codemirror_mode": {
    "name": "ipython",
    "version": 3
   },
   "file_extension": ".py",
   "mimetype": "text/x-python",
   "name": "python",
   "nbconvert_exporter": "python",
   "pygments_lexer": "ipython3",
   "version": "3.8.5"
  },
  "pycharm": {
   "stem_cell": {
    "cell_type": "raw",
    "metadata": {
     "collapsed": false
    },
    "source": []
   }
  }
 },
 "nbformat": 4,
 "nbformat_minor": 4
}
