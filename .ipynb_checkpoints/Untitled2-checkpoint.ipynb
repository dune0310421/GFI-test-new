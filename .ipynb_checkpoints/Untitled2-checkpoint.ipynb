{
 "cells": [
  {
   "cell_type": "code",
   "execution_count": 2,
   "metadata": {},
   "outputs": [
    {
     "ename": "FileNotFoundError",
     "evalue": "[Errno 2] No such file or directory: 'issuedata.json'",
     "output_type": "error",
     "traceback": [
      "\u001b[1;31m---------------------------------------------------------------------------\u001b[0m",
      "\u001b[1;31mFileNotFoundError\u001b[0m                         Traceback (most recent call last)",
      "\u001b[1;32m<ipython-input-2-ec0e0eae2b1c>\u001b[0m in \u001b[0;36m<module>\u001b[1;34m\u001b[0m\n\u001b[0;32m      1\u001b[0m \u001b[1;32mimport\u001b[0m \u001b[0mjson\u001b[0m\u001b[1;33m\u001b[0m\u001b[1;33m\u001b[0m\u001b[0m\n\u001b[0;32m      2\u001b[0m \u001b[1;33m\u001b[0m\u001b[0m\n\u001b[1;32m----> 3\u001b[1;33m \u001b[1;32mwith\u001b[0m \u001b[0mopen\u001b[0m\u001b[1;33m(\u001b[0m\u001b[1;34m'issuedata.json'\u001b[0m\u001b[1;33m)\u001b[0m \u001b[1;32mas\u001b[0m \u001b[0mf\u001b[0m\u001b[1;33m:\u001b[0m\u001b[1;33m\u001b[0m\u001b[1;33m\u001b[0m\u001b[0m\n\u001b[0m\u001b[0;32m      4\u001b[0m     \u001b[0missuestr\u001b[0m \u001b[1;33m=\u001b[0m \u001b[0mjson\u001b[0m\u001b[1;33m.\u001b[0m\u001b[0mload\u001b[0m\u001b[1;33m(\u001b[0m\u001b[0mf\u001b[0m\u001b[1;33m)\u001b[0m\u001b[1;33m\u001b[0m\u001b[1;33m\u001b[0m\u001b[0m\n\u001b[0;32m      5\u001b[0m     \u001b[0missuedic\u001b[0m \u001b[1;33m=\u001b[0m \u001b[0mjson\u001b[0m\u001b[1;33m.\u001b[0m\u001b[0mloads\u001b[0m\u001b[1;33m(\u001b[0m\u001b[0missuestr\u001b[0m\u001b[1;33m)\u001b[0m\u001b[1;33m\u001b[0m\u001b[1;33m\u001b[0m\u001b[0m\n",
      "\u001b[1;31mFileNotFoundError\u001b[0m: [Errno 2] No such file or directory: 'issuedata.json'"
     ]
    }
   ],
   "source": [
    "import json\n",
    "\n",
    "with open('issuedata.json') as f:\n",
    "    issuestr = json.load(f)\n",
    "    issuedic = json.loads(issuestr)\n",
    "    issuedata = issuedic['issuedata']"
   ]
  },
  {
   "cell_type": "code",
   "execution_count": 1,
   "metadata": {},
   "outputs": [
    {
     "ename": "NameError",
     "evalue": "name 'issuedata' is not defined",
     "output_type": "error",
     "traceback": [
      "\u001b[1;31m---------------------------------------------------------------------------\u001b[0m",
      "\u001b[1;31mNameError\u001b[0m                                 Traceback (most recent call last)",
      "\u001b[1;32m<ipython-input-1-edf235b812bc>\u001b[0m in \u001b[0;36m<module>\u001b[1;34m\u001b[0m\n\u001b[0;32m      1\u001b[0m \u001b[0mdata\u001b[0m\u001b[1;33m=\u001b[0m\u001b[1;33m[\u001b[0m\u001b[1;33m]\u001b[0m\u001b[1;33m\u001b[0m\u001b[1;33m\u001b[0m\u001b[0m\n\u001b[1;32m----> 2\u001b[1;33m \u001b[1;32mfor\u001b[0m \u001b[0mi\u001b[0m \u001b[1;32min\u001b[0m \u001b[0mrange\u001b[0m\u001b[1;33m(\u001b[0m\u001b[0mlen\u001b[0m\u001b[1;33m(\u001b[0m\u001b[0missuedata\u001b[0m\u001b[1;33m)\u001b[0m\u001b[1;33m)\u001b[0m\u001b[1;33m:\u001b[0m\u001b[1;33m\u001b[0m\u001b[1;33m\u001b[0m\u001b[0m\n\u001b[0m\u001b[0;32m      3\u001b[0m     \u001b[0mdata\u001b[0m\u001b[1;33m.\u001b[0m\u001b[0mappend\u001b[0m\u001b[1;33m(\u001b[0m\u001b[0missuedata\u001b[0m\u001b[1;33m[\u001b[0m\u001b[0mi\u001b[0m\u001b[1;33m]\u001b[0m\u001b[1;33m[\u001b[0m\u001b[1;36m1\u001b[0m\u001b[1;33m]\u001b[0m\u001b[1;33m)\u001b[0m\u001b[1;33m\u001b[0m\u001b[1;33m\u001b[0m\u001b[0m\n\u001b[0;32m      4\u001b[0m \u001b[1;31m# print(len(data))\u001b[0m\u001b[1;33m\u001b[0m\u001b[1;33m\u001b[0m\u001b[1;33m\u001b[0m\u001b[0m\n\u001b[0;32m      5\u001b[0m \u001b[1;33m\u001b[0m\u001b[0m\n",
      "\u001b[1;31mNameError\u001b[0m: name 'issuedata' is not defined"
     ]
    }
   ],
   "source": [
    "data=[]\n",
    "for i in range(len(issuedata)):\n",
    "    data.append(issuedata[i][1])\n",
    "# print(len(data))\n",
    "\n",
    "from getFirstIssue import get_first_issue\n",
    "LTC_1st_issues, OTC_1st_issues = get_first_issue(data)"
   ]
  },
  {
   "cell_type": "code",
   "execution_count": 26,
   "metadata": {},
   "outputs": [],
   "source": [
    "import pandas as pd\n",
    "LTC_issue_num = len(LTC_1st_issues)\n",
    "OTC_issue_num = len(OTC_1st_issues)\n",
    "\n",
    "LTC_df = pd.DataFrame(LTC_1st_issues)\n",
    "OTC_df = pd.DataFrame(OTC_1st_issues)\n",
    "# print(LTC_df)"
   ]
  },
  {
   "cell_type": "code",
   "execution_count": 27,
   "metadata": {},
   "outputs": [],
   "source": [
    "def replace_with_l(lst):\n",
    "    for i in range(len(lst)):\n",
    "        lst[i] = len(lst[i])\n",
    "    return lst\n",
    "    \n",
    "\n",
    "# print(LTC_df['usedt'].tolist())\n",
    "usedt1 = LTC_df['usedt'].tolist()\n",
    "usedt2 = OTC_df['usedt'].tolist()\n",
    "\n",
    "title1 = LTC_df['title'].tolist()\n",
    "title1 = replace_with_l(title1)\n",
    "# print(title1)\n",
    "title2 = OTC_df['title'].tolist()\n",
    "title2 = replace_with_l(title2)\n",
    "\n",
    "body1 = LTC_df['body'].tolist()\n",
    "body1 = replace_with_l(body1)\n",
    "body2 = OTC_df['body'].tolist()\n",
    "body2 = replace_with_l(body2)\n",
    "\n",
    "label_num1 = LTC_df['labels'].tolist()\n",
    "label_num2 = OTC_df['labels'].tolist()\n",
    "\n",
    "fromcmt1 = LTC_df['fromcmt'].tolist()\n",
    "fromcmt2 = OTC_df['fromcmt'].tolist()\n",
    "\n",
    "clscmt1 = LTC_df['clscmt'].tolist()\n",
    "clscmt2 = OTC_df['clscmt'].tolist()"
   ]
  },
  {
   "cell_type": "code",
   "execution_count": 28,
   "metadata": {},
   "outputs": [],
   "source": [
    "import numpy as np\n",
    "tmp1 = np.array(label_num1)\n",
    "# print(tmp1.sum(axis=1).tolist())\n",
    "import numpy as np\n",
    "tmp2 = np.array(label_num2)\n",
    "# print(tmp2.sum(axis=1).tolist())"
   ]
  },
  {
   "cell_type": "code",
   "execution_count": 29,
   "metadata": {},
   "outputs": [
    {
     "name": "stdout",
     "output_type": "stream",
     "text": [
      "MannwhitneyuResult(statistic=2913454.0, pvalue=0.9192462320133745)\n",
      "MannwhitneyuResult(statistic=2634852.0, pvalue=1.3483793462986224e-06)\n",
      "MannwhitneyuResult(statistic=2305347.0, pvalue=1.459417457046993e-26)\n",
      "MannwhitneyuResult(statistic=3103956.0, pvalue=4.976138621546813e-10)\n",
      "MannwhitneyuResult(statistic=3325268.0, pvalue=8.128532557981941e-35)\n",
      "MannwhitneyuResult(statistic=3973819.0, pvalue=2.694426158522779e-89)\n"
     ]
    }
   ],
   "source": [
    "import scipy.stats as stats\n",
    "print(stats.mannwhitneyu(usedt1,usedt2,alternative='two-sided'))\n",
    "print(stats.mannwhitneyu(title1,title2,alternative='two-sided'))\n",
    "print(stats.mannwhitneyu(body1,body2,alternative='two-sided'))\n",
    "print(stats.mannwhitneyu(tmp1.sum(axis=1).tolist(),tmp2.sum(axis=1).tolist(),alternative='two-sided'))\n",
    "print(stats.mannwhitneyu(fromcmt1,fromcmt2,alternative='two-sided'))\n",
    "print(stats.mannwhitneyu(clscmt1,clscmt2,alternative='two-sided'))"
   ]
  },
  {
   "cell_type": "code",
   "execution_count": 30,
   "metadata": {},
   "outputs": [
    {
     "name": "stdout",
     "output_type": "stream",
     "text": [
      "{'JavaScript': 257, 'C++': 61, 'C#': 132, 'PHP': 113, 'Java': 76, 'Python': 285, 'C': 13, 'HTML': 17, 'TypeScript': 76, None: 22}\n",
      "{'JavaScript': 1389, 'C++': 313, 'C#': 465, 'PHP': 401, 'Java': 323, 'Python': 1780, 'C': 75, 'HTML': 104, 'TypeScript': 593, None: 85}\n"
     ]
    }
   ],
   "source": [
    "LTC_type = {}\n",
    "OTC_type = {}\n",
    "for index, row in LTC_df.iterrows():\n",
    "    if row['language'] not in LTC_type.keys():\n",
    "        LTC_type[row['language']] = 1\n",
    "    else:\n",
    "        LTC_type[row['language']] += 1\n",
    "print(LTC_type)\n",
    "for index, row in OTC_df.iterrows():\n",
    "    if row['language'] not in OTC_type.keys():\n",
    "        OTC_type[row['language']] = 1\n",
    "    else:\n",
    "        OTC_type[row['language']] += 1\n",
    "print(OTC_type)"
   ]
  },
  {
   "cell_type": "code",
   "execution_count": 31,
   "metadata": {},
   "outputs": [
    {
     "name": "stdout",
     "output_type": "stream",
     "text": [
      "6580\n"
     ]
    }
   ],
   "source": [
    "dataset = []\n",
    "ltc_data = [usedt1,title1,body1,fromcmt1,clscmt1]\n",
    "ltc_data = np.array(ltc_data).T.tolist()\n",
    "for i in range(LTC_issue_num):\n",
    "    ltc_data[i].extend(label_num1[i])\n",
    "    ltc_data[i].append(1)\n",
    "    dataset.append(ltc_data[i])\n",
    "# print(ltc_data)\n",
    "\n",
    "otc_data = [usedt2,title2,body2,fromcmt2,clscmt2]\n",
    "otc_data = np.array(otc_data).T.tolist()\n",
    "for i in range(OTC_issue_num):\n",
    "    otc_data[i].extend(label_num2[i])\n",
    "    otc_data[i].append(0)\n",
    "    dataset.append(otc_data[i])\n",
    "# print(ltc_data)\n",
    "\n",
    "print(len(dataset))\n",
    "dataset = np.array(dataset)\n",
    "# print(ltc_data)"
   ]
  },
  {
   "cell_type": "code",
   "execution_count": 32,
   "metadata": {},
   "outputs": [
    {
     "name": "stdout",
     "output_type": "stream",
     "text": [
      "--------svm----------\n",
      "accuracy: 0.8277608915906788\n",
      "precision: 0.5946564250457546\n",
      "recall: 0.5260608327861844\n",
      "f1 score: 0.518520006427768\n",
      "auc: 0.6108425203463071\n"
     ]
    },
    {
     "data": {
      "text/plain": [
       "[<matplotlib.lines.Line2D at 0x19be2b0f4f0>]"
      ]
     },
     "execution_count": 32,
     "metadata": {},
     "output_type": "execute_result"
    },
    {
     "data": {
      "image/png": "[encoded data removed]",
      "text/plain": [
       "<Figure size 432x288 with 1 Axes>"
      ]
     },
     "metadata": {
      "needs_background": "light"
     },
     "output_type": "display_data"
    }
   ],
   "source": [
    "from sklearn import model_selection\n",
    "from sklearn import svm\n",
    "from sklearn.preprocessing import StandardScaler\n",
    "from sklearn.metrics import accuracy_score, precision_score, recall_score, f1_score, roc_curve, auc\n",
    "import matplotlib.pyplot as plt\n",
    "\n",
    "def pre(X_test, y_test, model, model_name):\n",
    "    pred = model.predict(X_test)\n",
    "    proba = model.predict_proba(X_test)[:, 1]\n",
    "    # 计算指标\n",
    "    acc = accuracy_score(y_test, pred)\n",
    "    precision = precision_score(y_test, pred, average='macro')\n",
    "    recall = recall_score(y_test, pred, average='macro')\n",
    "    f1 = f1_score(y_test, pred, average='macro')\n",
    "    fpr, tpr, thresholds = roc_curve(y_test, proba)\n",
    "    auc_num = auc(fpr, tpr)\n",
    "    # 输出指标\n",
    "    print('--------' + model_name + '----------')\n",
    "    print(\"accuracy: \" + str(acc))\n",
    "    print(\"precision: \" + str(precision))\n",
    "    print(\"recall: \" + str(recall))\n",
    "    print(\"f1 score: \" + str(f1))\n",
    "    print(\"auc: \" + str(auc_num))\n",
    "\n",
    "    return fpr, tpr\n",
    "\n",
    "# 提取feature和label\n",
    "\n",
    "X = dataset[:, 1:-1]\n",
    "y = dataset[:, -1]\n",
    "# 数据标准化\n",
    "standardScaler = StandardScaler()\n",
    "standardScaler.fit(X)\n",
    "X = standardScaler.transform(X)\n",
    "\n",
    "# 将数据集拆分为训练集和测试集\n",
    "X_train, X_test, y_train, y_test = model_selection.train_test_split(X, y, test_size=0.3, stratify=y)\n",
    "y_train = y_train.astype('int')\n",
    "y_test = y_test.astype('int')\n",
    "\n",
    "# 构造svm\n",
    "Svm = svm.SVC(C=0.5, kernel='sigmoid', probability=True)\n",
    "Svm.fit(X_train, y_train)  # 训练模型\n",
    "# 预测\n",
    "fpr, tpr = pre(X_test, y_test, Svm, 'svm')\n",
    "# 绘图，新建画布\n",
    "fig, ax = plt.subplots()\n",
    "ax.plot(fpr, tpr, '-s', label='svm', linewidth=0.5, markersize=3)"
   ]
  },
  {
   "cell_type": "code",
   "execution_count": 33,
   "metadata": {},
   "outputs": [
    {
     "name": "stdout",
     "output_type": "stream",
     "text": [
      "----usedt-------\n",
      "41747.05228136882\n",
      "41633.76537626628\n",
      "----title-------\n",
      "51.613117870722434\n",
      "54.94663531114327\n",
      "----body-------\n",
      "1001.1406844106464\n",
      "1334.2044138929089\n",
      "----label num-------\n",
      "0.3593155893536122\n",
      "0.19989146164978291\n"
     ]
    }
   ],
   "source": [
    "data1 = LTC_df.iloc[:,:].sum(axis = 0)\n",
    "# print(data1)\n",
    "data2 = OTC_df.iloc[:,:].sum(axis = 0)\n",
    "# print(data2)\n",
    "print('----usedt-------')\n",
    "print(data1['usedt']/LTC_issue_num)\n",
    "print(data2['usedt']/OTC_issue_num)\n",
    "print('----title-------')\n",
    "print(len(data1['title'])/LTC_issue_num)\n",
    "print(len(data2['title'])/OTC_issue_num)\n",
    "print('----body-------')\n",
    "print(len(data1['body'])/LTC_issue_num)\n",
    "print(len(data2['body'])/OTC_issue_num)\n",
    "print('----label num-------')\n",
    "print(sum(data1['labels'])/LTC_issue_num)\n",
    "print(sum(data2['labels'])/OTC_issue_num)"
   ]
  },
  {
   "cell_type": "code",
   "execution_count": null,
   "metadata": {},
   "outputs": [],
   "source": []
  }
 ],
 "metadata": {
  "kernelspec": {
   "display_name": "Python 3",
   "language": "python",
   "name": "python3"
  },
  "language_info": {
   "codemirror_mode": {
    "name": "ipython",
    "version": 3
   },
   "file_extension": ".py",
   "mimetype": "text/x-python",
   "name": "python",
   "nbconvert_exporter": "python",
   "pygments_lexer": "ipython3",
   "version": "3.8.5"
  }
 },
 "nbformat": 4,
 "nbformat_minor": 4
}
