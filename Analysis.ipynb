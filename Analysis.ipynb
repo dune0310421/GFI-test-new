{
 "cells": [
  {
   "cell_type": "code",
   "execution_count": 1,
   "metadata": {},
   "outputs": [],
   "source": [
    "import re\n",
    "import textstat\n",
    "import pandas as pd\n",
    "import statsmodels.api as sm\n",
    "from collections import Counter\n",
    "from scipy.stats import mannwhitneyu"
   ]
  },
  {
   "cell_type": "code",
   "execution_count": 2,
   "metadata": {},
   "outputs": [
    {
     "data": {
      "text/plain": [
       "(7619, 1622, 5997)"
      ]
     },
     "execution_count": 2,
     "metadata": {},
     "output_type": "execute_result"
    }
   ],
   "source": [
    "df = pd.read_json(\"data/pandas.json\", convert_dates=True).sort_values(by=\"closed_at\")\n",
    "contrib_cnt = Counter(df.resolver)\n",
    "gfi, ngfi = df[df.resolver_commit_num <= 1], df[df.resolver_commit_num > 1]\n",
    "len(df), len(gfi), len(ngfi)"
   ]
  },
  {
   "cell_type": "code",
   "execution_count": 3,
   "metadata": {},
   "outputs": [
    {
     "data": {
      "text/plain": [
       "(894, 449)"
      ]
     },
     "execution_count": 3,
     "metadata": {},
     "output_type": "execute_result"
    }
   ],
   "source": [
    "def count_code_snippets(s: str) -> int:\n",
    "    p = re.compile(r\"```.+?```\", flags=re.S)\n",
    "    if s is None:\n",
    "        return 0\n",
    "    return len(p.findall(s))\n",
    "\n",
    "\n",
    "def delete_code_snippets(s: str) -> str:\n",
    "    if s is None:\n",
    "        return \"\"\n",
    "    p = re.compile(r\"```.+?```\", flags=re.S)\n",
    "    s = p.sub(\"\", s)\n",
    "    # return \" \".join(s.split())\n",
    "    return s\n",
    "\n",
    "\n",
    "def count_urls(s: str) -> int:\n",
    "    if s is None:\n",
    "        return 0\n",
    "    p = re.compile(r\"http[:/\\w\\.]+\")\n",
    "    lst = list(\n",
    "        filter(  # do not count images, this will be done in count_imgs()\n",
    "            lambda s2: not (\n",
    "                s2.endswith(\"jpg\") or s2.endswith(\"jpeg\") or s2.endswith(\"png\")\n",
    "            ),\n",
    "            p.findall(s),\n",
    "        )\n",
    "    )\n",
    "    return len(lst)\n",
    "\n",
    "\n",
    "def delete_urls(s: str) -> str:\n",
    "    if s == None:\n",
    "        return \"\"\n",
    "    p = re.compile(r\"http[:/\\w\\.]+\")\n",
    "    s = p.sub(\"\", s)\n",
    "    # return \" \".join(s.split())\n",
    "    return s\n",
    "\n",
    "\n",
    "def count_imgs(s: str) -> int:\n",
    "    if s is None:\n",
    "        return 0\n",
    "    p = re.compile(r\"http[:/\\w\\.]+\")\n",
    "    lst = list(\n",
    "        filter(\n",
    "            lambda s2: s2.endswith(\"jpg\") or s2.endswith(\"jpeg\") or s2.endswith(\"png\"),\n",
    "            p.findall(s),\n",
    "        )\n",
    "    )\n",
    "    return len(lst)\n",
    "\n",
    "\n",
    "def count_text_len(s: str) -> int:\n",
    "    if s == None:\n",
    "        return 0\n",
    "    return len(s.split())\n",
    "\n",
    "gfi = gfi.drop_duplicates(\"resolver\", keep=\"first\")\n",
    "gfi[\"clean_body\"] = gfi.body.map(lambda s: delete_code_snippets(delete_code_snippets(s)))\n",
    "gfi[\"len_title\"] = gfi.title.map(count_text_len)\n",
    "gfi[\"len_body\"] = gfi.clean_body.map(count_text_len)\n",
    "gfi[\"n_code_snips\"] = gfi.body.map(count_code_snippets)\n",
    "gfi[\"n_urls\"] = gfi.body.map(count_urls)\n",
    "gfi[\"n_imgs\"] = gfi.body.map(count_imgs)\n",
    "gfi[\"coleman_liau_index\"] = gfi.clean_body.map(textstat.coleman_liau_index)\n",
    "gfi[\"flesch_reading_ease\"] = gfi.clean_body.map(textstat.flesch_reading_ease)\n",
    "gfi[\"flesch_kincaid_grade\"] = gfi.clean_body.map(textstat.flesch_kincaid_grade)\n",
    "gfi[\"automated_readability_index\"] = gfi.clean_body.map(textstat.automated_readability_index)\n",
    "gfi[\"n_comments\"] = gfi.comments.map(len)\n",
    "gfi[\"n_events\"] = gfi.events.map(len)\n",
    "\n",
    "otc_gfi = gfi[gfi.resolver.map(lambda r: contrib_cnt[r] == 1)]\n",
    "notc_gfi = gfi[gfi.resolver.map(lambda r: contrib_cnt[r] > 1)]\n",
    "len(otc_gfi), len(notc_gfi)"
   ]
  },
  {
   "cell_type": "code",
   "execution_count": 4,
   "metadata": {},
   "outputs": [
    {
     "data": {
      "text/html": [
       "<div>\n",
       "<style scoped>\n",
       "    .dataframe tbody tr th:only-of-type {\n",
       "        vertical-align: middle;\n",
       "    }\n",
       "\n",
       "    .dataframe tbody tr th {\n",
       "        vertical-align: top;\n",
       "    }\n",
       "\n",
       "    .dataframe thead th {\n",
       "        text-align: right;\n",
       "    }\n",
       "</style>\n",
       "<table border=\"1\" class=\"dataframe\">\n",
       "  <thead>\n",
       "    <tr style=\"text-align: right;\">\n",
       "      <th></th>\n",
       "      <th>len_title</th>\n",
       "      <th>len_body</th>\n",
       "      <th>coleman_liau_index</th>\n",
       "      <th>n_comments</th>\n",
       "      <th>n_events</th>\n",
       "    </tr>\n",
       "  </thead>\n",
       "  <tbody>\n",
       "    <tr>\n",
       "      <th>count</th>\n",
       "      <td>894.000000</td>\n",
       "      <td>894.000000</td>\n",
       "      <td>894.000000</td>\n",
       "      <td>894.000000</td>\n",
       "      <td>894.000000</td>\n",
       "    </tr>\n",
       "    <tr>\n",
       "      <th>mean</th>\n",
       "      <td>8.014541</td>\n",
       "      <td>132.934004</td>\n",
       "      <td>14.641588</td>\n",
       "      <td>4.712528</td>\n",
       "      <td>17.699105</td>\n",
       "    </tr>\n",
       "    <tr>\n",
       "      <th>std</th>\n",
       "      <td>3.215794</td>\n",
       "      <td>124.287916</td>\n",
       "      <td>16.362245</td>\n",
       "      <td>4.990149</td>\n",
       "      <td>12.615960</td>\n",
       "    </tr>\n",
       "    <tr>\n",
       "      <th>min</th>\n",
       "      <td>2.000000</td>\n",
       "      <td>0.000000</td>\n",
       "      <td>-22.210000</td>\n",
       "      <td>0.000000</td>\n",
       "      <td>0.000000</td>\n",
       "    </tr>\n",
       "    <tr>\n",
       "      <th>25%</th>\n",
       "      <td>6.000000</td>\n",
       "      <td>43.000000</td>\n",
       "      <td>9.960000</td>\n",
       "      <td>2.000000</td>\n",
       "      <td>10.000000</td>\n",
       "    </tr>\n",
       "    <tr>\n",
       "      <th>50%</th>\n",
       "      <td>8.000000</td>\n",
       "      <td>102.500000</td>\n",
       "      <td>12.180000</td>\n",
       "      <td>3.000000</td>\n",
       "      <td>15.000000</td>\n",
       "    </tr>\n",
       "    <tr>\n",
       "      <th>75%</th>\n",
       "      <td>10.000000</td>\n",
       "      <td>191.000000</td>\n",
       "      <td>15.352500</td>\n",
       "      <td>6.000000</td>\n",
       "      <td>22.000000</td>\n",
       "    </tr>\n",
       "    <tr>\n",
       "      <th>max</th>\n",
       "      <td>28.000000</td>\n",
       "      <td>1630.000000</td>\n",
       "      <td>346.400000</td>\n",
       "      <td>61.000000</td>\n",
       "      <td>140.000000</td>\n",
       "    </tr>\n",
       "  </tbody>\n",
       "</table>\n",
       "</div>"
      ],
      "text/plain": [
       "        len_title     len_body  coleman_liau_index  n_comments    n_events\n",
       "count  894.000000   894.000000          894.000000  894.000000  894.000000\n",
       "mean     8.014541   132.934004           14.641588    4.712528   17.699105\n",
       "std      3.215794   124.287916           16.362245    4.990149   12.615960\n",
       "min      2.000000     0.000000          -22.210000    0.000000    0.000000\n",
       "25%      6.000000    43.000000            9.960000    2.000000   10.000000\n",
       "50%      8.000000   102.500000           12.180000    3.000000   15.000000\n",
       "75%     10.000000   191.000000           15.352500    6.000000   22.000000\n",
       "max     28.000000  1630.000000          346.400000   61.000000  140.000000"
      ]
     },
     "execution_count": 4,
     "metadata": {},
     "output_type": "execute_result"
    }
   ],
   "source": [
    "metrics = [\n",
    "    \"len_title\", \"len_body\", \n",
    "    #\"n_code_snips\", \"n_urls\", \"n_imgs\", \n",
    "    \"coleman_liau_index\", \n",
    "    #\"flesch_reading_ease\", \"flesch_kincaid_grade\", \"automated_readability_index\", \n",
    "    \"n_comments\", \"n_events\"\n",
    "]\n",
    "otc_gfi[metrics].describe()"
   ]
  },
  {
   "cell_type": "code",
   "execution_count": 5,
   "metadata": {},
   "outputs": [
    {
     "data": {
      "text/html": [
       "<div>\n",
       "<style scoped>\n",
       "    .dataframe tbody tr th:only-of-type {\n",
       "        vertical-align: middle;\n",
       "    }\n",
       "\n",
       "    .dataframe tbody tr th {\n",
       "        vertical-align: top;\n",
       "    }\n",
       "\n",
       "    .dataframe thead th {\n",
       "        text-align: right;\n",
       "    }\n",
       "</style>\n",
       "<table border=\"1\" class=\"dataframe\">\n",
       "  <thead>\n",
       "    <tr style=\"text-align: right;\">\n",
       "      <th></th>\n",
       "      <th>len_title</th>\n",
       "      <th>len_body</th>\n",
       "      <th>coleman_liau_index</th>\n",
       "      <th>n_comments</th>\n",
       "      <th>n_events</th>\n",
       "    </tr>\n",
       "  </thead>\n",
       "  <tbody>\n",
       "    <tr>\n",
       "      <th>count</th>\n",
       "      <td>449.000000</td>\n",
       "      <td>449.000000</td>\n",
       "      <td>449.000000</td>\n",
       "      <td>449.000000</td>\n",
       "      <td>449.000000</td>\n",
       "    </tr>\n",
       "    <tr>\n",
       "      <th>mean</th>\n",
       "      <td>8.182628</td>\n",
       "      <td>126.563474</td>\n",
       "      <td>13.581670</td>\n",
       "      <td>4.563474</td>\n",
       "      <td>17.590200</td>\n",
       "    </tr>\n",
       "    <tr>\n",
       "      <th>std</th>\n",
       "      <td>3.196337</td>\n",
       "      <td>101.613374</td>\n",
       "      <td>17.022839</td>\n",
       "      <td>5.009910</td>\n",
       "      <td>12.456227</td>\n",
       "    </tr>\n",
       "    <tr>\n",
       "      <th>min</th>\n",
       "      <td>1.000000</td>\n",
       "      <td>0.000000</td>\n",
       "      <td>-33.810000</td>\n",
       "      <td>0.000000</td>\n",
       "      <td>1.000000</td>\n",
       "    </tr>\n",
       "    <tr>\n",
       "      <th>25%</th>\n",
       "      <td>6.000000</td>\n",
       "      <td>41.000000</td>\n",
       "      <td>9.600000</td>\n",
       "      <td>1.000000</td>\n",
       "      <td>9.000000</td>\n",
       "    </tr>\n",
       "    <tr>\n",
       "      <th>50%</th>\n",
       "      <td>8.000000</td>\n",
       "      <td>108.000000</td>\n",
       "      <td>11.810000</td>\n",
       "      <td>3.000000</td>\n",
       "      <td>15.000000</td>\n",
       "    </tr>\n",
       "    <tr>\n",
       "      <th>75%</th>\n",
       "      <td>10.000000</td>\n",
       "      <td>189.000000</td>\n",
       "      <td>14.030000</td>\n",
       "      <td>6.000000</td>\n",
       "      <td>22.000000</td>\n",
       "    </tr>\n",
       "    <tr>\n",
       "      <th>max</th>\n",
       "      <td>21.000000</td>\n",
       "      <td>543.000000</td>\n",
       "      <td>296.800000</td>\n",
       "      <td>34.000000</td>\n",
       "      <td>89.000000</td>\n",
       "    </tr>\n",
       "  </tbody>\n",
       "</table>\n",
       "</div>"
      ],
      "text/plain": [
       "        len_title    len_body  coleman_liau_index  n_comments    n_events\n",
       "count  449.000000  449.000000          449.000000  449.000000  449.000000\n",
       "mean     8.182628  126.563474           13.581670    4.563474   17.590200\n",
       "std      3.196337  101.613374           17.022839    5.009910   12.456227\n",
       "min      1.000000    0.000000          -33.810000    0.000000    1.000000\n",
       "25%      6.000000   41.000000            9.600000    1.000000    9.000000\n",
       "50%      8.000000  108.000000           11.810000    3.000000   15.000000\n",
       "75%     10.000000  189.000000           14.030000    6.000000   22.000000\n",
       "max     21.000000  543.000000          296.800000   34.000000   89.000000"
      ]
     },
     "execution_count": 5,
     "metadata": {},
     "output_type": "execute_result"
    }
   ],
   "source": [
    "notc_gfi[metrics].describe()"
   ]
  },
  {
   "cell_type": "code",
   "execution_count": 6,
   "metadata": {},
   "outputs": [
    {
     "name": "stdout",
     "output_type": "stream",
     "text": [
      "len_title                      MannwhitneyuResult(statistic=208163.0, pvalue=0.26348717274588085)\n",
      "len_body                       MannwhitneyuResult(statistic=197727.5, pvalue=0.6572580367520774)\n",
      "coleman_liau_index             MannwhitneyuResult(statistic=183658.0, pvalue=0.011020454270767263)\n",
      "n_comments                     MannwhitneyuResult(statistic=192339.5, pvalue=0.20967242028056132)\n",
      "n_events                       MannwhitneyuResult(statistic=197661.0, pvalue=0.6498720012686057)\n"
     ]
    }
   ],
   "source": [
    "for metric in metrics:\n",
    "    print(f\"{metric:30} {mannwhitneyu(notc_gfi[metric], otc_gfi[metric])}\")"
   ]
  },
  {
   "cell_type": "code",
   "execution_count": 7,
   "metadata": {},
   "outputs": [
    {
     "data": {
      "text/plain": [
       "[('good first issue', 0.31543624161073824),\n",
       " ('Docs', 0.2796420581655481),\n",
       " ('Bug', 0.2695749440715884),\n",
       " ('Effort Low', 0.23937360178970918),\n",
       " ('Difficulty Novice', 0.1331096196868009),\n",
       " ('Reshaping', 0.0894854586129754),\n",
       " ('Needs Tests', 0.0738255033557047),\n",
       " ('Difficulty Intermediate', 0.07158836689038031),\n",
       " ('Error Reporting', 0.06935123042505593),\n",
       " ('Enhancement', 0.06599552572706935),\n",
       " ('Timeseries', 0.05704697986577181),\n",
       " ('Indexing', 0.05480984340044743),\n",
       " ('Groupby', 0.053691275167785234),\n",
       " ('Visualization', 0.0447427293064877),\n",
       " ('Regression', 0.039149888143176735),\n",
       " ('Dtypes', 0.039149888143176735),\n",
       " ('API Design', 0.039149888143176735),\n",
       " ('Effort Medium', 0.03803131991051454),\n",
       " ('MultiIndex', 0.03467561521252797),\n",
       " ('Testing', 0.03355704697986577)]"
      ]
     },
     "execution_count": 7,
     "metadata": {},
     "output_type": "execute_result"
    }
   ],
   "source": [
    "list(map(\n",
    "    lambda x: (x[0], x[1] / len(otc_gfi)), \n",
    "    sorted(Counter(sum(otc_gfi.labels, [])).items(), key=lambda x: -x[1])[0:20]\n",
    "))"
   ]
  },
  {
   "cell_type": "code",
   "execution_count": 8,
   "metadata": {},
   "outputs": [
    {
     "data": {
      "text/plain": [
       "[('Bug', 0.32516703786191536),\n",
       " ('good first issue', 0.3028953229398664),\n",
       " ('Effort Low', 0.23608017817371937),\n",
       " ('Docs', 0.18262806236080179),\n",
       " ('Difficulty Novice', 0.12694877505567928),\n",
       " ('Needs Tests', 0.111358574610245),\n",
       " ('Reshaping', 0.0957683741648107),\n",
       " ('Difficulty Intermediate', 0.0801781737193764),\n",
       " ('Groupby', 0.0645879732739421),\n",
       " ('Timeseries', 0.05790645879732739),\n",
       " ('Indexing', 0.053452115812917596),\n",
       " ('Error Reporting', 0.051224944320712694),\n",
       " ('MultiIndex', 0.04899777282850779),\n",
       " ('Enhancement', 0.04899777282850779),\n",
       " ('API Design', 0.042316258351893093),\n",
       " ('Effort Medium', 0.0400890868596882),\n",
       " ('Categorical', 0.0400890868596882),\n",
       " ('Dtypes', 0.0378619153674833),\n",
       " ('Numeric', 0.0378619153674833),\n",
       " ('Testing', 0.0378619153674833)]"
      ]
     },
     "execution_count": 8,
     "metadata": {},
     "output_type": "execute_result"
    }
   ],
   "source": [
    "list(map(\n",
    "    lambda x: (x[0], x[1] / len(notc_gfi)), \n",
    "    sorted(Counter(sum(notc_gfi.labels, [])).items(), key=lambda x: -x[1])[0:20]\n",
    "))"
   ]
  },
  {
   "cell_type": "code",
   "execution_count": 9,
   "metadata": {},
   "outputs": [
    {
     "name": "stdout",
     "output_type": "stream",
     "text": [
      "Optimization terminated successfully.\n",
      "         Current function value: 0.640918\n",
      "         Iterations 6\n"
     ]
    },
    {
     "data": {
      "text/html": [
       "<table class=\"simpletable\">\n",
       "<caption>Logit Regression Results</caption>\n",
       "<tr>\n",
       "  <th>Dep. Variable:</th>       <td>resolver</td>     <th>  No. Observations:  </th>  <td>  1343</td>  \n",
       "</tr>\n",
       "<tr>\n",
       "  <th>Model:</th>                 <td>Logit</td>      <th>  Df Residuals:      </th>  <td>  1338</td>  \n",
       "</tr>\n",
       "<tr>\n",
       "  <th>Method:</th>                 <td>MLE</td>       <th>  Df Model:          </th>  <td>     4</td>  \n",
       "</tr>\n",
       "<tr>\n",
       "  <th>Date:</th>            <td>Sat, 21 May 2022</td> <th>  Pseudo R-squ.:     </th> <td>-0.005835</td>\n",
       "</tr>\n",
       "<tr>\n",
       "  <th>Time:</th>                <td>20:35:56</td>     <th>  Log-Likelihood:    </th> <td> -860.75</td> \n",
       "</tr>\n",
       "<tr>\n",
       "  <th>converged:</th>             <td>True</td>       <th>  LL-Null:           </th> <td> -855.76</td> \n",
       "</tr>\n",
       "<tr>\n",
       "  <th>Covariance Type:</th>     <td>nonrobust</td>    <th>  LLR p-value:       </th>  <td> 1.000</td>  \n",
       "</tr>\n",
       "</table>\n",
       "<table class=\"simpletable\">\n",
       "<tr>\n",
       "           <td></td>             <th>coef</th>     <th>std err</th>      <th>z</th>      <th>P>|z|</th>  <th>[0.025</th>    <th>0.975]</th>  \n",
       "</tr>\n",
       "<tr>\n",
       "  <th>len_title</th>          <td>   -0.0255</td> <td>    0.014</td> <td>   -1.801</td> <td> 0.072</td> <td>   -0.053</td> <td>    0.002</td>\n",
       "</tr>\n",
       "<tr>\n",
       "  <th>len_body</th>           <td>   -0.0009</td> <td>    0.001</td> <td>   -1.677</td> <td> 0.094</td> <td>   -0.002</td> <td>    0.000</td>\n",
       "</tr>\n",
       "<tr>\n",
       "  <th>coleman_liau_index</th> <td>   -0.0127</td> <td>    0.005</td> <td>   -2.317</td> <td> 0.021</td> <td>   -0.023</td> <td>   -0.002</td>\n",
       "</tr>\n",
       "<tr>\n",
       "  <th>n_comments</th>         <td>   -0.0058</td> <td>    0.023</td> <td>   -0.259</td> <td> 0.796</td> <td>   -0.050</td> <td>    0.038</td>\n",
       "</tr>\n",
       "<tr>\n",
       "  <th>n_events</th>           <td>   -0.0057</td> <td>    0.009</td> <td>   -0.669</td> <td> 0.503</td> <td>   -0.023</td> <td>    0.011</td>\n",
       "</tr>\n",
       "</table>"
      ],
      "text/plain": [
       "<class 'statsmodels.iolib.summary.Summary'>\n",
       "\"\"\"\n",
       "                           Logit Regression Results                           \n",
       "==============================================================================\n",
       "Dep. Variable:               resolver   No. Observations:                 1343\n",
       "Model:                          Logit   Df Residuals:                     1338\n",
       "Method:                           MLE   Df Model:                            4\n",
       "Date:                Sat, 21 May 2022   Pseudo R-squ.:               -0.005835\n",
       "Time:                        20:35:56   Log-Likelihood:                -860.75\n",
       "converged:                       True   LL-Null:                       -855.76\n",
       "Covariance Type:            nonrobust   LLR p-value:                     1.000\n",
       "======================================================================================\n",
       "                         coef    std err          z      P>|z|      [0.025      0.975]\n",
       "--------------------------------------------------------------------------------------\n",
       "len_title             -0.0255      0.014     -1.801      0.072      -0.053       0.002\n",
       "len_body              -0.0009      0.001     -1.677      0.094      -0.002       0.000\n",
       "coleman_liau_index    -0.0127      0.005     -2.317      0.021      -0.023      -0.002\n",
       "n_comments            -0.0058      0.023     -0.259      0.796      -0.050       0.038\n",
       "n_events              -0.0057      0.009     -0.669      0.503      -0.023       0.011\n",
       "======================================================================================\n",
       "\"\"\""
      ]
     },
     "execution_count": 9,
     "metadata": {},
     "output_type": "execute_result"
    }
   ],
   "source": [
    "y = gfi.resolver.map(lambda r: contrib_cnt[r] > 1)\n",
    "X = gfi[metrics]\n",
    "log_reg = sm.Logit(y, X).fit()\n",
    "log_reg.summary()"
   ]
  }
 ],
 "metadata": {
  "interpreter": {
   "hash": "049a8604460f2081c18ff3d3c5faff36c5f42d2764146a4eefe932f52ee23c61"
  },
  "kernelspec": {
   "display_name": "Python 3.9.12 ('LTC-GFI')",
   "language": "python",
   "name": "python3"
  },
  "language_info": {
   "codemirror_mode": {
    "name": "ipython",
    "version": 3
   },
   "file_extension": ".py",
   "mimetype": "text/x-python",
   "name": "python",
   "nbconvert_exporter": "python",
   "pygments_lexer": "ipython3",
   "version": "3.9.12"
  },
  "orig_nbformat": 4
 },
 "nbformat": 4,
 "nbformat_minor": 2
}
